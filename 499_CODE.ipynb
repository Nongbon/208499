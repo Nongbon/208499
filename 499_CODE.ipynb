{
  "cells": [
    {
      "cell_type": "code",
      "execution_count": 1,
      "metadata": {
        "id": "WAtzOPtgsWPs"
      },
      "outputs": [],
      "source": [
        "import pandas as pd\n",
        "import numpy as np\n",
        "import matplotlib.pyplot as plt\n",
        "from matplotlib import pyplot\n",
        "from matplotlib import dates as mpl_dates"
      ]
    },
    {
      "cell_type": "code",
      "execution_count": 2,
      "metadata": {
        "id": "BE3VWsX-sSAN"
      },
      "outputs": [],
      "source": [
        "data = pd.read_csv(\"ETH.csv\").drop([\"slug\",\"name\",\"symbol\",\"ref_cur\",\"time_open\",\"time_close\",\"time_high\",\"time_low\",\"id\",\"market_cap\"],axis=1)\n",
        "data = data.loc[:, ~data.columns.str.contains('^Unnamed')]\n",
        "data = data.rename({'timestamp':'date'},axis=1)"
      ]
    },
    {
      "cell_type": "code",
      "execution_count": 3,
      "metadata": {
        "colab": {
          "base_uri": "https://localhost:8080/",
          "height": 423
        },
        "id": "ocPtXZay99DC",
        "outputId": "8f07ade2-cdd7-4392-c16b-8e22af4dad59"
      },
      "outputs": [
        {
          "data": {
            "text/html": [
              "<div>\n",
              "<style scoped>\n",
              "    .dataframe tbody tr th:only-of-type {\n",
              "        vertical-align: middle;\n",
              "    }\n",
              "\n",
              "    .dataframe tbody tr th {\n",
              "        vertical-align: top;\n",
              "    }\n",
              "\n",
              "    .dataframe thead th {\n",
              "        text-align: right;\n",
              "    }\n",
              "</style>\n",
              "<table border=\"1\" class=\"dataframe\">\n",
              "  <thead>\n",
              "    <tr style=\"text-align: right;\">\n",
              "      <th></th>\n",
              "      <th>date</th>\n",
              "      <th>open</th>\n",
              "      <th>high</th>\n",
              "      <th>low</th>\n",
              "      <th>close</th>\n",
              "      <th>volume</th>\n",
              "    </tr>\n",
              "  </thead>\n",
              "  <tbody>\n",
              "    <tr>\n",
              "      <th>0</th>\n",
              "      <td>2015-08-07</td>\n",
              "      <td>2.831620</td>\n",
              "      <td>3.536610</td>\n",
              "      <td>2.521120</td>\n",
              "      <td>2.772120</td>\n",
              "      <td>1.643290e+05</td>\n",
              "    </tr>\n",
              "    <tr>\n",
              "      <th>1</th>\n",
              "      <td>2015-08-08</td>\n",
              "      <td>2.793760</td>\n",
              "      <td>2.798810</td>\n",
              "      <td>0.714725</td>\n",
              "      <td>0.753325</td>\n",
              "      <td>6.741880e+05</td>\n",
              "    </tr>\n",
              "    <tr>\n",
              "      <th>2</th>\n",
              "      <td>2015-08-09</td>\n",
              "      <td>0.706136</td>\n",
              "      <td>0.879810</td>\n",
              "      <td>0.629191</td>\n",
              "      <td>0.701897</td>\n",
              "      <td>5.321700e+05</td>\n",
              "    </tr>\n",
              "    <tr>\n",
              "      <th>3</th>\n",
              "      <td>2015-08-10</td>\n",
              "      <td>0.713989</td>\n",
              "      <td>0.729854</td>\n",
              "      <td>0.636546</td>\n",
              "      <td>0.708448</td>\n",
              "      <td>4.052830e+05</td>\n",
              "    </tr>\n",
              "    <tr>\n",
              "      <th>4</th>\n",
              "      <td>2015-08-11</td>\n",
              "      <td>0.708087</td>\n",
              "      <td>1.131410</td>\n",
              "      <td>0.663235</td>\n",
              "      <td>1.067860</td>\n",
              "      <td>1.463100e+06</td>\n",
              "    </tr>\n",
              "    <tr>\n",
              "      <th>...</th>\n",
              "      <td>...</td>\n",
              "      <td>...</td>\n",
              "      <td>...</td>\n",
              "      <td>...</td>\n",
              "      <td>...</td>\n",
              "      <td>...</td>\n",
              "    </tr>\n",
              "    <tr>\n",
              "      <th>2365</th>\n",
              "      <td>2022-01-27</td>\n",
              "      <td>2467.188460</td>\n",
              "      <td>2510.451687</td>\n",
              "      <td>2328.452267</td>\n",
              "      <td>2423.001263</td>\n",
              "      <td>1.612652e+10</td>\n",
              "    </tr>\n",
              "    <tr>\n",
              "      <th>2366</th>\n",
              "      <td>2022-01-28</td>\n",
              "      <td>2421.646910</td>\n",
              "      <td>2548.778569</td>\n",
              "      <td>2367.833737</td>\n",
              "      <td>2547.091978</td>\n",
              "      <td>1.466623e+10</td>\n",
              "    </tr>\n",
              "    <tr>\n",
              "      <th>2367</th>\n",
              "      <td>2022-01-29</td>\n",
              "      <td>2546.590514</td>\n",
              "      <td>2627.609410</td>\n",
              "      <td>2526.989644</td>\n",
              "      <td>2597.084692</td>\n",
              "      <td>1.117206e+10</td>\n",
              "    </tr>\n",
              "    <tr>\n",
              "      <th>2368</th>\n",
              "      <td>2022-01-30</td>\n",
              "      <td>2598.564990</td>\n",
              "      <td>2631.408416</td>\n",
              "      <td>2550.461009</td>\n",
              "      <td>2603.466582</td>\n",
              "      <td>9.501221e+09</td>\n",
              "    </tr>\n",
              "    <tr>\n",
              "      <th>2369</th>\n",
              "      <td>2022-01-31</td>\n",
              "      <td>2603.263396</td>\n",
              "      <td>2697.735368</td>\n",
              "      <td>2489.072176</td>\n",
              "      <td>2688.278922</td>\n",
              "      <td>1.377823e+10</td>\n",
              "    </tr>\n",
              "  </tbody>\n",
              "</table>\n",
              "<p>2370 rows × 6 columns</p>\n",
              "</div>"
            ],
            "text/plain": [
              "           date         open         high          low        close  \\\n",
              "0    2015-08-07     2.831620     3.536610     2.521120     2.772120   \n",
              "1    2015-08-08     2.793760     2.798810     0.714725     0.753325   \n",
              "2    2015-08-09     0.706136     0.879810     0.629191     0.701897   \n",
              "3    2015-08-10     0.713989     0.729854     0.636546     0.708448   \n",
              "4    2015-08-11     0.708087     1.131410     0.663235     1.067860   \n",
              "...         ...          ...          ...          ...          ...   \n",
              "2365 2022-01-27  2467.188460  2510.451687  2328.452267  2423.001263   \n",
              "2366 2022-01-28  2421.646910  2548.778569  2367.833737  2547.091978   \n",
              "2367 2022-01-29  2546.590514  2627.609410  2526.989644  2597.084692   \n",
              "2368 2022-01-30  2598.564990  2631.408416  2550.461009  2603.466582   \n",
              "2369 2022-01-31  2603.263396  2697.735368  2489.072176  2688.278922   \n",
              "\n",
              "            volume  \n",
              "0     1.643290e+05  \n",
              "1     6.741880e+05  \n",
              "2     5.321700e+05  \n",
              "3     4.052830e+05  \n",
              "4     1.463100e+06  \n",
              "...            ...  \n",
              "2365  1.612652e+10  \n",
              "2366  1.466623e+10  \n",
              "2367  1.117206e+10  \n",
              "2368  9.501221e+09  \n",
              "2369  1.377823e+10  \n",
              "\n",
              "[2370 rows x 6 columns]"
            ]
          },
          "execution_count": 3,
          "metadata": {},
          "output_type": "execute_result"
        }
      ],
      "source": [
        "data['date'] = data['date'].astype('str') \n",
        "data['date'] = data['date'].map(lambda x: x.rstrip('23:59:59'))\n",
        "data['date'] = pd.to_datetime(data['date'])\n",
        "data"
      ]
    },
    {
      "cell_type": "code",
      "execution_count": 4,
      "metadata": {
        "colab": {
          "base_uri": "https://localhost:8080/"
        },
        "id": "F7FLUG4NRUVj",
        "outputId": "8f755ef7-b9d6-4a1a-f568-70f36d9a8138"
      },
      "outputs": [
        {
          "name": "stdout",
          "output_type": "stream",
          "text": [
            "<class 'pandas.core.frame.DataFrame'>\n",
            "RangeIndex: 2370 entries, 0 to 2369\n",
            "Data columns (total 6 columns):\n",
            " #   Column  Non-Null Count  Dtype         \n",
            "---  ------  --------------  -----         \n",
            " 0   date    2370 non-null   datetime64[ns]\n",
            " 1   open    2370 non-null   float64       \n",
            " 2   high    2370 non-null   float64       \n",
            " 3   low     2370 non-null   float64       \n",
            " 4   close   2370 non-null   float64       \n",
            " 5   volume  2370 non-null   float64       \n",
            "dtypes: datetime64[ns](1), float64(5)\n",
            "memory usage: 111.2 KB\n"
          ]
        }
      ],
      "source": [
        "data.info()"
      ]
    },
    {
      "cell_type": "code",
      "execution_count": 5,
      "metadata": {
        "colab": {
          "base_uri": "https://localhost:8080/",
          "height": 605
        },
        "id": "nv7i5o6lIYJo",
        "outputId": "71d7cffd-2a09-4683-acc9-1d1485e374bc"
      },
      "outputs": [
        {
          "data": {
            "image/png": "[encoded data removed]",
            "text/plain": [
              "<Figure size 1440x720 with 1 Axes>"
            ]
          },
          "metadata": {
            "needs_background": "light"
          },
          "output_type": "display_data"
        }
      ],
      "source": [
        "plt.figure(figsize=(20,10))\n",
        "plt.plot(data['date'],data['close'])\n",
        "plt.xlabel('Date')\n",
        "plt.ylabel('Close price')\n",
        "plt.show()"
      ]
    },
    {
      "cell_type": "code",
      "execution_count": 6,
      "metadata": {
        "colab": {
          "base_uri": "https://localhost:8080/"
        },
        "id": "4-2gE8MiRm0_",
        "outputId": "1adc43bf-901c-48e4-f783-f579ce9c39de"
      },
      "outputs": [
        {
          "data": {
            "text/plain": [
              "2370"
            ]
          },
          "execution_count": 6,
          "metadata": {},
          "output_type": "execute_result"
        }
      ],
      "source": [
        "n = len(data)\n",
        "n"
      ]
    },
    {
      "cell_type": "code",
      "execution_count": 7,
      "metadata": {
        "colab": {
          "base_uri": "https://localhost:8080/"
        },
        "id": "Ym9h8WYAs0Dm",
        "outputId": "ae01b374-3c36-4896-b1d8-ea18ba179fc7"
      },
      "outputs": [
        {
          "name": "stderr",
          "output_type": "stream",
          "text": [
            "<ipython-input-7-30c4662e37d1>:4: SettingWithCopyWarning: \n",
            "A value is trying to be set on a copy of a slice from a DataFrame\n",
            "\n",
            "See the caveats in the documentation: https://pandas.pydata.org/pandas-docs/stable/user_guide/indexing.html#returning-a-view-versus-a-copy\n",
            "  data['label'][i+1] = data['close'][i+1] / data['close'][i]\n"
          ]
        }
      ],
      "source": [
        "data['label'] = ''\n",
        "for i in range(len(data)) :\n",
        "  if i+1 < n :\n",
        "    data['label'][i+1] = data['close'][i+1] / data['close'][i]"
      ]
    },
    {
      "cell_type": "code",
      "execution_count": 8,
      "metadata": {
        "colab": {
          "base_uri": "https://localhost:8080/"
        },
        "id": "9kPlSuhS7th9",
        "outputId": "12927e05-c8c4-4baf-b1c9-aaf73f55b216"
      },
      "outputs": [
        {
          "name": "stderr",
          "output_type": "stream",
          "text": [
            "<ipython-input-8-c4ac8a02e2c7>:7: SettingWithCopyWarning: \n",
            "A value is trying to be set on a copy of a slice from a DataFrame\n",
            "\n",
            "See the caveats in the documentation: https://pandas.pydata.org/pandas-docs/stable/user_guide/indexing.html#returning-a-view-versus-a-copy\n",
            "  data['Y'][i+1] = 0\n",
            "<ipython-input-8-c4ac8a02e2c7>:5: SettingWithCopyWarning: \n",
            "A value is trying to be set on a copy of a slice from a DataFrame\n",
            "\n",
            "See the caveats in the documentation: https://pandas.pydata.org/pandas-docs/stable/user_guide/indexing.html#returning-a-view-versus-a-copy\n",
            "  data['Y'][i+1] = 1\n"
          ]
        }
      ],
      "source": [
        "data['Y'] = ''\n",
        "for i in range(len(data)) :\n",
        "  if i+1 < n :\n",
        "    if data['label'][i+1] > 1 :\n",
        "      data['Y'][i+1] = 1\n",
        "    else : \n",
        "      data['Y'][i+1] = 0"
      ]
    },
    {
      "cell_type": "markdown",
      "metadata": {
        "id": "j1ovI0T6EHoK"
      },
      "source": [
        "# **Input Indicator**"
      ]
    },
    {
      "cell_type": "code",
      "execution_count": 9,
      "metadata": {
        "id": "mchWS2jGygGS"
      },
      "outputs": [],
      "source": [
        "t_period = 10"
      ]
    },
    {
      "cell_type": "markdown",
      "metadata": {
        "id": "cMgmlIzaTbiv"
      },
      "source": [
        "## **SMA**"
      ]
    },
    {
      "cell_type": "code",
      "execution_count": 10,
      "metadata": {
        "id": "7Z4F-P1xTlm_"
      },
      "outputs": [],
      "source": [
        "data['sma10'] = ''\n",
        "data['sma10'] = data['close'].rolling(t_period).mean()"
      ]
    },
    {
      "cell_type": "markdown",
      "metadata": {
        "id": "vKzas7-vEOqw"
      },
      "source": [
        "## **WMA**"
      ]
    },
    {
      "cell_type": "code",
      "execution_count": 11,
      "metadata": {
        "colab": {
          "base_uri": "https://localhost:8080/"
        },
        "id": "Un5Oy20SPDH3",
        "outputId": "69539d8d-05a7-4415-af1d-afdca69e3ca2"
      },
      "outputs": [
        {
          "data": {
            "text/plain": [
              "array([ 1,  2,  3,  4,  5,  6,  7,  8,  9, 10])"
            ]
          },
          "execution_count": 11,
          "metadata": {},
          "output_type": "execute_result"
        }
      ],
      "source": [
        "weights = np.arange(1,11)\n",
        "weights"
      ]
    },
    {
      "cell_type": "code",
      "execution_count": 12,
      "metadata": {
        "id": "hCKkVXf1PIcr"
      },
      "outputs": [],
      "source": [
        "data['wma10'] = ''\n",
        "data['wma10'] = data['close'].rolling(t_period).apply(lambda close: np.dot(close, weights)/weights.sum(), raw=True)"
      ]
    },
    {
      "cell_type": "markdown",
      "metadata": {
        "id": "ETGiel0-ypWe"
      },
      "source": [
        "## **MACD**"
      ]
    },
    {
      "cell_type": "code",
      "execution_count": 13,
      "metadata": {
        "id": "AoVWpWKLyrVT"
      },
      "outputs": [],
      "source": [
        "exp1 = data['close'].ewm(span = 12 , adjust = False , min_periods=12).mean()\n",
        "exp2 = data['close'].ewm(span = 26 , adjust = False , min_periods=26).mean()\n",
        "macd = exp1 - exp2\n",
        "data['MACD'] = macd"
      ]
    },
    {
      "cell_type": "markdown",
      "metadata": {
        "id": "heaIG-sC4Ubf"
      },
      "source": [
        "## **%K**"
      ]
    },
    {
      "cell_type": "code",
      "execution_count": 14,
      "metadata": {
        "id": "--RjDkKdytp9"
      },
      "outputs": [],
      "source": [
        "k_period = 14\n",
        "# Adds a \"n_high\" column with max value of previous 14 periods\n",
        "n_high = data['high'].rolling(k_period).max()\n",
        "# Adds an \"n_low\" column with min value of previous 14 periods\n",
        "n_low = data['low'].rolling(k_period).min()\n",
        "# Uses the min/max values to calculate the %k (as a percentage)\n",
        "data['%K'] = (data['close'] - n_low)  / (n_high - n_low) * 100"
      ]
    },
    {
      "cell_type": "markdown",
      "metadata": {
        "id": "PxSOBbUQ4Ydo"
      },
      "source": [
        "## **RSI**"
      ]
    },
    {
      "cell_type": "code",
      "execution_count": 15,
      "metadata": {
        "id": "72dLephGywfG"
      },
      "outputs": [],
      "source": [
        "def rsi(data, periods = 14, ema = True):\n",
        "    \"\"\"\n",
        "    Returns a pd.Series with the relative strength index.\n",
        "    \"\"\"\n",
        "    close_delta = data['close'].diff()\n",
        "\n",
        "    # Make two series: one for lower closes and one for higher closes\n",
        "    up = close_delta.clip(lower=0)\n",
        "    down = -1 * close_delta.clip(upper=0)\n",
        "    \n",
        "    if ema == True:\n",
        "\t    # Use exponential moving average\n",
        "        ma_up = up.ewm(com = periods - 1, adjust=True, min_periods = periods).mean()\n",
        "        ma_down = down.ewm(com = periods - 1, adjust=True, min_periods = periods).mean()\n",
        "    else:\n",
        "        # Use simple moving average\n",
        "        ma_up = up.rolling(window = periods, adjust=False).mean()\n",
        "        ma_down = down.rolling(window = periods, adjust=False).mean()\n",
        "        \n",
        "    rsi = ma_up / ma_down\n",
        "    rsi = 100 - (100/(1 + rsi))\n",
        "    return rsi"
      ]
    },
    {
      "cell_type": "code",
      "execution_count": 16,
      "metadata": {
        "id": "iXA5zekNyyb-"
      },
      "outputs": [],
      "source": [
        "data['RSI'] = rsi(data, periods = 14, ema = True)"
      ]
    },
    {
      "cell_type": "markdown",
      "metadata": {
        "id": "aXY1A8ze4dc1"
      },
      "source": [
        "## **%R**"
      ]
    },
    {
      "cell_type": "code",
      "execution_count": 17,
      "metadata": {
        "id": "ZUxfZ_VJyzh_"
      },
      "outputs": [],
      "source": [
        "def get_wr(high, low, close, periods = 14):\n",
        "    highh = high.rolling(14).max() \n",
        "    lowl = low.rolling(14).min()\n",
        "    wr = -100 * ((highh - close) / (highh - lowl))\n",
        "    return wr\n",
        "\n",
        "data['%R'] = get_wr(data['high'], data['low'], data['close'], periods = 14)"
      ]
    },
    {
      "cell_type": "markdown",
      "metadata": {
        "id": "hMOOlE5jUlK1"
      },
      "source": [
        "# **Model**"
      ]
    },
    {
      "cell_type": "code",
      "execution_count": 18,
      "metadata": {
        "id": "VYRvqWMizUqf"
      },
      "outputs": [],
      "source": [
        "data = data.dropna()"
      ]
    },
    {
      "cell_type": "code",
      "execution_count": 19,
      "metadata": {
        "id": "mXeBJGuZy4KH"
      },
      "outputs": [],
      "source": [
        "data = data.astype({\"Y\":int})"
      ]
    },
    {
      "cell_type": "code",
      "execution_count": 20,
      "metadata": {
        "colab": {
          "base_uri": "https://localhost:8080/",
          "height": 423
        },
        "id": "So2DknhqzPQY",
        "outputId": "da7c9ec6-139b-4e15-a2ad-71029f03834c"
      },
      "outputs": [
        {
          "data": {
            "text/html": [
              "<div>\n",
              "<style scoped>\n",
              "    .dataframe tbody tr th:only-of-type {\n",
              "        vertical-align: middle;\n",
              "    }\n",
              "\n",
              "    .dataframe tbody tr th {\n",
              "        vertical-align: top;\n",
              "    }\n",
              "\n",
              "    .dataframe thead th {\n",
              "        text-align: right;\n",
              "    }\n",
              "</style>\n",
              "<table border=\"1\" class=\"dataframe\">\n",
              "  <thead>\n",
              "    <tr style=\"text-align: right;\">\n",
              "      <th></th>\n",
              "      <th>date</th>\n",
              "      <th>open</th>\n",
              "      <th>high</th>\n",
              "      <th>low</th>\n",
              "      <th>close</th>\n",
              "      <th>volume</th>\n",
              "      <th>label</th>\n",
              "      <th>Y</th>\n",
              "      <th>sma10</th>\n",
              "      <th>wma10</th>\n",
              "      <th>MACD</th>\n",
              "      <th>%K</th>\n",
              "      <th>RSI</th>\n",
              "      <th>%R</th>\n",
              "    </tr>\n",
              "  </thead>\n",
              "  <tbody>\n",
              "    <tr>\n",
              "      <th>25</th>\n",
              "      <td>2015-09-01</td>\n",
              "      <td>1.353480</td>\n",
              "      <td>1.392740</td>\n",
              "      <td>1.336630</td>\n",
              "      <td>1.351610</td>\n",
              "      <td>7.788620e+05</td>\n",
              "      <td>0.995119</td>\n",
              "      <td>0</td>\n",
              "      <td>1.243478</td>\n",
              "      <td>1.260630</td>\n",
              "      <td>-0.193357</td>\n",
              "      <td>58.589932</td>\n",
              "      <td>43.772935</td>\n",
              "      <td>-41.410068</td>\n",
              "    </tr>\n",
              "    <tr>\n",
              "      <th>26</th>\n",
              "      <td>2015-09-02</td>\n",
              "      <td>1.351570</td>\n",
              "      <td>1.354910</td>\n",
              "      <td>1.264620</td>\n",
              "      <td>1.294790</td>\n",
              "      <td>8.837690e+05</td>\n",
              "      <td>0.957961</td>\n",
              "      <td>0</td>\n",
              "      <td>1.237698</td>\n",
              "      <td>1.269960</td>\n",
              "      <td>-0.179722</td>\n",
              "      <td>47.101644</td>\n",
              "      <td>41.931344</td>\n",
              "      <td>-52.898356</td>\n",
              "    </tr>\n",
              "    <tr>\n",
              "      <th>27</th>\n",
              "      <td>2015-09-03</td>\n",
              "      <td>1.295190</td>\n",
              "      <td>1.309990</td>\n",
              "      <td>1.211030</td>\n",
              "      <td>1.264930</td>\n",
              "      <td>7.029910e+05</td>\n",
              "      <td>0.976938</td>\n",
              "      <td>0</td>\n",
              "      <td>1.241064</td>\n",
              "      <td>1.274911</td>\n",
              "      <td>-0.169373</td>\n",
              "      <td>41.064315</td>\n",
              "      <td>40.956172</td>\n",
              "      <td>-58.935685</td>\n",
              "    </tr>\n",
              "    <tr>\n",
              "      <th>28</th>\n",
              "      <td>2015-09-04</td>\n",
              "      <td>1.264930</td>\n",
              "      <td>1.302520</td>\n",
              "      <td>1.236810</td>\n",
              "      <td>1.274410</td>\n",
              "      <td>4.743910e+05</td>\n",
              "      <td>1.007494</td>\n",
              "      <td>1</td>\n",
              "      <td>1.254486</td>\n",
              "      <td>1.280974</td>\n",
              "      <td>-0.158579</td>\n",
              "      <td>51.275983</td>\n",
              "      <td>41.421951</td>\n",
              "      <td>-48.724017</td>\n",
              "    </tr>\n",
              "    <tr>\n",
              "      <th>29</th>\n",
              "      <td>2015-09-05</td>\n",
              "      <td>1.280560</td>\n",
              "      <td>1.342300</td>\n",
              "      <td>1.271190</td>\n",
              "      <td>1.338810</td>\n",
              "      <td>4.484530e+05</td>\n",
              "      <td>1.050533</td>\n",
              "      <td>1</td>\n",
              "      <td>1.272369</td>\n",
              "      <td>1.296306</td>\n",
              "      <td>-0.143177</td>\n",
              "      <td>79.621677</td>\n",
              "      <td>44.618160</td>\n",
              "      <td>-20.378323</td>\n",
              "    </tr>\n",
              "    <tr>\n",
              "      <th>...</th>\n",
              "      <td>...</td>\n",
              "      <td>...</td>\n",
              "      <td>...</td>\n",
              "      <td>...</td>\n",
              "      <td>...</td>\n",
              "      <td>...</td>\n",
              "      <td>...</td>\n",
              "      <td>...</td>\n",
              "      <td>...</td>\n",
              "      <td>...</td>\n",
              "      <td>...</td>\n",
              "      <td>...</td>\n",
              "      <td>...</td>\n",
              "      <td>...</td>\n",
              "    </tr>\n",
              "    <tr>\n",
              "      <th>2365</th>\n",
              "      <td>2022-01-27</td>\n",
              "      <td>2467.188460</td>\n",
              "      <td>2510.451687</td>\n",
              "      <td>2328.452267</td>\n",
              "      <td>2423.001263</td>\n",
              "      <td>1.612652e+10</td>\n",
              "      <td>0.981755</td>\n",
              "      <td>0</td>\n",
              "      <td>2654.644170</td>\n",
              "      <td>2527.256987</td>\n",
              "      <td>-323.652279</td>\n",
              "      <td>20.820538</td>\n",
              "      <td>26.466646</td>\n",
              "      <td>-79.179462</td>\n",
              "    </tr>\n",
              "    <tr>\n",
              "      <th>2366</th>\n",
              "      <td>2022-01-28</td>\n",
              "      <td>2421.646910</td>\n",
              "      <td>2548.778569</td>\n",
              "      <td>2367.833737</td>\n",
              "      <td>2547.091978</td>\n",
              "      <td>1.466623e+10</td>\n",
              "      <td>1.051214</td>\n",
              "      <td>1</td>\n",
              "      <td>2592.950842</td>\n",
              "      <td>2507.702043</td>\n",
              "      <td>-311.996970</td>\n",
              "      <td>31.126220</td>\n",
              "      <td>32.790884</td>\n",
              "      <td>-68.873780</td>\n",
              "    </tr>\n",
              "    <tr>\n",
              "      <th>2367</th>\n",
              "      <td>2022-01-29</td>\n",
              "      <td>2546.590514</td>\n",
              "      <td>2627.609410</td>\n",
              "      <td>2526.989644</td>\n",
              "      <td>2597.084692</td>\n",
              "      <td>1.117206e+10</td>\n",
              "      <td>1.019627</td>\n",
              "      <td>1</td>\n",
              "      <td>2543.076728</td>\n",
              "      <td>2508.453652</td>\n",
              "      <td>-295.321774</td>\n",
              "      <td>35.278093</td>\n",
              "      <td>35.208536</td>\n",
              "      <td>-64.721907</td>\n",
              "    </tr>\n",
              "    <tr>\n",
              "      <th>2368</th>\n",
              "      <td>2022-01-30</td>\n",
              "      <td>2598.564990</td>\n",
              "      <td>2631.408416</td>\n",
              "      <td>2550.461009</td>\n",
              "      <td>2603.466582</td>\n",
              "      <td>9.501221e+09</td>\n",
              "      <td>1.002457</td>\n",
              "      <td>1</td>\n",
              "      <td>2503.311382</td>\n",
              "      <td>2519.433626</td>\n",
              "      <td>-278.382575</td>\n",
              "      <td>36.430824</td>\n",
              "      <td>35.527372</td>\n",
              "      <td>-63.569176</td>\n",
              "    </tr>\n",
              "    <tr>\n",
              "      <th>2369</th>\n",
              "      <td>2022-01-31</td>\n",
              "      <td>2603.263396</td>\n",
              "      <td>2697.735368</td>\n",
              "      <td>2489.072176</td>\n",
              "      <td>2688.278922</td>\n",
              "      <td>1.377823e+10</td>\n",
              "      <td>1.032577</td>\n",
              "      <td>1</td>\n",
              "      <td>2516.346112</td>\n",
              "      <td>2553.064087</td>\n",
              "      <td>-255.173015</td>\n",
              "      <td>47.205941</td>\n",
              "      <td>39.769295</td>\n",
              "      <td>-52.794059</td>\n",
              "    </tr>\n",
              "  </tbody>\n",
              "</table>\n",
              "<p>2345 rows × 14 columns</p>\n",
              "</div>"
            ],
            "text/plain": [
              "           date         open         high          low        close  \\\n",
              "25   2015-09-01     1.353480     1.392740     1.336630     1.351610   \n",
              "26   2015-09-02     1.351570     1.354910     1.264620     1.294790   \n",
              "27   2015-09-03     1.295190     1.309990     1.211030     1.264930   \n",
              "28   2015-09-04     1.264930     1.302520     1.236810     1.274410   \n",
              "29   2015-09-05     1.280560     1.342300     1.271190     1.338810   \n",
              "...         ...          ...          ...          ...          ...   \n",
              "2365 2022-01-27  2467.188460  2510.451687  2328.452267  2423.001263   \n",
              "2366 2022-01-28  2421.646910  2548.778569  2367.833737  2547.091978   \n",
              "2367 2022-01-29  2546.590514  2627.609410  2526.989644  2597.084692   \n",
              "2368 2022-01-30  2598.564990  2631.408416  2550.461009  2603.466582   \n",
              "2369 2022-01-31  2603.263396  2697.735368  2489.072176  2688.278922   \n",
              "\n",
              "            volume     label  Y        sma10        wma10        MACD  \\\n",
              "25    7.788620e+05  0.995119  0     1.243478     1.260630   -0.193357   \n",
              "26    8.837690e+05  0.957961  0     1.237698     1.269960   -0.179722   \n",
              "27    7.029910e+05  0.976938  0     1.241064     1.274911   -0.169373   \n",
              "28    4.743910e+05  1.007494  1     1.254486     1.280974   -0.158579   \n",
              "29    4.484530e+05  1.050533  1     1.272369     1.296306   -0.143177   \n",
              "...            ...       ... ..          ...          ...         ...   \n",
              "2365  1.612652e+10  0.981755  0  2654.644170  2527.256987 -323.652279   \n",
              "2366  1.466623e+10  1.051214  1  2592.950842  2507.702043 -311.996970   \n",
              "2367  1.117206e+10  1.019627  1  2543.076728  2508.453652 -295.321774   \n",
              "2368  9.501221e+09  1.002457  1  2503.311382  2519.433626 -278.382575   \n",
              "2369  1.377823e+10  1.032577  1  2516.346112  2553.064087 -255.173015   \n",
              "\n",
              "             %K        RSI         %R  \n",
              "25    58.589932  43.772935 -41.410068  \n",
              "26    47.101644  41.931344 -52.898356  \n",
              "27    41.064315  40.956172 -58.935685  \n",
              "28    51.275983  41.421951 -48.724017  \n",
              "29    79.621677  44.618160 -20.378323  \n",
              "...         ...        ...        ...  \n",
              "2365  20.820538  26.466646 -79.179462  \n",
              "2366  31.126220  32.790884 -68.873780  \n",
              "2367  35.278093  35.208536 -64.721907  \n",
              "2368  36.430824  35.527372 -63.569176  \n",
              "2369  47.205941  39.769295 -52.794059  \n",
              "\n",
              "[2345 rows x 14 columns]"
            ]
          },
          "execution_count": 20,
          "metadata": {},
          "output_type": "execute_result"
        }
      ],
      "source": [
        "data"
      ]
    },
    {
      "cell_type": "code",
      "execution_count": 21,
      "metadata": {
        "id": "Rbwee-Vw1hYa"
      },
      "outputs": [],
      "source": [
        "X = data[['sma10','wma10','MACD','%K','RSI','%R']].to_numpy()\n",
        "y = data.Y.to_numpy()"
      ]
    },
    {
      "cell_type": "code",
      "execution_count": 22,
      "metadata": {
        "colab": {
          "base_uri": "https://localhost:8080/"
        },
        "id": "nOYB-TWaa-Zu",
        "outputId": "3cc2a55b-440a-4828-c242-4179d944bd9f"
      },
      "outputs": [
        {
          "name": "stdout",
          "output_type": "stream",
          "text": [
            "TimeSeriesSplit(gap=0, max_train_size=None, n_splits=5, test_size=None)\n"
          ]
        }
      ],
      "source": [
        "from sklearn.model_selection import TimeSeriesSplit\n",
        "tscv = TimeSeriesSplit(n_splits=5)\n",
        "print(tscv)"
      ]
    },
    {
      "cell_type": "code",
      "execution_count": 23,
      "metadata": {
        "colab": {
          "base_uri": "https://localhost:8080/"
        },
        "id": "BERESQ3yracw",
        "outputId": "b2442090-00a5-4728-eee7-6e405f940a66"
      },
      "outputs": [
        {
          "name": "stdout",
          "output_type": "stream",
          "text": [
            "TRAIN: [  0   1   2   3   4   5   6   7   8   9  10  11  12  13  14  15  16  17\n",
            "  18  19  20  21  22  23  24  25  26  27  28  29  30  31  32  33  34  35\n",
            "  36  37  38  39  40  41  42  43  44  45  46  47  48  49  50  51  52  53\n",
            "  54  55  56  57  58  59  60  61  62  63  64  65  66  67  68  69  70  71\n",
            "  72  73  74  75  76  77  78  79  80  81  82  83  84  85  86  87  88  89\n",
            "  90  91  92  93  94  95  96  97  98  99 100 101 102 103 104 105 106 107\n",
            " 108 109 110 111 112 113 114 115 116 117 118 119 120 121 122 123 124 125\n",
            " 126 127 128 129 130 131 132 133 134 135 136 137 138 139 140 141 142 143\n",
            " 144 145 146 147 148 149 150 151 152 153 154 155 156 157 158 159 160 161\n",
            " 162 163 164 165 166 167 168 169 170 171 172 173 174 175 176 177 178 179\n",
            " 180 181 182 183 184 185 186 187 188 189 190 191 192 193 194 195 196 197\n",
            " 198 199 200 201 202 203 204 205 206 207 208 209 210 211 212 213 214 215\n",
            " 216 217 218 219 220 221 222 223 224 225 226 227 228 229 230 231 232 233\n",
            " 234 235 236 237 238 239 240 241 242 243 244 245 246 247 248 249 250 251\n",
            " 252 253 254 255 256 257 258 259 260 261 262 263 264 265 266 267 268 269\n",
            " 270 271 272 273 274 275 276 277 278 279 280 281 282 283 284 285 286 287\n",
            " 288 289 290 291 292 293 294 295 296 297 298 299 300 301 302 303 304 305\n",
            " 306 307 308 309 310 311 312 313 314 315 316 317 318 319 320 321 322 323\n",
            " 324 325 326 327 328 329 330 331 332 333 334 335 336 337 338 339 340 341\n",
            " 342 343 344 345 346 347 348 349 350 351 352 353 354 355 356 357 358 359\n",
            " 360 361 362 363 364 365 366 367 368 369 370 371 372 373 374 375 376 377\n",
            " 378 379 380 381 382 383 384 385 386 387 388 389 390 391 392 393 394] TEST: [395 396 397 398 399 400 401 402 403 404 405 406 407 408 409 410 411 412\n",
            " 413 414 415 416 417 418 419 420 421 422 423 424 425 426 427 428 429 430\n",
            " 431 432 433 434 435 436 437 438 439 440 441 442 443 444 445 446 447 448\n",
            " 449 450 451 452 453 454 455 456 457 458 459 460 461 462 463 464 465 466\n",
            " 467 468 469 470 471 472 473 474 475 476 477 478 479 480 481 482 483 484\n",
            " 485 486 487 488 489 490 491 492 493 494 495 496 497 498 499 500 501 502\n",
            " 503 504 505 506 507 508 509 510 511 512 513 514 515 516 517 518 519 520\n",
            " 521 522 523 524 525 526 527 528 529 530 531 532 533 534 535 536 537 538\n",
            " 539 540 541 542 543 544 545 546 547 548 549 550 551 552 553 554 555 556\n",
            " 557 558 559 560 561 562 563 564 565 566 567 568 569 570 571 572 573 574\n",
            " 575 576 577 578 579 580 581 582 583 584 585 586 587 588 589 590 591 592\n",
            " 593 594 595 596 597 598 599 600 601 602 603 604 605 606 607 608 609 610\n",
            " 611 612 613 614 615 616 617 618 619 620 621 622 623 624 625 626 627 628\n",
            " 629 630 631 632 633 634 635 636 637 638 639 640 641 642 643 644 645 646\n",
            " 647 648 649 650 651 652 653 654 655 656 657 658 659 660 661 662 663 664\n",
            " 665 666 667 668 669 670 671 672 673 674 675 676 677 678 679 680 681 682\n",
            " 683 684 685 686 687 688 689 690 691 692 693 694 695 696 697 698 699 700\n",
            " 701 702 703 704 705 706 707 708 709 710 711 712 713 714 715 716 717 718\n",
            " 719 720 721 722 723 724 725 726 727 728 729 730 731 732 733 734 735 736\n",
            " 737 738 739 740 741 742 743 744 745 746 747 748 749 750 751 752 753 754\n",
            " 755 756 757 758 759 760 761 762 763 764 765 766 767 768 769 770 771 772\n",
            " 773 774 775 776 777 778 779 780 781 782 783 784]\n",
            "TRAIN: [  0   1   2   3   4   5   6   7   8   9  10  11  12  13  14  15  16  17\n",
            "  18  19  20  21  22  23  24  25  26  27  28  29  30  31  32  33  34  35\n",
            "  36  37  38  39  40  41  42  43  44  45  46  47  48  49  50  51  52  53\n",
            "  54  55  56  57  58  59  60  61  62  63  64  65  66  67  68  69  70  71\n",
            "  72  73  74  75  76  77  78  79  80  81  82  83  84  85  86  87  88  89\n",
            "  90  91  92  93  94  95  96  97  98  99 100 101 102 103 104 105 106 107\n",
            " 108 109 110 111 112 113 114 115 116 117 118 119 120 121 122 123 124 125\n",
            " 126 127 128 129 130 131 132 133 134 135 136 137 138 139 140 141 142 143\n",
            " 144 145 146 147 148 149 150 151 152 153 154 155 156 157 158 159 160 161\n",
            " 162 163 164 165 166 167 168 169 170 171 172 173 174 175 176 177 178 179\n",
            " 180 181 182 183 184 185 186 187 188 189 190 191 192 193 194 195 196 197\n",
            " 198 199 200 201 202 203 204 205 206 207 208 209 210 211 212 213 214 215\n",
            " 216 217 218 219 220 221 222 223 224 225 226 227 228 229 230 231 232 233\n",
            " 234 235 236 237 238 239 240 241 242 243 244 245 246 247 248 249 250 251\n",
            " 252 253 254 255 256 257 258 259 260 261 262 263 264 265 266 267 268 269\n",
            " 270 271 272 273 274 275 276 277 278 279 280 281 282 283 284 285 286 287\n",
            " 288 289 290 291 292 293 294 295 296 297 298 299 300 301 302 303 304 305\n",
            " 306 307 308 309 310 311 312 313 314 315 316 317 318 319 320 321 322 323\n",
            " 324 325 326 327 328 329 330 331 332 333 334 335 336 337 338 339 340 341\n",
            " 342 343 344 345 346 347 348 349 350 351 352 353 354 355 356 357 358 359\n",
            " 360 361 362 363 364 365 366 367 368 369 370 371 372 373 374 375 376 377\n",
            " 378 379 380 381 382 383 384 385 386 387 388 389 390 391 392 393 394 395\n",
            " 396 397 398 399 400 401 402 403 404 405 406 407 408 409 410 411 412 413\n",
            " 414 415 416 417 418 419 420 421 422 423 424 425 426 427 428 429 430 431\n",
            " 432 433 434 435 436 437 438 439 440 441 442 443 444 445 446 447 448 449\n",
            " 450 451 452 453 454 455 456 457 458 459 460 461 462 463 464 465 466 467\n",
            " 468 469 470 471 472 473 474 475 476 477 478 479 480 481 482 483 484 485\n",
            " 486 487 488 489 490 491 492 493 494 495 496 497 498 499 500 501 502 503\n",
            " 504 505 506 507 508 509 510 511 512 513 514 515 516 517 518 519 520 521\n",
            " 522 523 524 525 526 527 528 529 530 531 532 533 534 535 536 537 538 539\n",
            " 540 541 542 543 544 545 546 547 548 549 550 551 552 553 554 555 556 557\n",
            " 558 559 560 561 562 563 564 565 566 567 568 569 570 571 572 573 574 575\n",
            " 576 577 578 579 580 581 582 583 584 585 586 587 588 589 590 591 592 593\n",
            " 594 595 596 597 598 599 600 601 602 603 604 605 606 607 608 609 610 611\n",
            " 612 613 614 615 616 617 618 619 620 621 622 623 624 625 626 627 628 629\n",
            " 630 631 632 633 634 635 636 637 638 639 640 641 642 643 644 645 646 647\n",
            " 648 649 650 651 652 653 654 655 656 657 658 659 660 661 662 663 664 665\n",
            " 666 667 668 669 670 671 672 673 674 675 676 677 678 679 680 681 682 683\n",
            " 684 685 686 687 688 689 690 691 692 693 694 695 696 697 698 699 700 701\n",
            " 702 703 704 705 706 707 708 709 710 711 712 713 714 715 716 717 718 719\n",
            " 720 721 722 723 724 725 726 727 728 729 730 731 732 733 734 735 736 737\n",
            " 738 739 740 741 742 743 744 745 746 747 748 749 750 751 752 753 754 755\n",
            " 756 757 758 759 760 761 762 763 764 765 766 767 768 769 770 771 772 773\n",
            " 774 775 776 777 778 779 780 781 782 783 784] TEST: [ 785  786  787  788  789  790  791  792  793  794  795  796  797  798\n",
            "  799  800  801  802  803  804  805  806  807  808  809  810  811  812\n",
            "  813  814  815  816  817  818  819  820  821  822  823  824  825  826\n",
            "  827  828  829  830  831  832  833  834  835  836  837  838  839  840\n",
            "  841  842  843  844  845  846  847  848  849  850  851  852  853  854\n",
            "  855  856  857  858  859  860  861  862  863  864  865  866  867  868\n",
            "  869  870  871  872  873  874  875  876  877  878  879  880  881  882\n",
            "  883  884  885  886  887  888  889  890  891  892  893  894  895  896\n",
            "  897  898  899  900  901  902  903  904  905  906  907  908  909  910\n",
            "  911  912  913  914  915  916  917  918  919  920  921  922  923  924\n",
            "  925  926  927  928  929  930  931  932  933  934  935  936  937  938\n",
            "  939  940  941  942  943  944  945  946  947  948  949  950  951  952\n",
            "  953  954  955  956  957  958  959  960  961  962  963  964  965  966\n",
            "  967  968  969  970  971  972  973  974  975  976  977  978  979  980\n",
            "  981  982  983  984  985  986  987  988  989  990  991  992  993  994\n",
            "  995  996  997  998  999 1000 1001 1002 1003 1004 1005 1006 1007 1008\n",
            " 1009 1010 1011 1012 1013 1014 1015 1016 1017 1018 1019 1020 1021 1022\n",
            " 1023 1024 1025 1026 1027 1028 1029 1030 1031 1032 1033 1034 1035 1036\n",
            " 1037 1038 1039 1040 1041 1042 1043 1044 1045 1046 1047 1048 1049 1050\n",
            " 1051 1052 1053 1054 1055 1056 1057 1058 1059 1060 1061 1062 1063 1064\n",
            " 1065 1066 1067 1068 1069 1070 1071 1072 1073 1074 1075 1076 1077 1078\n",
            " 1079 1080 1081 1082 1083 1084 1085 1086 1087 1088 1089 1090 1091 1092\n",
            " 1093 1094 1095 1096 1097 1098 1099 1100 1101 1102 1103 1104 1105 1106\n",
            " 1107 1108 1109 1110 1111 1112 1113 1114 1115 1116 1117 1118 1119 1120\n",
            " 1121 1122 1123 1124 1125 1126 1127 1128 1129 1130 1131 1132 1133 1134\n",
            " 1135 1136 1137 1138 1139 1140 1141 1142 1143 1144 1145 1146 1147 1148\n",
            " 1149 1150 1151 1152 1153 1154 1155 1156 1157 1158 1159 1160 1161 1162\n",
            " 1163 1164 1165 1166 1167 1168 1169 1170 1171 1172 1173 1174]\n",
            "TRAIN: [   0    1    2 ... 1172 1173 1174] TEST: [1175 1176 1177 1178 1179 1180 1181 1182 1183 1184 1185 1186 1187 1188\n",
            " 1189 1190 1191 1192 1193 1194 1195 1196 1197 1198 1199 1200 1201 1202\n",
            " 1203 1204 1205 1206 1207 1208 1209 1210 1211 1212 1213 1214 1215 1216\n",
            " 1217 1218 1219 1220 1221 1222 1223 1224 1225 1226 1227 1228 1229 1230\n",
            " 1231 1232 1233 1234 1235 1236 1237 1238 1239 1240 1241 1242 1243 1244\n",
            " 1245 1246 1247 1248 1249 1250 1251 1252 1253 1254 1255 1256 1257 1258\n",
            " 1259 1260 1261 1262 1263 1264 1265 1266 1267 1268 1269 1270 1271 1272\n",
            " 1273 1274 1275 1276 1277 1278 1279 1280 1281 1282 1283 1284 1285 1286\n",
            " 1287 1288 1289 1290 1291 1292 1293 1294 1295 1296 1297 1298 1299 1300\n",
            " 1301 1302 1303 1304 1305 1306 1307 1308 1309 1310 1311 1312 1313 1314\n",
            " 1315 1316 1317 1318 1319 1320 1321 1322 1323 1324 1325 1326 1327 1328\n",
            " 1329 1330 1331 1332 1333 1334 1335 1336 1337 1338 1339 1340 1341 1342\n",
            " 1343 1344 1345 1346 1347 1348 1349 1350 1351 1352 1353 1354 1355 1356\n",
            " 1357 1358 1359 1360 1361 1362 1363 1364 1365 1366 1367 1368 1369 1370\n",
            " 1371 1372 1373 1374 1375 1376 1377 1378 1379 1380 1381 1382 1383 1384\n",
            " 1385 1386 1387 1388 1389 1390 1391 1392 1393 1394 1395 1396 1397 1398\n",
            " 1399 1400 1401 1402 1403 1404 1405 1406 1407 1408 1409 1410 1411 1412\n",
            " 1413 1414 1415 1416 1417 1418 1419 1420 1421 1422 1423 1424 1425 1426\n",
            " 1427 1428 1429 1430 1431 1432 1433 1434 1435 1436 1437 1438 1439 1440\n",
            " 1441 1442 1443 1444 1445 1446 1447 1448 1449 1450 1451 1452 1453 1454\n",
            " 1455 1456 1457 1458 1459 1460 1461 1462 1463 1464 1465 1466 1467 1468\n",
            " 1469 1470 1471 1472 1473 1474 1475 1476 1477 1478 1479 1480 1481 1482\n",
            " 1483 1484 1485 1486 1487 1488 1489 1490 1491 1492 1493 1494 1495 1496\n",
            " 1497 1498 1499 1500 1501 1502 1503 1504 1505 1506 1507 1508 1509 1510\n",
            " 1511 1512 1513 1514 1515 1516 1517 1518 1519 1520 1521 1522 1523 1524\n",
            " 1525 1526 1527 1528 1529 1530 1531 1532 1533 1534 1535 1536 1537 1538\n",
            " 1539 1540 1541 1542 1543 1544 1545 1546 1547 1548 1549 1550 1551 1552\n",
            " 1553 1554 1555 1556 1557 1558 1559 1560 1561 1562 1563 1564]\n",
            "TRAIN: [   0    1    2 ... 1562 1563 1564] TEST: [1565 1566 1567 1568 1569 1570 1571 1572 1573 1574 1575 1576 1577 1578\n",
            " 1579 1580 1581 1582 1583 1584 1585 1586 1587 1588 1589 1590 1591 1592\n",
            " 1593 1594 1595 1596 1597 1598 1599 1600 1601 1602 1603 1604 1605 1606\n",
            " 1607 1608 1609 1610 1611 1612 1613 1614 1615 1616 1617 1618 1619 1620\n",
            " 1621 1622 1623 1624 1625 1626 1627 1628 1629 1630 1631 1632 1633 1634\n",
            " 1635 1636 1637 1638 1639 1640 1641 1642 1643 1644 1645 1646 1647 1648\n",
            " 1649 1650 1651 1652 1653 1654 1655 1656 1657 1658 1659 1660 1661 1662\n",
            " 1663 1664 1665 1666 1667 1668 1669 1670 1671 1672 1673 1674 1675 1676\n",
            " 1677 1678 1679 1680 1681 1682 1683 1684 1685 1686 1687 1688 1689 1690\n",
            " 1691 1692 1693 1694 1695 1696 1697 1698 1699 1700 1701 1702 1703 1704\n",
            " 1705 1706 1707 1708 1709 1710 1711 1712 1713 1714 1715 1716 1717 1718\n",
            " 1719 1720 1721 1722 1723 1724 1725 1726 1727 1728 1729 1730 1731 1732\n",
            " 1733 1734 1735 1736 1737 1738 1739 1740 1741 1742 1743 1744 1745 1746\n",
            " 1747 1748 1749 1750 1751 1752 1753 1754 1755 1756 1757 1758 1759 1760\n",
            " 1761 1762 1763 1764 1765 1766 1767 1768 1769 1770 1771 1772 1773 1774\n",
            " 1775 1776 1777 1778 1779 1780 1781 1782 1783 1784 1785 1786 1787 1788\n",
            " 1789 1790 1791 1792 1793 1794 1795 1796 1797 1798 1799 1800 1801 1802\n",
            " 1803 1804 1805 1806 1807 1808 1809 1810 1811 1812 1813 1814 1815 1816\n",
            " 1817 1818 1819 1820 1821 1822 1823 1824 1825 1826 1827 1828 1829 1830\n",
            " 1831 1832 1833 1834 1835 1836 1837 1838 1839 1840 1841 1842 1843 1844\n",
            " 1845 1846 1847 1848 1849 1850 1851 1852 1853 1854 1855 1856 1857 1858\n",
            " 1859 1860 1861 1862 1863 1864 1865 1866 1867 1868 1869 1870 1871 1872\n",
            " 1873 1874 1875 1876 1877 1878 1879 1880 1881 1882 1883 1884 1885 1886\n",
            " 1887 1888 1889 1890 1891 1892 1893 1894 1895 1896 1897 1898 1899 1900\n",
            " 1901 1902 1903 1904 1905 1906 1907 1908 1909 1910 1911 1912 1913 1914\n",
            " 1915 1916 1917 1918 1919 1920 1921 1922 1923 1924 1925 1926 1927 1928\n",
            " 1929 1930 1931 1932 1933 1934 1935 1936 1937 1938 1939 1940 1941 1942\n",
            " 1943 1944 1945 1946 1947 1948 1949 1950 1951 1952 1953 1954]\n",
            "TRAIN: [   0    1    2 ... 1952 1953 1954] TEST: [1955 1956 1957 1958 1959 1960 1961 1962 1963 1964 1965 1966 1967 1968\n",
            " 1969 1970 1971 1972 1973 1974 1975 1976 1977 1978 1979 1980 1981 1982\n",
            " 1983 1984 1985 1986 1987 1988 1989 1990 1991 1992 1993 1994 1995 1996\n",
            " 1997 1998 1999 2000 2001 2002 2003 2004 2005 2006 2007 2008 2009 2010\n",
            " 2011 2012 2013 2014 2015 2016 2017 2018 2019 2020 2021 2022 2023 2024\n",
            " 2025 2026 2027 2028 2029 2030 2031 2032 2033 2034 2035 2036 2037 2038\n",
            " 2039 2040 2041 2042 2043 2044 2045 2046 2047 2048 2049 2050 2051 2052\n",
            " 2053 2054 2055 2056 2057 2058 2059 2060 2061 2062 2063 2064 2065 2066\n",
            " 2067 2068 2069 2070 2071 2072 2073 2074 2075 2076 2077 2078 2079 2080\n",
            " 2081 2082 2083 2084 2085 2086 2087 2088 2089 2090 2091 2092 2093 2094\n",
            " 2095 2096 2097 2098 2099 2100 2101 2102 2103 2104 2105 2106 2107 2108\n",
            " 2109 2110 2111 2112 2113 2114 2115 2116 2117 2118 2119 2120 2121 2122\n",
            " 2123 2124 2125 2126 2127 2128 2129 2130 2131 2132 2133 2134 2135 2136\n",
            " 2137 2138 2139 2140 2141 2142 2143 2144 2145 2146 2147 2148 2149 2150\n",
            " 2151 2152 2153 2154 2155 2156 2157 2158 2159 2160 2161 2162 2163 2164\n",
            " 2165 2166 2167 2168 2169 2170 2171 2172 2173 2174 2175 2176 2177 2178\n",
            " 2179 2180 2181 2182 2183 2184 2185 2186 2187 2188 2189 2190 2191 2192\n",
            " 2193 2194 2195 2196 2197 2198 2199 2200 2201 2202 2203 2204 2205 2206\n",
            " 2207 2208 2209 2210 2211 2212 2213 2214 2215 2216 2217 2218 2219 2220\n",
            " 2221 2222 2223 2224 2225 2226 2227 2228 2229 2230 2231 2232 2233 2234\n",
            " 2235 2236 2237 2238 2239 2240 2241 2242 2243 2244 2245 2246 2247 2248\n",
            " 2249 2250 2251 2252 2253 2254 2255 2256 2257 2258 2259 2260 2261 2262\n",
            " 2263 2264 2265 2266 2267 2268 2269 2270 2271 2272 2273 2274 2275 2276\n",
            " 2277 2278 2279 2280 2281 2282 2283 2284 2285 2286 2287 2288 2289 2290\n",
            " 2291 2292 2293 2294 2295 2296 2297 2298 2299 2300 2301 2302 2303 2304\n",
            " 2305 2306 2307 2308 2309 2310 2311 2312 2313 2314 2315 2316 2317 2318\n",
            " 2319 2320 2321 2322 2323 2324 2325 2326 2327 2328 2329 2330 2331 2332\n",
            " 2333 2334 2335 2336 2337 2338 2339 2340 2341 2342 2343 2344]\n"
          ]
        }
      ],
      "source": [
        "for train_index, test_index in tscv.split(X,y):\n",
        "    print(\"TRAIN:\", train_index, \"TEST:\", test_index)\n",
        "    X_train, X_test = X[train_index], X[test_index]\n",
        "    y_train, y_test = y[train_index], y[test_index]"
      ]
    },
    {
      "cell_type": "code",
      "execution_count": 24,
      "metadata": {
        "colab": {
          "base_uri": "https://localhost:8080/"
        },
        "id": "tkDzcwkA2DSU",
        "outputId": "77fa80ba-67ef-4d4c-bcf6-0cc546f035ca"
      },
      "outputs": [
        {
          "name": "stdout",
          "output_type": "stream",
          "text": [
            "(1955, 6) (390, 6) (1955,) (390,)\n"
          ]
        }
      ],
      "source": [
        "print(X_train.shape, X_test.shape, y_train.shape, y_test.shape)"
      ]
    },
    {
      "cell_type": "markdown",
      "metadata": {
        "id": "3nN1zN1ypVbq"
      },
      "source": [
        "## Decision Tree"
      ]
    },
    {
      "cell_type": "code",
      "execution_count": 30,
      "metadata": {
        "id": "UlzV-8EEp8Y6"
      },
      "outputs": [],
      "source": [
        "from sklearn.model_selection import GridSearchCV\n",
        "from sklearn.tree import DecisionTreeClassifier\n",
        "\n",
        "params = {\n",
        "    'ccp_alpha': np.arange(0.001,0.1,0.001),\n",
        "    'max_depth': range(2,6),\n",
        "    'min_samples_split': range(2,6),\n",
        "    'min_samples_leaf': range(2,6)\n",
        "}\n",
        "\n",
        "clf = DecisionTreeClassifier()\n",
        "gs_clf = GridSearchCV(\n",
        "    clf,\n",
        "    param_grid=params,\n",
        "    scoring='accuracy',\n",
        "    cv=tscv\n",
        ")\n",
        "\n",
        "gs_clf.fit(X_train[0:1953],y_train[1:1954])\n",
        "y_pred = gs_clf.predict(X_test)"
      ]
    },
    {
      "cell_type": "code",
      "execution_count": 31,
      "metadata": {
        "id": "DHYk4emBlD8A"
      },
      "outputs": [
        {
          "data": {
            "text/plain": [
              "{'ccp_alpha': 0.001,\n",
              " 'max_depth': 2,\n",
              " 'min_samples_leaf': 2,\n",
              " 'min_samples_split': 2}"
            ]
          },
          "execution_count": 31,
          "metadata": {},
          "output_type": "execute_result"
        }
      ],
      "source": [
        "gs_clf.best_params_"
      ]
    },
    {
      "cell_type": "code",
      "execution_count": 32,
      "metadata": {
        "id": "pr8erGVr4JsC"
      },
      "outputs": [
        {
          "name": "stdout",
          "output_type": "stream",
          "text": [
            "              precision    recall  f1-score   support\n",
            "\n",
            "           0       0.40      0.29      0.34       181\n",
            "           1       0.51      0.63      0.56       209\n",
            "\n",
            "    accuracy                           0.47       390\n",
            "   macro avg       0.46      0.46      0.45       390\n",
            "weighted avg       0.46      0.47      0.46       390\n",
            "\n"
          ]
        }
      ],
      "source": [
        "from sklearn.metrics import classification_report as clf_report\n",
        "\n",
        "print(clf_report(y_test, y_pred))"
      ]
    },
    {
      "cell_type": "code",
      "execution_count": 33,
      "metadata": {},
      "outputs": [
        {
          "name": "stderr",
          "output_type": "stream",
          "text": [
            "C:\\Users\\NONGBON\\AppData\\Local\\Programs\\Python\\Python39\\lib\\site-packages\\sklearn\\utils\\deprecation.py:87: FutureWarning: Function plot_confusion_matrix is deprecated; Function `plot_confusion_matrix` is deprecated in 1.0 and will be removed in 1.2. Use one of the class methods: ConfusionMatrixDisplay.from_predictions or ConfusionMatrixDisplay.from_estimator.\n",
            "  warnings.warn(msg, category=FutureWarning)\n"
          ]
        },
        {
          "data": {
            "image/png": "[encoded data removed]",
            "text/plain": [
              "<Figure size 432x288 with 2 Axes>"
            ]
          },
          "metadata": {
            "needs_background": "light"
          },
          "output_type": "display_data"
        }
      ],
      "source": [
        "from sklearn.metrics import plot_confusion_matrix\n",
        "plot_confusion_matrix(gs_clf, X_test, y_test)  \n",
        "plt.show()"
      ]
    },
    {
      "cell_type": "markdown",
      "metadata": {
        "id": "8T17MN9bpyLa"
      },
      "source": [
        "## Random Forest"
      ]
    },
    {
      "cell_type": "code",
      "execution_count": 34,
      "metadata": {
        "id": "_z4RDCr8901s"
      },
      "outputs": [],
      "source": [
        "from sklearn.model_selection import GridSearchCV\n",
        "from sklearn.ensemble import RandomForestClassifier\n",
        "\n",
        "params2 = {\n",
        "    'n_estimators': range(50,150,10),\n",
        "    'ccp_alpha': np.arange(0.001,0.1,0.001),\n",
        "    'max_depth': range(2,6),\n",
        "    'min_samples_split': range(2,4),\n",
        "    'min_samples_leaf': range(1,4)\n",
        "}\n",
        "\n",
        "clf2 = RandomForestClassifier()\n",
        "gs_clf2 = GridSearchCV(\n",
        "    clf2,\n",
        "    param_grid=params2,\n",
        "    scoring='accuracy',\n",
        "    cv=tscv\n",
        ")\n",
        "\n",
        "gs_clf2.fit(X_train[0:1953],y_train[1:1954])\n",
        "y_pred2 = gs_clf2.predict(X_test)"
      ]
    },
    {
      "cell_type": "code",
      "execution_count": 29,
      "metadata": {},
      "outputs": [],
      "source": [
        "from sklearn.ensemble import RandomForestClassifier\n",
        "clf99 = RandomForestClassifier(n_estimators=90 , ccp_alpha=0.004 , max_depth=4 , min_samples_split=2 , min_samples_leaf=1)\n",
        "clf99.fit(X_train[0:1953],y_train[1:1954])\n",
        "y_pred2 = clf99.predict(X_test)"
      ]
    },
    {
      "cell_type": "code",
      "execution_count": 30,
      "metadata": {
        "id": "14pYvlGxwoJq"
      },
      "outputs": [
        {
          "name": "stderr",
          "output_type": "stream",
          "text": [
            "C:\\Users\\NONGBON\\AppData\\Local\\Programs\\Python\\Python39\\lib\\site-packages\\sklearn\\utils\\deprecation.py:87: FutureWarning: Function plot_confusion_matrix is deprecated; Function `plot_confusion_matrix` is deprecated in 1.0 and will be removed in 1.2. Use one of the class methods: ConfusionMatrixDisplay.from_predictions or ConfusionMatrixDisplay.from_estimator.\n",
            "  warnings.warn(msg, category=FutureWarning)\n"
          ]
        },
        {
          "data": {
            "image/png": "[encoded data removed]",
            "text/plain": [
              "<Figure size 432x288 with 2 Axes>"
            ]
          },
          "metadata": {
            "needs_background": "light"
          },
          "output_type": "display_data"
        }
      ],
      "source": [
        "from sklearn.metrics import plot_confusion_matrix\n",
        "plot_confusion_matrix(clf99, X_test, y_test)  \n",
        "plt.show()"
      ]
    },
    {
      "cell_type": "code",
      "execution_count": 31,
      "metadata": {
        "id": "1JHwJgrJPD0q"
      },
      "outputs": [
        {
          "name": "stdout",
          "output_type": "stream",
          "text": [
            "              precision    recall  f1-score   support\n",
            "\n",
            "           0       0.41      0.30      0.35       181\n",
            "           1       0.51      0.63      0.56       209\n",
            "\n",
            "    accuracy                           0.48       390\n",
            "   macro avg       0.46      0.47      0.46       390\n",
            "weighted avg       0.47      0.48      0.46       390\n",
            "\n"
          ]
        }
      ],
      "source": [
        "from sklearn.metrics import classification_report as clf_report\n",
        "print(clf_report(y_test, y_pred2))"
      ]
    },
    {
      "cell_type": "markdown",
      "metadata": {
        "id": "1tr0mOg6xBJO"
      },
      "source": [
        "## XGB"
      ]
    },
    {
      "cell_type": "code",
      "execution_count": null,
      "metadata": {
        "id": "DZwbQABZ6AU9"
      },
      "outputs": [],
      "source": [
        "from sklearn.model_selection import GridSearchCV\n",
        "from xgboost import XGBClassifier\n",
        "\n",
        "params3 = {\n",
        "    'n_estimators': range(50,150,10),\n",
        "    'max_depth': range(2,6),\n",
        "    'eta' : np.arange(0.01,0.3,0.01),\n",
        "    'gamma' : np.arange(0.01,0.2,0.01)\n",
        "}\n",
        "\n",
        "clf3 = XGBClassifier()\n",
        "gs_clf3 = GridSearchCV(\n",
        "    clf3,\n",
        "    param_grid=params3,\n",
        "    scoring='accuracy',\n",
        "    cv=tscv\n",
        ")\n",
        "\n",
        "gs_clf3.fit(X_train[0:1953],y_train[1:1954])\n",
        "y_pred3 = gs_clf3.predict(X_test)"
      ]
    },
    {
      "cell_type": "code",
      "execution_count": null,
      "metadata": {
        "id": "fAW1PJV2MSpg"
      },
      "outputs": [],
      "source": [
        "gs_clf3.best_params_"
      ]
    },
    {
      "cell_type": "code",
      "execution_count": null,
      "metadata": {
        "id": "LWplJ_iKTMy_"
      },
      "outputs": [],
      "source": [
        "from sklearn.metrics import classification_report as clf_report\n",
        "print(clf_report(y_test, y_pred3))"
      ]
    },
    {
      "cell_type": "markdown",
      "metadata": {
        "id": "XxsrXQ--xd69"
      },
      "source": [
        "## ExtraTree"
      ]
    },
    {
      "cell_type": "code",
      "execution_count": 25,
      "metadata": {
        "id": "Q0kIb8QpxaC7"
      },
      "outputs": [],
      "source": [
        "from sklearn.model_selection import GridSearchCV\n",
        "from sklearn.ensemble import ExtraTreesClassifier\n",
        "\n",
        "params = {\n",
        "     'n_estimators': range(50,150,10),\n",
        "    'ccp_alpha': np.arange(0.001,0.1,0.001),\n",
        "    'max_depth': range(2,6),\n",
        "    'min_samples_split': range(2,4),\n",
        "    'min_samples_leaf': range(1,4)\n",
        "}\n",
        "\n",
        "clf4 = ExtraTreesClassifier()\n",
        "gs_clf4 = GridSearchCV(\n",
        "    clf4,\n",
        "    param_grid=params,\n",
        "    scoring='accuracy',\n",
        "    cv=tscv\n",
        ")\n",
        "\n",
        "gs_clf4.fit(X_train[0:1953],y_train[1:1954])\n",
        "y_pred4 = gs_clf4.predict(X_test)"
      ]
    },
    {
      "cell_type": "code",
      "execution_count": 26,
      "metadata": {
        "id": "liaWzZPB0EC-"
      },
      "outputs": [
        {
          "data": {
            "text/plain": [
              "{'ccp_alpha': 0.001,\n",
              " 'max_depth': 5,\n",
              " 'min_samples_leaf': 2,\n",
              " 'min_samples_split': 2,\n",
              " 'n_estimators': 60}"
            ]
          },
          "execution_count": 26,
          "metadata": {},
          "output_type": "execute_result"
        }
      ],
      "source": [
        "gs_clf4.best_params_"
      ]
    },
    {
      "cell_type": "code",
      "execution_count": 28,
      "metadata": {
        "id": "OsJNAZrnPlti"
      },
      "outputs": [
        {
          "name": "stdout",
          "output_type": "stream",
          "text": [
            "              precision    recall  f1-score   support\n",
            "\n",
            "           0       0.53      0.61      0.57       181\n",
            "           1       0.61      0.54      0.58       209\n",
            "\n",
            "    accuracy                           0.57       390\n",
            "   macro avg       0.57      0.57      0.57       390\n",
            "weighted avg       0.58      0.57      0.57       390\n",
            "\n"
          ]
        }
      ],
      "source": [
        "from sklearn.metrics import classification_report as clf_report\n",
        "print(clf_report(y_test, y_pred4))"
      ]
    },
    {
      "cell_type": "code",
      "execution_count": 29,
      "metadata": {},
      "outputs": [
        {
          "name": "stderr",
          "output_type": "stream",
          "text": [
            "C:\\Users\\NONGBON\\AppData\\Local\\Programs\\Python\\Python39\\lib\\site-packages\\sklearn\\utils\\deprecation.py:87: FutureWarning: Function plot_confusion_matrix is deprecated; Function `plot_confusion_matrix` is deprecated in 1.0 and will be removed in 1.2. Use one of the class methods: ConfusionMatrixDisplay.from_predictions or ConfusionMatrixDisplay.from_estimator.\n",
            "  warnings.warn(msg, category=FutureWarning)\n"
          ]
        },
        {
          "data": {
            "image/png": "[encoded data removed]",
            "text/plain": [
              "<Figure size 432x288 with 2 Axes>"
            ]
          },
          "metadata": {
            "needs_background": "light"
          },
          "output_type": "display_data"
        }
      ],
      "source": [
        "from sklearn.metrics import plot_confusion_matrix\n",
        "plot_confusion_matrix(gs_clf4, X_test, y_test)  \n",
        "plt.show()"
      ]
    }
  ],
  "metadata": {
    "colab": {
      "collapsed_sections": [],
      "name": "สำเนาของ 208499.ipynb",
      "provenance": []
    },
    "kernelspec": {
      "display_name": "Python 3",
      "name": "python3"
    },
    "language_info": {
      "codemirror_mode": {
        "name": "ipython",
        "version": 3
      },
      "file_extension": ".py",
      "mimetype": "text/x-python",
      "name": "python",
      "nbconvert_exporter": "python",
      "pygments_lexer": "ipython3",
      "version": "3.9.5"
    }
  },
  "nbformat": 4,
  "nbformat_minor": 0
}
