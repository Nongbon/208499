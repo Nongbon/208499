{
  "nbformat": 4,
  "nbformat_minor": 0,
  "metadata": {
    "colab": {
      "name": "208499.ipynb",
      "provenance": [],
      "collapsed_sections": [],
      "include_colab_link": true
    },
    "kernelspec": {
      "name": "python3",
      "display_name": "Python 3"
    },
    "language_info": {
      "name": "python"
    },
    "accelerator": "GPU"
  },
  "cells": [
    {
      "cell_type": "markdown",
      "metadata": {
        "id": "view-in-github",
        "colab_type": "text"
      },
      "source": [
        "<a href=\"https://colab.research.google.com/github/Nongbon/208499/blob/main/208499.ipynb\" target=\"_parent\"><img src=\"https://colab.research.google.com/assets/colab-badge.svg\" alt=\"Open In Colab\"/></a>"
      ]
    },
    {
      "cell_type": "code",
      "metadata": {
        "colab": {
          "base_uri": "https://localhost:8080/"
        },
        "id": "7iEnvU9Tr8vU",
        "outputId": "f2324d24-227a-4bcd-df6b-34907be527d4"
      },
      "source": [
        "!wget https://raw.githubusercontent.com/Nongbon/208499/main/ETH.csv"
      ],
      "execution_count": null,
      "outputs": [
        {
          "output_type": "stream",
          "name": "stdout",
          "text": [
            "--2021-12-19 14:58:53--  https://raw.githubusercontent.com/Nongbon/208499/main/ETH.csv\n",
            "Resolving raw.githubusercontent.com (raw.githubusercontent.com)... 185.199.110.133, 185.199.109.133, 185.199.108.133, ...\n",
            "Connecting to raw.githubusercontent.com (raw.githubusercontent.com)|185.199.110.133|:443... connected.\n",
            "HTTP request sent, awaiting response... 200 OK\n",
            "Length: 410899 (401K) [text/plain]\n",
            "Saving to: ‘ETH.csv’\n",
            "\n",
            "ETH.csv             100%[===================>] 401.27K  --.-KB/s    in 0.03s   \n",
            "\n",
            "2021-12-19 14:58:53 (11.6 MB/s) - ‘ETH.csv’ saved [410899/410899]\n",
            "\n"
          ]
        }
      ]
    },
    {
      "cell_type": "code",
      "metadata": {
        "id": "WAtzOPtgsWPs"
      },
      "source": [
        "import pandas as pd\n",
        "import numpy as np\n",
        "import matplotlib.pyplot as plt\n",
        "from matplotlib import pyplot\n",
        "from matplotlib import dates as mpl_dates"
      ],
      "execution_count": null,
      "outputs": []
    },
    {
      "cell_type": "code",
      "metadata": {
        "id": "BE3VWsX-sSAN"
      },
      "source": [
        "data = pd.read_csv(\"ETH.csv\").drop([\"slug\",\"name\",\"symbol\",\"ref_cur\",\"time_open\",\"time_close\",\"time_high\",\"time_low\",\"id\",\"market_cap\"],axis=1)\n",
        "data = data.loc[:, ~data.columns.str.contains('^Unnamed')]\n",
        "data = data.rename({'timestamp':'date'},axis=1)"
      ],
      "execution_count": null,
      "outputs": []
    },
    {
      "cell_type": "code",
      "metadata": {
        "colab": {
          "base_uri": "https://localhost:8080/",
          "height": 423
        },
        "id": "ocPtXZay99DC",
        "outputId": "7e412806-c333-4070-eb4e-0235b0763aaf"
      },
      "source": [
        "data['date'] = data['date'].astype('str') \n",
        "data['date'] = data['date'].map(lambda x: x.rstrip('23:59:59'))\n",
        "data['date'] = pd.to_datetime(data['date'])\n",
        "data"
      ],
      "execution_count": null,
      "outputs": [
        {
          "output_type": "execute_result",
          "data": {
            "text/html": [
              "\n",
              "  <div id=\"df-d6ee6c2c-5e4e-4d26-bc14-7b69fcdab1ff\">\n",
              "    <div class=\"colab-df-container\">\n",
              "      <div>\n",
              "<style scoped>\n",
              "    .dataframe tbody tr th:only-of-type {\n",
              "        vertical-align: middle;\n",
              "    }\n",
              "\n",
              "    .dataframe tbody tr th {\n",
              "        vertical-align: top;\n",
              "    }\n",
              "\n",
              "    .dataframe thead th {\n",
              "        text-align: right;\n",
              "    }\n",
              "</style>\n",
              "<table border=\"1\" class=\"dataframe\">\n",
              "  <thead>\n",
              "    <tr style=\"text-align: right;\">\n",
              "      <th></th>\n",
              "      <th>date</th>\n",
              "      <th>open</th>\n",
              "      <th>high</th>\n",
              "      <th>low</th>\n",
              "      <th>close</th>\n",
              "      <th>volume</th>\n",
              "    </tr>\n",
              "  </thead>\n",
              "  <tbody>\n",
              "    <tr>\n",
              "      <th>0</th>\n",
              "      <td>2015-08-07</td>\n",
              "      <td>2.831620</td>\n",
              "      <td>3.536610</td>\n",
              "      <td>2.521120</td>\n",
              "      <td>2.772120</td>\n",
              "      <td>1.643290e+05</td>\n",
              "    </tr>\n",
              "    <tr>\n",
              "      <th>1</th>\n",
              "      <td>2015-08-08</td>\n",
              "      <td>2.793760</td>\n",
              "      <td>2.798810</td>\n",
              "      <td>0.714725</td>\n",
              "      <td>0.753325</td>\n",
              "      <td>6.741880e+05</td>\n",
              "    </tr>\n",
              "    <tr>\n",
              "      <th>2</th>\n",
              "      <td>2015-08-09</td>\n",
              "      <td>0.706136</td>\n",
              "      <td>0.879810</td>\n",
              "      <td>0.629191</td>\n",
              "      <td>0.701897</td>\n",
              "      <td>5.321700e+05</td>\n",
              "    </tr>\n",
              "    <tr>\n",
              "      <th>3</th>\n",
              "      <td>2015-08-10</td>\n",
              "      <td>0.713989</td>\n",
              "      <td>0.729854</td>\n",
              "      <td>0.636546</td>\n",
              "      <td>0.708448</td>\n",
              "      <td>4.052830e+05</td>\n",
              "    </tr>\n",
              "    <tr>\n",
              "      <th>4</th>\n",
              "      <td>2015-08-11</td>\n",
              "      <td>0.708087</td>\n",
              "      <td>1.131410</td>\n",
              "      <td>0.663235</td>\n",
              "      <td>1.067860</td>\n",
              "      <td>1.463100e+06</td>\n",
              "    </tr>\n",
              "    <tr>\n",
              "      <th>...</th>\n",
              "      <td>...</td>\n",
              "      <td>...</td>\n",
              "      <td>...</td>\n",
              "      <td>...</td>\n",
              "      <td>...</td>\n",
              "      <td>...</td>\n",
              "    </tr>\n",
              "    <tr>\n",
              "      <th>2303</th>\n",
              "      <td>2021-11-26</td>\n",
              "      <td>4522.209033</td>\n",
              "      <td>4550.842251</td>\n",
              "      <td>3933.506491</td>\n",
              "      <td>4030.909011</td>\n",
              "      <td>2.628180e+10</td>\n",
              "    </tr>\n",
              "    <tr>\n",
              "      <th>2304</th>\n",
              "      <td>2021-11-27</td>\n",
              "      <td>4042.999049</td>\n",
              "      <td>4187.683994</td>\n",
              "      <td>4033.513942</td>\n",
              "      <td>4096.912088</td>\n",
              "      <td>1.651569e+10</td>\n",
              "    </tr>\n",
              "    <tr>\n",
              "      <th>2305</th>\n",
              "      <td>2021-11-28</td>\n",
              "      <td>4101.648807</td>\n",
              "      <td>4297.916511</td>\n",
              "      <td>3989.969988</td>\n",
              "      <td>4294.453696</td>\n",
              "      <td>1.595313e+10</td>\n",
              "    </tr>\n",
              "    <tr>\n",
              "      <th>2306</th>\n",
              "      <td>2021-11-29</td>\n",
              "      <td>4296.946820</td>\n",
              "      <td>4460.848802</td>\n",
              "      <td>4284.504735</td>\n",
              "      <td>4445.105008</td>\n",
              "      <td>1.908648e+10</td>\n",
              "    </tr>\n",
              "    <tr>\n",
              "      <th>2307</th>\n",
              "      <td>2021-11-30</td>\n",
              "      <td>4447.767830</td>\n",
              "      <td>4753.266163</td>\n",
              "      <td>4358.074278</td>\n",
              "      <td>4631.478795</td>\n",
              "      <td>2.862635e+10</td>\n",
              "    </tr>\n",
              "  </tbody>\n",
              "</table>\n",
              "<p>2308 rows × 6 columns</p>\n",
              "</div>\n",
              "      <button class=\"colab-df-convert\" onclick=\"convertToInteractive('df-d6ee6c2c-5e4e-4d26-bc14-7b69fcdab1ff')\"\n",
              "              title=\"Convert this dataframe to an interactive table.\"\n",
              "              style=\"display:none;\">\n",
              "        \n",
              "  <svg xmlns=\"http://www.w3.org/2000/svg\" height=\"24px\"viewBox=\"0 0 24 24\"\n",
              "       width=\"24px\">\n",
              "    <path d=\"M0 0h24v24H0V0z\" fill=\"none\"/>\n",
              "    <path d=\"M18.56 5.44l.94 2.06.94-2.06 2.06-.94-2.06-.94-.94-2.06-.94 2.06-2.06.94zm-11 1L8.5 8.5l.94-2.06 2.06-.94-2.06-.94L8.5 2.5l-.94 2.06-2.06.94zm10 10l.94 2.06.94-2.06 2.06-.94-2.06-.94-.94-2.06-.94 2.06-2.06.94z\"/><path d=\"M17.41 7.96l-1.37-1.37c-.4-.4-.92-.59-1.43-.59-.52 0-1.04.2-1.43.59L10.3 9.45l-7.72 7.72c-.78.78-.78 2.05 0 2.83L4 21.41c.39.39.9.59 1.41.59.51 0 1.02-.2 1.41-.59l7.78-7.78 2.81-2.81c.8-.78.8-2.07 0-2.86zM5.41 20L4 18.59l7.72-7.72 1.47 1.35L5.41 20z\"/>\n",
              "  </svg>\n",
              "      </button>\n",
              "      \n",
              "  <style>\n",
              "    .colab-df-container {\n",
              "      display:flex;\n",
              "      flex-wrap:wrap;\n",
              "      gap: 12px;\n",
              "    }\n",
              "\n",
              "    .colab-df-convert {\n",
              "      background-color: #E8F0FE;\n",
              "      border: none;\n",
              "      border-radius: 50%;\n",
              "      cursor: pointer;\n",
              "      display: none;\n",
              "      fill: #1967D2;\n",
              "      height: 32px;\n",
              "      padding: 0 0 0 0;\n",
              "      width: 32px;\n",
              "    }\n",
              "\n",
              "    .colab-df-convert:hover {\n",
              "      background-color: #E2EBFA;\n",
              "      box-shadow: 0px 1px 2px rgba(60, 64, 67, 0.3), 0px 1px 3px 1px rgba(60, 64, 67, 0.15);\n",
              "      fill: #174EA6;\n",
              "    }\n",
              "\n",
              "    [theme=dark] .colab-df-convert {\n",
              "      background-color: #3B4455;\n",
              "      fill: #D2E3FC;\n",
              "    }\n",
              "\n",
              "    [theme=dark] .colab-df-convert:hover {\n",
              "      background-color: #434B5C;\n",
              "      box-shadow: 0px 1px 3px 1px rgba(0, 0, 0, 0.15);\n",
              "      filter: drop-shadow(0px 1px 2px rgba(0, 0, 0, 0.3));\n",
              "      fill: #FFFFFF;\n",
              "    }\n",
              "  </style>\n",
              "\n",
              "      <script>\n",
              "        const buttonEl =\n",
              "          document.querySelector('#df-d6ee6c2c-5e4e-4d26-bc14-7b69fcdab1ff button.colab-df-convert');\n",
              "        buttonEl.style.display =\n",
              "          google.colab.kernel.accessAllowed ? 'block' : 'none';\n",
              "\n",
              "        async function convertToInteractive(key) {\n",
              "          const element = document.querySelector('#df-d6ee6c2c-5e4e-4d26-bc14-7b69fcdab1ff');\n",
              "          const dataTable =\n",
              "            await google.colab.kernel.invokeFunction('convertToInteractive',\n",
              "                                                     [key], {});\n",
              "          if (!dataTable) return;\n",
              "\n",
              "          const docLinkHtml = 'Like what you see? Visit the ' +\n",
              "            '<a target=\"_blank\" href=https://colab.research.google.com/notebooks/data_table.ipynb>data table notebook</a>'\n",
              "            + ' to learn more about interactive tables.';\n",
              "          element.innerHTML = '';\n",
              "          dataTable['output_type'] = 'display_data';\n",
              "          await google.colab.output.renderOutput(dataTable, element);\n",
              "          const docLink = document.createElement('div');\n",
              "          docLink.innerHTML = docLinkHtml;\n",
              "          element.appendChild(docLink);\n",
              "        }\n",
              "      </script>\n",
              "    </div>\n",
              "  </div>\n",
              "  "
            ],
            "text/plain": [
              "           date         open  ...        close        volume\n",
              "0    2015-08-07     2.831620  ...     2.772120  1.643290e+05\n",
              "1    2015-08-08     2.793760  ...     0.753325  6.741880e+05\n",
              "2    2015-08-09     0.706136  ...     0.701897  5.321700e+05\n",
              "3    2015-08-10     0.713989  ...     0.708448  4.052830e+05\n",
              "4    2015-08-11     0.708087  ...     1.067860  1.463100e+06\n",
              "...         ...          ...  ...          ...           ...\n",
              "2303 2021-11-26  4522.209033  ...  4030.909011  2.628180e+10\n",
              "2304 2021-11-27  4042.999049  ...  4096.912088  1.651569e+10\n",
              "2305 2021-11-28  4101.648807  ...  4294.453696  1.595313e+10\n",
              "2306 2021-11-29  4296.946820  ...  4445.105008  1.908648e+10\n",
              "2307 2021-11-30  4447.767830  ...  4631.478795  2.862635e+10\n",
              "\n",
              "[2308 rows x 6 columns]"
            ]
          },
          "metadata": {},
          "execution_count": 4
        }
      ]
    },
    {
      "cell_type": "code",
      "metadata": {
        "colab": {
          "base_uri": "https://localhost:8080/"
        },
        "id": "F7FLUG4NRUVj",
        "outputId": "7ef706ab-cd20-4ac7-a989-0296d3b27282"
      },
      "source": [
        "data.info()"
      ],
      "execution_count": null,
      "outputs": [
        {
          "output_type": "stream",
          "name": "stdout",
          "text": [
            "<class 'pandas.core.frame.DataFrame'>\n",
            "RangeIndex: 2308 entries, 0 to 2307\n",
            "Data columns (total 6 columns):\n",
            " #   Column  Non-Null Count  Dtype         \n",
            "---  ------  --------------  -----         \n",
            " 0   date    2308 non-null   datetime64[ns]\n",
            " 1   open    2308 non-null   float64       \n",
            " 2   high    2308 non-null   float64       \n",
            " 3   low     2308 non-null   float64       \n",
            " 4   close   2308 non-null   float64       \n",
            " 5   volume  2308 non-null   float64       \n",
            "dtypes: datetime64[ns](1), float64(5)\n",
            "memory usage: 108.3 KB\n"
          ]
        }
      ]
    },
    {
      "cell_type": "code",
      "metadata": {
        "colab": {
          "base_uri": "https://localhost:8080/",
          "height": 606
        },
        "id": "nv7i5o6lIYJo",
        "outputId": "ead13c0b-f00e-4cae-ceba-e03d5d56589c"
      },
      "source": [
        "plt.figure(figsize=(20,10))\n",
        "plt.plot_date(data['date'],data['close'])\n",
        "plt.xlabel('Date')\n",
        "plt.ylabel('Close price')\n",
        "plt.show()"
      ],
      "execution_count": null,
      "outputs": [
        {
          "output_type": "display_data",
          "data": {
            "image/png": "[encoded data removed]",
            "text/plain": [
              "<Figure size 1440x720 with 1 Axes>"
            ]
          },
          "metadata": {
            "needs_background": "light"
          }
        }
      ]
    },
    {
      "cell_type": "code",
      "metadata": {
        "colab": {
          "base_uri": "https://localhost:8080/"
        },
        "id": "4-2gE8MiRm0_",
        "outputId": "ec2a2b73-9ea5-4e06-f397-157bbdc22d71"
      },
      "source": [
        "n = len(data)\n",
        "n"
      ],
      "execution_count": null,
      "outputs": [
        {
          "output_type": "execute_result",
          "data": {
            "text/plain": [
              "2308"
            ]
          },
          "metadata": {},
          "execution_count": 7
        }
      ]
    },
    {
      "cell_type": "code",
      "metadata": {
        "colab": {
          "base_uri": "https://localhost:8080/"
        },
        "id": "Ym9h8WYAs0Dm",
        "outputId": "c1dafed9-cc9e-4015-e3d5-c2883fc61d12"
      },
      "source": [
        "data['label'] = ''\n",
        "for i in range(len(data)) :\n",
        "  if i+1 < n :\n",
        "    data['label'][i+1] = data['close'][i+1] / data['close'][i]"
      ],
      "execution_count": null,
      "outputs": [
        {
          "output_type": "stream",
          "name": "stderr",
          "text": [
            "/usr/local/lib/python3.7/dist-packages/ipykernel_launcher.py:4: SettingWithCopyWarning: \n",
            "A value is trying to be set on a copy of a slice from a DataFrame\n",
            "\n",
            "See the caveats in the documentation: https://pandas.pydata.org/pandas-docs/stable/user_guide/indexing.html#returning-a-view-versus-a-copy\n",
            "  after removing the cwd from sys.path.\n"
          ]
        }
      ]
    },
    {
      "cell_type": "code",
      "metadata": {
        "colab": {
          "base_uri": "https://localhost:8080/"
        },
        "id": "9kPlSuhS7th9",
        "outputId": "97d16d5e-f2a4-4417-9a5a-28182ca2d31b"
      },
      "source": [
        "data['Y'] = ''\n",
        "for i in range(len(data)) :\n",
        "  if i+1 < n :\n",
        "    if data['label'][i+1] > 1 :\n",
        "      data['Y'][i+1] = 1\n",
        "    else : \n",
        "      data['Y'][i+1] = 0"
      ],
      "execution_count": null,
      "outputs": [
        {
          "output_type": "stream",
          "name": "stderr",
          "text": [
            "/usr/local/lib/python3.7/dist-packages/ipykernel_launcher.py:7: SettingWithCopyWarning: \n",
            "A value is trying to be set on a copy of a slice from a DataFrame\n",
            "\n",
            "See the caveats in the documentation: https://pandas.pydata.org/pandas-docs/stable/user_guide/indexing.html#returning-a-view-versus-a-copy\n",
            "  import sys\n",
            "/usr/local/lib/python3.7/dist-packages/ipykernel_launcher.py:5: SettingWithCopyWarning: \n",
            "A value is trying to be set on a copy of a slice from a DataFrame\n",
            "\n",
            "See the caveats in the documentation: https://pandas.pydata.org/pandas-docs/stable/user_guide/indexing.html#returning-a-view-versus-a-copy\n",
            "  \"\"\"\n"
          ]
        }
      ]
    },
    {
      "cell_type": "code",
      "metadata": {
        "id": "m1YGugH586R7"
      },
      "source": [
        "#data.to_csv(\"label.csv\")"
      ],
      "execution_count": null,
      "outputs": []
    },
    {
      "cell_type": "markdown",
      "metadata": {
        "id": "j1ovI0T6EHoK"
      },
      "source": [
        "### **Input Indicator**"
      ]
    },
    {
      "cell_type": "code",
      "metadata": {
        "id": "mchWS2jGygGS"
      },
      "source": [
        "t_period = 10"
      ],
      "execution_count": null,
      "outputs": []
    },
    {
      "cell_type": "markdown",
      "metadata": {
        "id": "vKzas7-vEOqw"
      },
      "source": [
        "# **WMA**"
      ]
    },
    {
      "cell_type": "code",
      "metadata": {
        "colab": {
          "base_uri": "https://localhost:8080/"
        },
        "id": "Un5Oy20SPDH3",
        "outputId": "1fe789b4-d8bc-4aab-fa49-720953335ae5"
      },
      "source": [
        "weights = np.arange(1,11)\n",
        "weights"
      ],
      "execution_count": null,
      "outputs": [
        {
          "output_type": "execute_result",
          "data": {
            "text/plain": [
              "array([ 1,  2,  3,  4,  5,  6,  7,  8,  9, 10])"
            ]
          },
          "metadata": {},
          "execution_count": 11
        }
      ]
    },
    {
      "cell_type": "code",
      "metadata": {
        "id": "hCKkVXf1PIcr"
      },
      "source": [
        "data['wma10'] = ''\n",
        "data['wma10'] = data['close'].rolling(t_period).apply(lambda close: np.dot(close, weights)/weights.sum(), raw=True)"
      ],
      "execution_count": null,
      "outputs": []
    },
    {
      "cell_type": "markdown",
      "metadata": {
        "id": "cMgmlIzaTbiv"
      },
      "source": [
        "## **SMA**"
      ]
    },
    {
      "cell_type": "code",
      "metadata": {
        "id": "7Z4F-P1xTlm_"
      },
      "source": [
        "data['sma10'] = ''\n",
        "data['sma10'] = data['close'].rolling(t_period).mean()"
      ],
      "execution_count": null,
      "outputs": []
    },
    {
      "cell_type": "markdown",
      "metadata": {
        "id": "ETGiel0-ypWe"
      },
      "source": [
        "MACD"
      ]
    },
    {
      "cell_type": "code",
      "metadata": {
        "id": "AoVWpWKLyrVT"
      },
      "source": [
        "exp1 = data['close'].ewm(span = 12 , adjust = False , min_periods=12).mean()\n",
        "exp2 = data['close'].ewm(span = 26 , adjust = False , min_periods=26).mean()\n",
        "macd = exp1 - exp2\n",
        "data['MACD'] = macd"
      ],
      "execution_count": null,
      "outputs": []
    },
    {
      "cell_type": "code",
      "metadata": {
        "id": "--RjDkKdytp9"
      },
      "source": [
        "k_period = 14\n",
        "# Adds a \"n_high\" column with max value of previous 14 periods\n",
        "n_high = data['high'].rolling(k_period).max()\n",
        "# Adds an \"n_low\" column with min value of previous 14 periods\n",
        "n_low = data['low'].rolling(k_period).min()\n",
        "# Uses the min/max values to calculate the %k (as a percentage)\n",
        "data['%K'] = (data['close'] - n_low)  / (n_high - n_low) * 100"
      ],
      "execution_count": null,
      "outputs": []
    },
    {
      "cell_type": "code",
      "metadata": {
        "id": "72dLephGywfG"
      },
      "source": [
        "def rsi(data, periods = 14, ema = True):\n",
        "    \"\"\"\n",
        "    Returns a pd.Series with the relative strength index.\n",
        "    \"\"\"\n",
        "    close_delta = data['close'].diff()\n",
        "\n",
        "    # Make two series: one for lower closes and one for higher closes\n",
        "    up = close_delta.clip(lower=0)\n",
        "    down = -1 * close_delta.clip(upper=0)\n",
        "    \n",
        "    if ema == True:\n",
        "\t    # Use exponential moving average\n",
        "        ma_up = up.ewm(com = periods - 1, adjust=True, min_periods = periods).mean()\n",
        "        ma_down = down.ewm(com = periods - 1, adjust=True, min_periods = periods).mean()\n",
        "    else:\n",
        "        # Use simple moving average\n",
        "        ma_up = up.rolling(window = periods, adjust=False).mean()\n",
        "        ma_down = down.rolling(window = periods, adjust=False).mean()\n",
        "        \n",
        "    rsi = ma_up / ma_down\n",
        "    rsi = 100 - (100/(1 + rsi))\n",
        "    return rsi"
      ],
      "execution_count": null,
      "outputs": []
    },
    {
      "cell_type": "code",
      "metadata": {
        "id": "iXA5zekNyyb-"
      },
      "source": [
        "data['RSI'] = rsi(data, periods = 14, ema = True)"
      ],
      "execution_count": null,
      "outputs": []
    },
    {
      "cell_type": "code",
      "metadata": {
        "id": "ZUxfZ_VJyzh_"
      },
      "source": [
        "def get_wr(high, low, close, periods = 14):\n",
        "    highh = high.rolling(14).max() \n",
        "    lowl = low.rolling(14).min()\n",
        "    wr = -100 * ((highh - close) / (highh - lowl))\n",
        "    return wr\n",
        "\n",
        "data['%R'] = get_wr(data['high'], data['low'], data['close'], periods = 14)"
      ],
      "execution_count": null,
      "outputs": []
    },
    {
      "cell_type": "code",
      "metadata": {
        "colab": {
          "base_uri": "https://localhost:8080/",
          "height": 606
        },
        "id": "Pkvx8vsxVQVK",
        "outputId": "ed453468-ece6-4a92-8694-ec4b2f7e7157"
      },
      "source": [
        "plt.figure(figsize = (20,10))\n",
        "plt.plot(data['close'], label=\"close\")\n",
        "plt.plot(data['wma10'], label=\"10-Day WMA\" , color='lime')\n",
        "plt.plot(data['sma10'], label=\"10-Day SMA\", color='red')\n",
        "plt.plot(data['%K'], label=\"Stochastic 14-Day\", color='yellow')\n",
        "plt.plot(data['RSI'], label=\"Relative Strength Index (RSI) 14-Day\", color='blue')\n",
        "plt.plot(data['%R'], label=\"Williams %R  14-Day\", color='Black')\n",
        "plt.plot(data['MACD'], label=\"MACD\", color='pink')\n",
        "plt.xlabel(\"Date\")\n",
        "plt.ylabel(\"Close\")\n",
        "plt.legend()\n",
        "plt.show()"
      ],
      "execution_count": null,
      "outputs": [
        {
          "output_type": "display_data",
          "data": {
            "image/png": "[encoded data removed]",
            "text/plain": [
              "<Figure size 1440x720 with 1 Axes>"
            ]
          },
          "metadata": {
            "needs_background": "light"
          }
        }
      ]
    },
    {
      "cell_type": "code",
      "metadata": {
        "id": "VYRvqWMizUqf"
      },
      "source": [
        "data = data.dropna()"
      ],
      "execution_count": null,
      "outputs": []
    },
    {
      "cell_type": "code",
      "metadata": {
        "id": "mXeBJGuZy4KH"
      },
      "source": [
        "data = data.astype({\"Y\":int})"
      ],
      "execution_count": null,
      "outputs": []
    },
    {
      "cell_type": "code",
      "metadata": {
        "colab": {
          "base_uri": "https://localhost:8080/",
          "height": 423
        },
        "id": "So2DknhqzPQY",
        "outputId": "58e9eab9-15b6-42fa-ce4d-ec1de36ab1a5"
      },
      "source": [
        "data"
      ],
      "execution_count": null,
      "outputs": [
        {
          "output_type": "execute_result",
          "data": {
            "text/html": [
              "\n",
              "  <div id=\"df-50981a04-7048-4a36-9e24-e3deeca93e02\">\n",
              "    <div class=\"colab-df-container\">\n",
              "      <div>\n",
              "<style scoped>\n",
              "    .dataframe tbody tr th:only-of-type {\n",
              "        vertical-align: middle;\n",
              "    }\n",
              "\n",
              "    .dataframe tbody tr th {\n",
              "        vertical-align: top;\n",
              "    }\n",
              "\n",
              "    .dataframe thead th {\n",
              "        text-align: right;\n",
              "    }\n",
              "</style>\n",
              "<table border=\"1\" class=\"dataframe\">\n",
              "  <thead>\n",
              "    <tr style=\"text-align: right;\">\n",
              "      <th></th>\n",
              "      <th>date</th>\n",
              "      <th>open</th>\n",
              "      <th>high</th>\n",
              "      <th>low</th>\n",
              "      <th>close</th>\n",
              "      <th>volume</th>\n",
              "      <th>label</th>\n",
              "      <th>Y</th>\n",
              "      <th>wma10</th>\n",
              "      <th>sma10</th>\n",
              "      <th>MACD</th>\n",
              "      <th>%K</th>\n",
              "      <th>RSI</th>\n",
              "      <th>%R</th>\n",
              "    </tr>\n",
              "  </thead>\n",
              "  <tbody>\n",
              "    <tr>\n",
              "      <th>25</th>\n",
              "      <td>2015-09-01</td>\n",
              "      <td>1.353480</td>\n",
              "      <td>1.392740</td>\n",
              "      <td>1.336630</td>\n",
              "      <td>1.351610</td>\n",
              "      <td>7.788620e+05</td>\n",
              "      <td>0.995119</td>\n",
              "      <td>0</td>\n",
              "      <td>1.260630</td>\n",
              "      <td>1.243478</td>\n",
              "      <td>-0.193357</td>\n",
              "      <td>58.589932</td>\n",
              "      <td>43.772935</td>\n",
              "      <td>-41.410068</td>\n",
              "    </tr>\n",
              "    <tr>\n",
              "      <th>26</th>\n",
              "      <td>2015-09-02</td>\n",
              "      <td>1.351570</td>\n",
              "      <td>1.354910</td>\n",
              "      <td>1.264620</td>\n",
              "      <td>1.294790</td>\n",
              "      <td>8.837690e+05</td>\n",
              "      <td>0.957961</td>\n",
              "      <td>0</td>\n",
              "      <td>1.269960</td>\n",
              "      <td>1.237698</td>\n",
              "      <td>-0.179722</td>\n",
              "      <td>47.101644</td>\n",
              "      <td>41.931344</td>\n",
              "      <td>-52.898356</td>\n",
              "    </tr>\n",
              "    <tr>\n",
              "      <th>27</th>\n",
              "      <td>2015-09-03</td>\n",
              "      <td>1.295190</td>\n",
              "      <td>1.309990</td>\n",
              "      <td>1.211030</td>\n",
              "      <td>1.264930</td>\n",
              "      <td>7.029910e+05</td>\n",
              "      <td>0.976938</td>\n",
              "      <td>0</td>\n",
              "      <td>1.274911</td>\n",
              "      <td>1.241064</td>\n",
              "      <td>-0.169373</td>\n",
              "      <td>41.064315</td>\n",
              "      <td>40.956172</td>\n",
              "      <td>-58.935685</td>\n",
              "    </tr>\n",
              "    <tr>\n",
              "      <th>28</th>\n",
              "      <td>2015-09-04</td>\n",
              "      <td>1.264930</td>\n",
              "      <td>1.302520</td>\n",
              "      <td>1.236810</td>\n",
              "      <td>1.274410</td>\n",
              "      <td>4.743910e+05</td>\n",
              "      <td>1.00749</td>\n",
              "      <td>1</td>\n",
              "      <td>1.280974</td>\n",
              "      <td>1.254486</td>\n",
              "      <td>-0.158579</td>\n",
              "      <td>51.275983</td>\n",
              "      <td>41.421951</td>\n",
              "      <td>-48.724017</td>\n",
              "    </tr>\n",
              "    <tr>\n",
              "      <th>29</th>\n",
              "      <td>2015-09-05</td>\n",
              "      <td>1.280560</td>\n",
              "      <td>1.342300</td>\n",
              "      <td>1.271190</td>\n",
              "      <td>1.338810</td>\n",
              "      <td>4.484530e+05</td>\n",
              "      <td>1.05053</td>\n",
              "      <td>1</td>\n",
              "      <td>1.296306</td>\n",
              "      <td>1.272369</td>\n",
              "      <td>-0.143177</td>\n",
              "      <td>79.621677</td>\n",
              "      <td>44.618160</td>\n",
              "      <td>-20.378323</td>\n",
              "    </tr>\n",
              "    <tr>\n",
              "      <th>...</th>\n",
              "      <td>...</td>\n",
              "      <td>...</td>\n",
              "      <td>...</td>\n",
              "      <td>...</td>\n",
              "      <td>...</td>\n",
              "      <td>...</td>\n",
              "      <td>...</td>\n",
              "      <td>...</td>\n",
              "      <td>...</td>\n",
              "      <td>...</td>\n",
              "      <td>...</td>\n",
              "      <td>...</td>\n",
              "      <td>...</td>\n",
              "      <td>...</td>\n",
              "    </tr>\n",
              "    <tr>\n",
              "      <th>2303</th>\n",
              "      <td>2021-11-26</td>\n",
              "      <td>4522.209033</td>\n",
              "      <td>4550.842251</td>\n",
              "      <td>3933.506491</td>\n",
              "      <td>4030.909011</td>\n",
              "      <td>2.628180e+10</td>\n",
              "      <td>0.942959</td>\n",
              "      <td>0</td>\n",
              "      <td>4214.362366</td>\n",
              "      <td>4224.107086</td>\n",
              "      <td>-27.366692</td>\n",
              "      <td>10.165175</td>\n",
              "      <td>42.776168</td>\n",
              "      <td>-89.834825</td>\n",
              "    </tr>\n",
              "    <tr>\n",
              "      <th>2304</th>\n",
              "      <td>2021-11-27</td>\n",
              "      <td>4042.999049</td>\n",
              "      <td>4187.683994</td>\n",
              "      <td>4033.513942</td>\n",
              "      <td>4096.912088</td>\n",
              "      <td>1.651569e+10</td>\n",
              "      <td>1.01637</td>\n",
              "      <td>1</td>\n",
              "      <td>4191.236003</td>\n",
              "      <td>4205.038901</td>\n",
              "      <td>-39.258752</td>\n",
              "      <td>17.053423</td>\n",
              "      <td>44.768476</td>\n",
              "      <td>-82.946577</td>\n",
              "    </tr>\n",
              "    <tr>\n",
              "      <th>2305</th>\n",
              "      <td>2021-11-28</td>\n",
              "      <td>4101.648807</td>\n",
              "      <td>4297.916511</td>\n",
              "      <td>3989.969988</td>\n",
              "      <td>4294.453696</td>\n",
              "      <td>1.595313e+10</td>\n",
              "      <td>1.04822</td>\n",
              "      <td>1</td>\n",
              "      <td>4207.493238</td>\n",
              "      <td>4234.419184</td>\n",
              "      <td>-32.370195</td>\n",
              "      <td>37.669368</td>\n",
              "      <td>50.341055</td>\n",
              "      <td>-62.330632</td>\n",
              "    </tr>\n",
              "    <tr>\n",
              "      <th>2306</th>\n",
              "      <td>2021-11-29</td>\n",
              "      <td>4296.946820</td>\n",
              "      <td>4460.848802</td>\n",
              "      <td>4284.504735</td>\n",
              "      <td>4445.105008</td>\n",
              "      <td>1.908648e+10</td>\n",
              "      <td>1.03508</td>\n",
              "      <td>1</td>\n",
              "      <td>4245.799752</td>\n",
              "      <td>4249.099023</td>\n",
              "      <td>-14.586518</td>\n",
              "      <td>53.391721</td>\n",
              "      <td>54.141124</td>\n",
              "      <td>-46.608279</td>\n",
              "    </tr>\n",
              "    <tr>\n",
              "      <th>2307</th>\n",
              "      <td>2021-11-30</td>\n",
              "      <td>4447.767830</td>\n",
              "      <td>4753.266163</td>\n",
              "      <td>4358.074278</td>\n",
              "      <td>4631.478795</td>\n",
              "      <td>2.862635e+10</td>\n",
              "      <td>1.04193</td>\n",
              "      <td>1</td>\n",
              "      <td>4315.323346</td>\n",
              "      <td>4271.253810</td>\n",
              "      <td>14.380215</td>\n",
              "      <td>85.143528</td>\n",
              "      <td>58.383918</td>\n",
              "      <td>-14.856472</td>\n",
              "    </tr>\n",
              "  </tbody>\n",
              "</table>\n",
              "<p>2283 rows × 14 columns</p>\n",
              "</div>\n",
              "      <button class=\"colab-df-convert\" onclick=\"convertToInteractive('df-50981a04-7048-4a36-9e24-e3deeca93e02')\"\n",
              "              title=\"Convert this dataframe to an interactive table.\"\n",
              "              style=\"display:none;\">\n",
              "        \n",
              "  <svg xmlns=\"http://www.w3.org/2000/svg\" height=\"24px\"viewBox=\"0 0 24 24\"\n",
              "       width=\"24px\">\n",
              "    <path d=\"M0 0h24v24H0V0z\" fill=\"none\"/>\n",
              "    <path d=\"M18.56 5.44l.94 2.06.94-2.06 2.06-.94-2.06-.94-.94-2.06-.94 2.06-2.06.94zm-11 1L8.5 8.5l.94-2.06 2.06-.94-2.06-.94L8.5 2.5l-.94 2.06-2.06.94zm10 10l.94 2.06.94-2.06 2.06-.94-2.06-.94-.94-2.06-.94 2.06-2.06.94z\"/><path d=\"M17.41 7.96l-1.37-1.37c-.4-.4-.92-.59-1.43-.59-.52 0-1.04.2-1.43.59L10.3 9.45l-7.72 7.72c-.78.78-.78 2.05 0 2.83L4 21.41c.39.39.9.59 1.41.59.51 0 1.02-.2 1.41-.59l7.78-7.78 2.81-2.81c.8-.78.8-2.07 0-2.86zM5.41 20L4 18.59l7.72-7.72 1.47 1.35L5.41 20z\"/>\n",
              "  </svg>\n",
              "      </button>\n",
              "      \n",
              "  <style>\n",
              "    .colab-df-container {\n",
              "      display:flex;\n",
              "      flex-wrap:wrap;\n",
              "      gap: 12px;\n",
              "    }\n",
              "\n",
              "    .colab-df-convert {\n",
              "      background-color: #E8F0FE;\n",
              "      border: none;\n",
              "      border-radius: 50%;\n",
              "      cursor: pointer;\n",
              "      display: none;\n",
              "      fill: #1967D2;\n",
              "      height: 32px;\n",
              "      padding: 0 0 0 0;\n",
              "      width: 32px;\n",
              "    }\n",
              "\n",
              "    .colab-df-convert:hover {\n",
              "      background-color: #E2EBFA;\n",
              "      box-shadow: 0px 1px 2px rgba(60, 64, 67, 0.3), 0px 1px 3px 1px rgba(60, 64, 67, 0.15);\n",
              "      fill: #174EA6;\n",
              "    }\n",
              "\n",
              "    [theme=dark] .colab-df-convert {\n",
              "      background-color: #3B4455;\n",
              "      fill: #D2E3FC;\n",
              "    }\n",
              "\n",
              "    [theme=dark] .colab-df-convert:hover {\n",
              "      background-color: #434B5C;\n",
              "      box-shadow: 0px 1px 3px 1px rgba(0, 0, 0, 0.15);\n",
              "      filter: drop-shadow(0px 1px 2px rgba(0, 0, 0, 0.3));\n",
              "      fill: #FFFFFF;\n",
              "    }\n",
              "  </style>\n",
              "\n",
              "      <script>\n",
              "        const buttonEl =\n",
              "          document.querySelector('#df-50981a04-7048-4a36-9e24-e3deeca93e02 button.colab-df-convert');\n",
              "        buttonEl.style.display =\n",
              "          google.colab.kernel.accessAllowed ? 'block' : 'none';\n",
              "\n",
              "        async function convertToInteractive(key) {\n",
              "          const element = document.querySelector('#df-50981a04-7048-4a36-9e24-e3deeca93e02');\n",
              "          const dataTable =\n",
              "            await google.colab.kernel.invokeFunction('convertToInteractive',\n",
              "                                                     [key], {});\n",
              "          if (!dataTable) return;\n",
              "\n",
              "          const docLinkHtml = 'Like what you see? Visit the ' +\n",
              "            '<a target=\"_blank\" href=https://colab.research.google.com/notebooks/data_table.ipynb>data table notebook</a>'\n",
              "            + ' to learn more about interactive tables.';\n",
              "          element.innerHTML = '';\n",
              "          dataTable['output_type'] = 'display_data';\n",
              "          await google.colab.output.renderOutput(dataTable, element);\n",
              "          const docLink = document.createElement('div');\n",
              "          docLink.innerHTML = docLinkHtml;\n",
              "          element.appendChild(docLink);\n",
              "        }\n",
              "      </script>\n",
              "    </div>\n",
              "  </div>\n",
              "  "
            ],
            "text/plain": [
              "           date         open         high  ...         %K        RSI         %R\n",
              "25   2015-09-01     1.353480     1.392740  ...  58.589932  43.772935 -41.410068\n",
              "26   2015-09-02     1.351570     1.354910  ...  47.101644  41.931344 -52.898356\n",
              "27   2015-09-03     1.295190     1.309990  ...  41.064315  40.956172 -58.935685\n",
              "28   2015-09-04     1.264930     1.302520  ...  51.275983  41.421951 -48.724017\n",
              "29   2015-09-05     1.280560     1.342300  ...  79.621677  44.618160 -20.378323\n",
              "...         ...          ...          ...  ...        ...        ...        ...\n",
              "2303 2021-11-26  4522.209033  4550.842251  ...  10.165175  42.776168 -89.834825\n",
              "2304 2021-11-27  4042.999049  4187.683994  ...  17.053423  44.768476 -82.946577\n",
              "2305 2021-11-28  4101.648807  4297.916511  ...  37.669368  50.341055 -62.330632\n",
              "2306 2021-11-29  4296.946820  4460.848802  ...  53.391721  54.141124 -46.608279\n",
              "2307 2021-11-30  4447.767830  4753.266163  ...  85.143528  58.383918 -14.856472\n",
              "\n",
              "[2283 rows x 14 columns]"
            ]
          },
          "metadata": {},
          "execution_count": 22
        }
      ]
    },
    {
      "cell_type": "code",
      "metadata": {
        "id": "Rbwee-Vw1hYa"
      },
      "source": [
        "X = data[['wma10','sma10','MACD','%K','RSI','%R']].to_numpy()\n",
        "y = data.Y.to_numpy()"
      ],
      "execution_count": null,
      "outputs": []
    },
    {
      "cell_type": "code",
      "metadata": {
        "id": "2kd1VWbM1WBJ"
      },
      "source": [
        "from sklearn.model_selection import train_test_split\n",
        "X_train, X_test, y_train, y_test = train_test_split(X, y, test_size=0.2 , shuffle= False)"
      ],
      "execution_count": null,
      "outputs": []
    },
    {
      "cell_type": "code",
      "metadata": {
        "colab": {
          "base_uri": "https://localhost:8080/"
        },
        "id": "vMcj-v-P11kp",
        "outputId": "994d8983-5881-4746-f89b-249ab311d476"
      },
      "source": [
        "X_train"
      ],
      "execution_count": null,
      "outputs": [
        {
          "output_type": "execute_result",
          "data": {
            "text/plain": [
              "array([[ 1.26063035e+00,  1.24347799e+00, -1.93357220e-01,\n",
              "         5.85899321e+01,  4.37729355e+01, -4.14100679e+01],\n",
              "       [ 1.26995981e+00,  1.23769799e+00, -1.79722228e-01,\n",
              "         4.71016441e+01,  4.19313436e+01, -5.28983559e+01],\n",
              "       [ 1.27491109e+00,  1.24106400e+00, -1.69373421e-01,\n",
              "         4.10643153e+01,  4.09561715e+01, -5.89356847e+01],\n",
              "       ...,\n",
              "       [ 3.92327771e+02,  3.95636825e+02,  1.03899925e+01,\n",
              "         3.14703221e+01,  5.39146052e+01, -6.85296779e+01],\n",
              "       [ 3.93106797e+02,  3.94982593e+02,  9.90294983e+00,\n",
              "         3.73884701e+01,  5.51855536e+01, -6.26115299e+01],\n",
              "       [ 3.99181911e+02,  3.96178185e+02,  1.16799594e+01,\n",
              "         7.90299155e+01,  6.29317923e+01, -2.09700845e+01]])"
            ]
          },
          "metadata": {},
          "execution_count": 25
        }
      ]
    },
    {
      "cell_type": "code",
      "metadata": {
        "colab": {
          "base_uri": "https://localhost:8080/"
        },
        "id": "tkDzcwkA2DSU",
        "outputId": "183c7ed1-3f0f-4a50-bd48-7abac9e76dbc"
      },
      "source": [
        "print(X_train.shape, X_test.shape, y_train.shape, y_test.shape)"
      ],
      "execution_count": null,
      "outputs": [
        {
          "output_type": "stream",
          "name": "stdout",
          "text": [
            "(1826, 6) (457, 6) (1826,) (457,)\n"
          ]
        }
      ]
    },
    {
      "cell_type": "code",
      "metadata": {
        "id": "m7aRPimQ2-Z1"
      },
      "source": [
        "from sklearn.tree import DecisionTreeClassifier\n",
        "from sklearn.model_selection import GridSearchCV\n",
        "\n",
        "clf = DecisionTreeClassifier()\n",
        "\n",
        "clf = clf.fit(X_train,y_train)\n",
        "y_pred = clf.predict(X_test)"
      ],
      "execution_count": null,
      "outputs": []
    },
    {
      "cell_type": "code",
      "metadata": {
        "id": "rJKrfb3M4DUm"
      },
      "source": [
        "from sklearn.tree import export_graphviz\n",
        "import graphviz\n",
        "\n",
        "dot_data = export_graphviz(clf.best_estimator_, \n",
        "                           feature_names=X.columns,  \n",
        "                           class_names= ['0', '1'], \n",
        "                           filled=True,\n",
        "                           impurity=False)\n",
        "\n",
        "graph = graphviz.Source(dot_data,format=\"png\") \n",
        "graph"
      ],
      "execution_count": null,
      "outputs": []
    },
    {
      "cell_type": "code",
      "metadata": {
        "colab": {
          "base_uri": "https://localhost:8080/"
        },
        "id": "pr8erGVr4JsC",
        "outputId": "e73b1297-9ee0-48ea-84c2-bb37bd926e22"
      },
      "source": [
        "from sklearn.metrics import classification_report as clf_report\n",
        "\n",
        "print(clf_report(y_test, y_pred))"
      ],
      "execution_count": null,
      "outputs": [
        {
          "output_type": "stream",
          "name": "stdout",
          "text": [
            "              precision    recall  f1-score   support\n",
            "\n",
            "           0       0.51      0.64      0.57       197\n",
            "           1       0.66      0.53      0.59       260\n",
            "\n",
            "    accuracy                           0.58       457\n",
            "   macro avg       0.59      0.59      0.58       457\n",
            "weighted avg       0.60      0.58      0.58       457\n",
            "\n"
          ]
        }
      ]
    },
    {
      "cell_type": "code",
      "source": [
        "from sklearn.ensemble import RandomForestClassifier\n",
        "clf2 = RandomForestClassifier()\n",
        "\n",
        "clf2.fit(X_train,y_train)\n",
        "\n",
        "y_pred2 = clf2.predict(X_test)"
      ],
      "metadata": {
        "id": "IG_O2r7HO58a"
      },
      "execution_count": null,
      "outputs": []
    },
    {
      "cell_type": "code",
      "source": [
        "from sklearn.metrics import classification_report as clf_report\n",
        "print(clf_report(y_test, y_pred2))"
      ],
      "metadata": {
        "colab": {
          "base_uri": "https://localhost:8080/"
        },
        "id": "1JHwJgrJPD0q",
        "outputId": "b7b8d86e-76bc-4d30-83a4-4ec845eb9b32"
      },
      "execution_count": null,
      "outputs": [
        {
          "output_type": "stream",
          "name": "stdout",
          "text": [
            "              precision    recall  f1-score   support\n",
            "\n",
            "           0       0.61      0.69      0.65       197\n",
            "           1       0.74      0.66      0.70       260\n",
            "\n",
            "    accuracy                           0.67       457\n",
            "   macro avg       0.67      0.68      0.67       457\n",
            "weighted avg       0.68      0.67      0.68       457\n",
            "\n"
          ]
        }
      ]
    },
    {
      "cell_type": "code",
      "source": [
        "from xgboost import XGBClassifier\n",
        "clf4 = XGBClassifier()\n",
        "clf4.fit(X_train,y_train)\n",
        "\n",
        "y_pred4 = clf4.predict(X_test)"
      ],
      "metadata": {
        "id": "J6TayLnAR00X"
      },
      "execution_count": null,
      "outputs": []
    },
    {
      "cell_type": "code",
      "source": [
        "print(clf_report(y_test, y_pred4))"
      ],
      "metadata": {
        "colab": {
          "base_uri": "https://localhost:8080/"
        },
        "id": "LWplJ_iKTMy_",
        "outputId": "e1f18a9e-bc01-4dfd-9975-4ceede408fec"
      },
      "execution_count": null,
      "outputs": [
        {
          "output_type": "stream",
          "name": "stdout",
          "text": [
            "              precision    recall  f1-score   support\n",
            "\n",
            "           0       0.62      0.61      0.62       197\n",
            "           1       0.71      0.72      0.71       260\n",
            "\n",
            "    accuracy                           0.67       457\n",
            "   macro avg       0.67      0.66      0.66       457\n",
            "weighted avg       0.67      0.67      0.67       457\n",
            "\n"
          ]
        }
      ]
    },
    {
      "cell_type": "code",
      "source": [
        "from sklearn.ensemble import ExtraTreesClassifier\n",
        "clf3 = ExtraTreesClassifier()\n",
        "clf3.fit(X_train,y_train)\n",
        "\n",
        "y_pred3 = clf3.predict(X_test)"
      ],
      "metadata": {
        "id": "7j3CgZ0QRGnb"
      },
      "execution_count": null,
      "outputs": []
    },
    {
      "cell_type": "code",
      "source": [
        "print(clf_report(y_test, y_pred3))"
      ],
      "metadata": {
        "colab": {
          "base_uri": "https://localhost:8080/"
        },
        "id": "OsJNAZrnPlti",
        "outputId": "18e7b646-1a59-45bc-9da6-6d76c4ded5f5"
      },
      "execution_count": null,
      "outputs": [
        {
          "output_type": "stream",
          "name": "stdout",
          "text": [
            "              precision    recall  f1-score   support\n",
            "\n",
            "           0       0.58      0.82      0.68       197\n",
            "           1       0.80      0.55      0.65       260\n",
            "\n",
            "    accuracy                           0.67       457\n",
            "   macro avg       0.69      0.69      0.67       457\n",
            "weighted avg       0.71      0.67      0.66       457\n",
            "\n"
          ]
        }
      ]
    }
  ]
}