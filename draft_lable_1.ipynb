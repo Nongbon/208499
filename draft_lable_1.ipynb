{
  "nbformat": 4,
  "nbformat_minor": 0,
  "metadata": {
    "colab": {
      "name": "draft lable 1.ipynb",
      "provenance": [],
      "include_colab_link": true
    },
    "kernelspec": {
      "name": "python3",
      "display_name": "Python 3"
    },
    "language_info": {
      "name": "python"
    }
  },
  "cells": [
    {
      "cell_type": "markdown",
      "metadata": {
        "id": "view-in-github",
        "colab_type": "text"
      },
      "source": [
        "<a href=\"https://colab.research.google.com/github/Nongbon/208499/blob/main/draft_lable_1.ipynb\" target=\"_parent\"><img src=\"https://colab.research.google.com/assets/colab-badge.svg\" alt=\"Open In Colab\"/></a>"
      ]
    },
    {
      "cell_type": "code",
      "metadata": {
        "colab": {
          "base_uri": "https://localhost:8080/"
        },
        "id": "7iEnvU9Tr8vU",
        "outputId": "2894a01d-78e5-4ba8-d2e1-8c07050b11a7"
      },
      "source": [
        "!wget https://raw.githubusercontent.com/Nongbon/208499/main/ETH.csv"
      ],
      "execution_count": 1,
      "outputs": [
        {
          "output_type": "stream",
          "name": "stdout",
          "text": [
            "--2021-09-21 07:47:38--  https://raw.githubusercontent.com/Nongbon/208499/main/ETH.csv\n",
            "Resolving raw.githubusercontent.com (raw.githubusercontent.com)... 185.199.108.133, 185.199.109.133, 185.199.110.133, ...\n",
            "Connecting to raw.githubusercontent.com (raw.githubusercontent.com)|185.199.108.133|:443... connected.\n",
            "HTTP request sent, awaiting response... 200 OK\n",
            "Length: 504403 (493K) [text/plain]\n",
            "Saving to: ‘ETH.csv’\n",
            "\n",
            "\rETH.csv               0%[                    ]       0  --.-KB/s               \rETH.csv             100%[===================>] 492.58K  --.-KB/s    in 0.006s  \n",
            "\n",
            "2021-09-21 07:47:38 (78.9 MB/s) - ‘ETH.csv’ saved [504403/504403]\n",
            "\n"
          ]
        }
      ]
    },
    {
      "cell_type": "code",
      "metadata": {
        "id": "WAtzOPtgsWPs"
      },
      "source": [
        "import pandas as pd\n",
        "import numpy as np\n",
        "import matplotlib.pyplot as plt"
      ],
      "execution_count": 2,
      "outputs": []
    },
    {
      "cell_type": "code",
      "metadata": {
        "colab": {
          "base_uri": "https://localhost:8080/",
          "height": 417
        },
        "id": "BE3VWsX-sSAN",
        "outputId": "2d378a5b-82a9-4c2e-a139-f622e120acbf"
      },
      "source": [
        "data = pd.read_csv(\"ETH.csv\").drop([\"slug\",\"name\",\"symbol\",\"ref_cur\",\"time_open\",\"time_close\",\"time_high\",\"time_low\",\"id\",\"market_cap\"],axis=1)\n",
        "data = data.loc[:, ~data.columns.str.contains('^Unnamed')]\n",
        "data = data.rename({'timestamp':'date'},axis=1)\n",
        "data['date'] = data['date'].map(lambda x: x.rstrip('23:59:59'))\n",
        "data"
      ],
      "execution_count": 102,
      "outputs": [
        {
          "output_type": "execute_result",
          "data": {
            "text/html": [
              "<div>\n",
              "<style scoped>\n",
              "    .dataframe tbody tr th:only-of-type {\n",
              "        vertical-align: middle;\n",
              "    }\n",
              "\n",
              "    .dataframe tbody tr th {\n",
              "        vertical-align: top;\n",
              "    }\n",
              "\n",
              "    .dataframe thead th {\n",
              "        text-align: right;\n",
              "    }\n",
              "</style>\n",
              "<table border=\"1\" class=\"dataframe\">\n",
              "  <thead>\n",
              "    <tr style=\"text-align: right;\">\n",
              "      <th></th>\n",
              "      <th>date</th>\n",
              "      <th>open</th>\n",
              "      <th>high</th>\n",
              "      <th>low</th>\n",
              "      <th>close</th>\n",
              "      <th>volume</th>\n",
              "    </tr>\n",
              "  </thead>\n",
              "  <tbody>\n",
              "    <tr>\n",
              "      <th>0</th>\n",
              "      <td>2015-08-07</td>\n",
              "      <td>2.831620</td>\n",
              "      <td>3.536610</td>\n",
              "      <td>2.521120</td>\n",
              "      <td>2.772120</td>\n",
              "      <td>1.643290e+05</td>\n",
              "    </tr>\n",
              "    <tr>\n",
              "      <th>1</th>\n",
              "      <td>2015-08-08</td>\n",
              "      <td>2.793760</td>\n",
              "      <td>2.798810</td>\n",
              "      <td>0.714725</td>\n",
              "      <td>0.753325</td>\n",
              "      <td>6.741880e+05</td>\n",
              "    </tr>\n",
              "    <tr>\n",
              "      <th>2</th>\n",
              "      <td>2015-08-09</td>\n",
              "      <td>0.706136</td>\n",
              "      <td>0.879810</td>\n",
              "      <td>0.629191</td>\n",
              "      <td>0.701897</td>\n",
              "      <td>5.321700e+05</td>\n",
              "    </tr>\n",
              "    <tr>\n",
              "      <th>3</th>\n",
              "      <td>2015-08-10</td>\n",
              "      <td>0.713989</td>\n",
              "      <td>0.729854</td>\n",
              "      <td>0.636546</td>\n",
              "      <td>0.708448</td>\n",
              "      <td>4.052830e+05</td>\n",
              "    </tr>\n",
              "    <tr>\n",
              "      <th>4</th>\n",
              "      <td>2015-08-11</td>\n",
              "      <td>0.708087</td>\n",
              "      <td>1.131410</td>\n",
              "      <td>0.663235</td>\n",
              "      <td>1.067860</td>\n",
              "      <td>1.463100e+06</td>\n",
              "    </tr>\n",
              "    <tr>\n",
              "      <th>...</th>\n",
              "      <td>...</td>\n",
              "      <td>...</td>\n",
              "      <td>...</td>\n",
              "      <td>...</td>\n",
              "      <td>...</td>\n",
              "      <td>...</td>\n",
              "    </tr>\n",
              "    <tr>\n",
              "      <th>2232</th>\n",
              "      <td>2021-09-16</td>\n",
              "      <td>3613.073624</td>\n",
              "      <td>3673.310899</td>\n",
              "      <td>3489.805745</td>\n",
              "      <td>3571.294935</td>\n",
              "      <td>2.009390e+10</td>\n",
              "    </tr>\n",
              "    <tr>\n",
              "      <th>2233</th>\n",
              "      <td>2021-09-17</td>\n",
              "      <td>3569.568210</td>\n",
              "      <td>3589.305140</td>\n",
              "      <td>3356.449969</td>\n",
              "      <td>3398.538778</td>\n",
              "      <td>1.772236e+10</td>\n",
              "    </tr>\n",
              "    <tr>\n",
              "      <th>2234</th>\n",
              "      <td>2021-09-18</td>\n",
              "      <td>3397.422739</td>\n",
              "      <td>3540.807599</td>\n",
              "      <td>3371.892406</td>\n",
              "      <td>3432.018235</td>\n",
              "      <td>1.599522e+10</td>\n",
              "    </tr>\n",
              "    <tr>\n",
              "      <th>2235</th>\n",
              "      <td>2021-09-19</td>\n",
              "      <td>3433.287959</td>\n",
              "      <td>3448.322105</td>\n",
              "      <td>3286.172425</td>\n",
              "      <td>3329.447895</td>\n",
              "      <td>1.425761e+10</td>\n",
              "    </tr>\n",
              "    <tr>\n",
              "      <th>2236</th>\n",
              "      <td>2021-09-20</td>\n",
              "      <td>3329.670715</td>\n",
              "      <td>3343.325417</td>\n",
              "      <td>2940.839160</td>\n",
              "      <td>2958.993505</td>\n",
              "      <td>2.737168e+10</td>\n",
              "    </tr>\n",
              "  </tbody>\n",
              "</table>\n",
              "<p>2237 rows × 6 columns</p>\n",
              "</div>"
            ],
            "text/plain": [
              "             date         open  ...        close        volume\n",
              "0     2015-08-07      2.831620  ...     2.772120  1.643290e+05\n",
              "1     2015-08-08      2.793760  ...     0.753325  6.741880e+05\n",
              "2     2015-08-09      0.706136  ...     0.701897  5.321700e+05\n",
              "3     2015-08-10      0.713989  ...     0.708448  4.052830e+05\n",
              "4     2015-08-11      0.708087  ...     1.067860  1.463100e+06\n",
              "...           ...          ...  ...          ...           ...\n",
              "2232  2021-09-16   3613.073624  ...  3571.294935  2.009390e+10\n",
              "2233  2021-09-17   3569.568210  ...  3398.538778  1.772236e+10\n",
              "2234  2021-09-18   3397.422739  ...  3432.018235  1.599522e+10\n",
              "2235  2021-09-19   3433.287959  ...  3329.447895  1.425761e+10\n",
              "2236  2021-09-20   3329.670715  ...  2958.993505  2.737168e+10\n",
              "\n",
              "[2237 rows x 6 columns]"
            ]
          },
          "metadata": {},
          "execution_count": 102
        }
      ]
    },
    {
      "cell_type": "code",
      "metadata": {
        "colab": {
          "base_uri": "https://localhost:8080/"
        },
        "id": "F7FLUG4NRUVj",
        "outputId": "1b62098f-5c10-4af5-fb0c-78605ad00844"
      },
      "source": [
        "data.info()"
      ],
      "execution_count": 80,
      "outputs": [
        {
          "output_type": "stream",
          "name": "stdout",
          "text": [
            "<class 'pandas.core.frame.DataFrame'>\n",
            "RangeIndex: 2237 entries, 0 to 2236\n",
            "Data columns (total 6 columns):\n",
            " #   Column  Non-Null Count  Dtype  \n",
            "---  ------  --------------  -----  \n",
            " 0   date    2237 non-null   object \n",
            " 1   open    2237 non-null   float64\n",
            " 2   high    2237 non-null   float64\n",
            " 3   low     2237 non-null   float64\n",
            " 4   close   2237 non-null   float64\n",
            " 5   volume  2237 non-null   float64\n",
            "dtypes: float64(5), object(1)\n",
            "memory usage: 105.0+ KB\n"
          ]
        }
      ]
    },
    {
      "cell_type": "code",
      "metadata": {
        "colab": {
          "base_uri": "https://localhost:8080/",
          "height": 606
        },
        "id": "nv7i5o6lIYJo",
        "outputId": "1fa279f8-e723-4800-d59f-ac7e7c6487ae"
      },
      "source": [
        "plt.figure(figsize=(20,10))\n",
        "plt.plot(data['close'])\n",
        "plt.xlabel('Date')\n",
        "plt.ylabel('close')\n",
        "plt.show()"
      ],
      "execution_count": 81,
      "outputs": [
        {
          "output_type": "display_data",
          "data": {
            "image/png": "[encoded data removed]",
            "text/plain": [
              "<Figure size 1440x720 with 1 Axes>"
            ]
          },
          "metadata": {
            "needs_background": "light"
          }
        }
      ]
    },
    {
      "cell_type": "code",
      "metadata": {
        "id": "3fdx3n4NBTDT",
        "colab": {
          "base_uri": "https://localhost:8080/"
        },
        "outputId": "a9adbe59-b6d3-483b-926f-2baf1add2fed"
      },
      "source": [
        "n = len(data)\n",
        "n"
      ],
      "execution_count": 82,
      "outputs": [
        {
          "output_type": "execute_result",
          "data": {
            "text/plain": [
              "2237"
            ]
          },
          "metadata": {},
          "execution_count": 82
        }
      ]
    },
    {
      "cell_type": "code",
      "metadata": {
        "colab": {
          "base_uri": "https://localhost:8080/",
          "height": 501
        },
        "id": "Ym9h8WYAs0Dm",
        "outputId": "7f5c7fde-f676-4a49-9b81-de610831e6f0"
      },
      "source": [
        "data['label'] = ''\n",
        "for i in range(len(data)) :\n",
        "  if i+1 < n :\n",
        "    data['label'][i+1] = data['close'][i+1] / data['close'][i]\n",
        "data"
      ],
      "execution_count": 118,
      "outputs": [
        {
          "output_type": "stream",
          "name": "stderr",
          "text": [
            "/usr/local/lib/python3.7/dist-packages/ipykernel_launcher.py:4: SettingWithCopyWarning: \n",
            "A value is trying to be set on a copy of a slice from a DataFrame\n",
            "\n",
            "See the caveats in the documentation: https://pandas.pydata.org/pandas-docs/stable/user_guide/indexing.html#returning-a-view-versus-a-copy\n",
            "  after removing the cwd from sys.path.\n"
          ]
        },
        {
          "output_type": "execute_result",
          "data": {
            "text/html": [
              "<div>\n",
              "<style scoped>\n",
              "    .dataframe tbody tr th:only-of-type {\n",
              "        vertical-align: middle;\n",
              "    }\n",
              "\n",
              "    .dataframe tbody tr th {\n",
              "        vertical-align: top;\n",
              "    }\n",
              "\n",
              "    .dataframe thead th {\n",
              "        text-align: right;\n",
              "    }\n",
              "</style>\n",
              "<table border=\"1\" class=\"dataframe\">\n",
              "  <thead>\n",
              "    <tr style=\"text-align: right;\">\n",
              "      <th></th>\n",
              "      <th>date</th>\n",
              "      <th>open</th>\n",
              "      <th>high</th>\n",
              "      <th>low</th>\n",
              "      <th>close</th>\n",
              "      <th>volume</th>\n",
              "      <th>label</th>\n",
              "      <th>Y</th>\n",
              "    </tr>\n",
              "  </thead>\n",
              "  <tbody>\n",
              "    <tr>\n",
              "      <th>0</th>\n",
              "      <td>2015-08-07</td>\n",
              "      <td>2.831620</td>\n",
              "      <td>3.536610</td>\n",
              "      <td>2.521120</td>\n",
              "      <td>2.772120</td>\n",
              "      <td>1.643290e+05</td>\n",
              "      <td></td>\n",
              "      <td></td>\n",
              "    </tr>\n",
              "    <tr>\n",
              "      <th>1</th>\n",
              "      <td>2015-08-08</td>\n",
              "      <td>2.793760</td>\n",
              "      <td>2.798810</td>\n",
              "      <td>0.714725</td>\n",
              "      <td>0.753325</td>\n",
              "      <td>6.741880e+05</td>\n",
              "      <td>0.27175</td>\n",
              "      <td></td>\n",
              "    </tr>\n",
              "    <tr>\n",
              "      <th>2</th>\n",
              "      <td>2015-08-09</td>\n",
              "      <td>0.706136</td>\n",
              "      <td>0.879810</td>\n",
              "      <td>0.629191</td>\n",
              "      <td>0.701897</td>\n",
              "      <td>5.321700e+05</td>\n",
              "      <td>0.931732</td>\n",
              "      <td></td>\n",
              "    </tr>\n",
              "    <tr>\n",
              "      <th>3</th>\n",
              "      <td>2015-08-10</td>\n",
              "      <td>0.713989</td>\n",
              "      <td>0.729854</td>\n",
              "      <td>0.636546</td>\n",
              "      <td>0.708448</td>\n",
              "      <td>4.052830e+05</td>\n",
              "      <td>1.00933</td>\n",
              "      <td></td>\n",
              "    </tr>\n",
              "    <tr>\n",
              "      <th>4</th>\n",
              "      <td>2015-08-11</td>\n",
              "      <td>0.708087</td>\n",
              "      <td>1.131410</td>\n",
              "      <td>0.663235</td>\n",
              "      <td>1.067860</td>\n",
              "      <td>1.463100e+06</td>\n",
              "      <td>1.50732</td>\n",
              "      <td></td>\n",
              "    </tr>\n",
              "    <tr>\n",
              "      <th>...</th>\n",
              "      <td>...</td>\n",
              "      <td>...</td>\n",
              "      <td>...</td>\n",
              "      <td>...</td>\n",
              "      <td>...</td>\n",
              "      <td>...</td>\n",
              "      <td>...</td>\n",
              "      <td>...</td>\n",
              "    </tr>\n",
              "    <tr>\n",
              "      <th>2232</th>\n",
              "      <td>2021-09-16</td>\n",
              "      <td>3613.073624</td>\n",
              "      <td>3673.310899</td>\n",
              "      <td>3489.805745</td>\n",
              "      <td>3571.294935</td>\n",
              "      <td>2.009390e+10</td>\n",
              "      <td>0.987833</td>\n",
              "      <td></td>\n",
              "    </tr>\n",
              "    <tr>\n",
              "      <th>2233</th>\n",
              "      <td>2021-09-17</td>\n",
              "      <td>3569.568210</td>\n",
              "      <td>3589.305140</td>\n",
              "      <td>3356.449969</td>\n",
              "      <td>3398.538778</td>\n",
              "      <td>1.772236e+10</td>\n",
              "      <td>0.951626</td>\n",
              "      <td></td>\n",
              "    </tr>\n",
              "    <tr>\n",
              "      <th>2234</th>\n",
              "      <td>2021-09-18</td>\n",
              "      <td>3397.422739</td>\n",
              "      <td>3540.807599</td>\n",
              "      <td>3371.892406</td>\n",
              "      <td>3432.018235</td>\n",
              "      <td>1.599522e+10</td>\n",
              "      <td>1.00985</td>\n",
              "      <td></td>\n",
              "    </tr>\n",
              "    <tr>\n",
              "      <th>2235</th>\n",
              "      <td>2021-09-19</td>\n",
              "      <td>3433.287959</td>\n",
              "      <td>3448.322105</td>\n",
              "      <td>3286.172425</td>\n",
              "      <td>3329.447895</td>\n",
              "      <td>1.425761e+10</td>\n",
              "      <td>0.970114</td>\n",
              "      <td></td>\n",
              "    </tr>\n",
              "    <tr>\n",
              "      <th>2236</th>\n",
              "      <td>2021-09-20</td>\n",
              "      <td>3329.670715</td>\n",
              "      <td>3343.325417</td>\n",
              "      <td>2940.839160</td>\n",
              "      <td>2958.993505</td>\n",
              "      <td>2.737168e+10</td>\n",
              "      <td>0.888734</td>\n",
              "      <td></td>\n",
              "    </tr>\n",
              "  </tbody>\n",
              "</table>\n",
              "<p>2237 rows × 8 columns</p>\n",
              "</div>"
            ],
            "text/plain": [
              "             date         open         high  ...        volume     label  Y\n",
              "0     2015-08-07      2.831620     3.536610  ...  1.643290e+05             \n",
              "1     2015-08-08      2.793760     2.798810  ...  6.741880e+05   0.27175   \n",
              "2     2015-08-09      0.706136     0.879810  ...  5.321700e+05  0.931732   \n",
              "3     2015-08-10      0.713989     0.729854  ...  4.052830e+05   1.00933   \n",
              "4     2015-08-11      0.708087     1.131410  ...  1.463100e+06   1.50732   \n",
              "...           ...          ...          ...  ...           ...       ... ..\n",
              "2232  2021-09-16   3613.073624  3673.310899  ...  2.009390e+10  0.987833   \n",
              "2233  2021-09-17   3569.568210  3589.305140  ...  1.772236e+10  0.951626   \n",
              "2234  2021-09-18   3397.422739  3540.807599  ...  1.599522e+10   1.00985   \n",
              "2235  2021-09-19   3433.287959  3448.322105  ...  1.425761e+10  0.970114   \n",
              "2236  2021-09-20   3329.670715  3343.325417  ...  2.737168e+10  0.888734   \n",
              "\n",
              "[2237 rows x 8 columns]"
            ]
          },
          "metadata": {},
          "execution_count": 118
        }
      ]
    },
    {
      "cell_type": "code",
      "metadata": {
        "colab": {
          "base_uri": "https://localhost:8080/",
          "height": 585
        },
        "id": "9kPlSuhS7th9",
        "outputId": "4e1da5a7-c3e9-4620-9050-c465fc7bbe55"
      },
      "source": [
        "data['Y'] = ''\n",
        "for i in range(len(data)) :\n",
        "  if i+1 < n :\n",
        "    if data['label'][i+1] > 1 :\n",
        "      data['Y'][i+1] = 1\n",
        "    else : \n",
        "      data['Y'][i+1] = 0\n",
        "data"
      ],
      "execution_count": 119,
      "outputs": [
        {
          "output_type": "stream",
          "name": "stderr",
          "text": [
            "/usr/local/lib/python3.7/dist-packages/ipykernel_launcher.py:7: SettingWithCopyWarning: \n",
            "A value is trying to be set on a copy of a slice from a DataFrame\n",
            "\n",
            "See the caveats in the documentation: https://pandas.pydata.org/pandas-docs/stable/user_guide/indexing.html#returning-a-view-versus-a-copy\n",
            "  import sys\n",
            "/usr/local/lib/python3.7/dist-packages/ipykernel_launcher.py:5: SettingWithCopyWarning: \n",
            "A value is trying to be set on a copy of a slice from a DataFrame\n",
            "\n",
            "See the caveats in the documentation: https://pandas.pydata.org/pandas-docs/stable/user_guide/indexing.html#returning-a-view-versus-a-copy\n",
            "  \"\"\"\n"
          ]
        },
        {
          "output_type": "execute_result",
          "data": {
            "text/html": [
              "<div>\n",
              "<style scoped>\n",
              "    .dataframe tbody tr th:only-of-type {\n",
              "        vertical-align: middle;\n",
              "    }\n",
              "\n",
              "    .dataframe tbody tr th {\n",
              "        vertical-align: top;\n",
              "    }\n",
              "\n",
              "    .dataframe thead th {\n",
              "        text-align: right;\n",
              "    }\n",
              "</style>\n",
              "<table border=\"1\" class=\"dataframe\">\n",
              "  <thead>\n",
              "    <tr style=\"text-align: right;\">\n",
              "      <th></th>\n",
              "      <th>date</th>\n",
              "      <th>open</th>\n",
              "      <th>high</th>\n",
              "      <th>low</th>\n",
              "      <th>close</th>\n",
              "      <th>volume</th>\n",
              "      <th>label</th>\n",
              "      <th>Y</th>\n",
              "    </tr>\n",
              "  </thead>\n",
              "  <tbody>\n",
              "    <tr>\n",
              "      <th>0</th>\n",
              "      <td>2015-08-07</td>\n",
              "      <td>2.831620</td>\n",
              "      <td>3.536610</td>\n",
              "      <td>2.521120</td>\n",
              "      <td>2.772120</td>\n",
              "      <td>1.643290e+05</td>\n",
              "      <td></td>\n",
              "      <td></td>\n",
              "    </tr>\n",
              "    <tr>\n",
              "      <th>1</th>\n",
              "      <td>2015-08-08</td>\n",
              "      <td>2.793760</td>\n",
              "      <td>2.798810</td>\n",
              "      <td>0.714725</td>\n",
              "      <td>0.753325</td>\n",
              "      <td>6.741880e+05</td>\n",
              "      <td>0.27175</td>\n",
              "      <td>0</td>\n",
              "    </tr>\n",
              "    <tr>\n",
              "      <th>2</th>\n",
              "      <td>2015-08-09</td>\n",
              "      <td>0.706136</td>\n",
              "      <td>0.879810</td>\n",
              "      <td>0.629191</td>\n",
              "      <td>0.701897</td>\n",
              "      <td>5.321700e+05</td>\n",
              "      <td>0.931732</td>\n",
              "      <td>0</td>\n",
              "    </tr>\n",
              "    <tr>\n",
              "      <th>3</th>\n",
              "      <td>2015-08-10</td>\n",
              "      <td>0.713989</td>\n",
              "      <td>0.729854</td>\n",
              "      <td>0.636546</td>\n",
              "      <td>0.708448</td>\n",
              "      <td>4.052830e+05</td>\n",
              "      <td>1.00933</td>\n",
              "      <td>1</td>\n",
              "    </tr>\n",
              "    <tr>\n",
              "      <th>4</th>\n",
              "      <td>2015-08-11</td>\n",
              "      <td>0.708087</td>\n",
              "      <td>1.131410</td>\n",
              "      <td>0.663235</td>\n",
              "      <td>1.067860</td>\n",
              "      <td>1.463100e+06</td>\n",
              "      <td>1.50732</td>\n",
              "      <td>1</td>\n",
              "    </tr>\n",
              "    <tr>\n",
              "      <th>...</th>\n",
              "      <td>...</td>\n",
              "      <td>...</td>\n",
              "      <td>...</td>\n",
              "      <td>...</td>\n",
              "      <td>...</td>\n",
              "      <td>...</td>\n",
              "      <td>...</td>\n",
              "      <td>...</td>\n",
              "    </tr>\n",
              "    <tr>\n",
              "      <th>2232</th>\n",
              "      <td>2021-09-16</td>\n",
              "      <td>3613.073624</td>\n",
              "      <td>3673.310899</td>\n",
              "      <td>3489.805745</td>\n",
              "      <td>3571.294935</td>\n",
              "      <td>2.009390e+10</td>\n",
              "      <td>0.987833</td>\n",
              "      <td>0</td>\n",
              "    </tr>\n",
              "    <tr>\n",
              "      <th>2233</th>\n",
              "      <td>2021-09-17</td>\n",
              "      <td>3569.568210</td>\n",
              "      <td>3589.305140</td>\n",
              "      <td>3356.449969</td>\n",
              "      <td>3398.538778</td>\n",
              "      <td>1.772236e+10</td>\n",
              "      <td>0.951626</td>\n",
              "      <td>0</td>\n",
              "    </tr>\n",
              "    <tr>\n",
              "      <th>2234</th>\n",
              "      <td>2021-09-18</td>\n",
              "      <td>3397.422739</td>\n",
              "      <td>3540.807599</td>\n",
              "      <td>3371.892406</td>\n",
              "      <td>3432.018235</td>\n",
              "      <td>1.599522e+10</td>\n",
              "      <td>1.00985</td>\n",
              "      <td>1</td>\n",
              "    </tr>\n",
              "    <tr>\n",
              "      <th>2235</th>\n",
              "      <td>2021-09-19</td>\n",
              "      <td>3433.287959</td>\n",
              "      <td>3448.322105</td>\n",
              "      <td>3286.172425</td>\n",
              "      <td>3329.447895</td>\n",
              "      <td>1.425761e+10</td>\n",
              "      <td>0.970114</td>\n",
              "      <td>0</td>\n",
              "    </tr>\n",
              "    <tr>\n",
              "      <th>2236</th>\n",
              "      <td>2021-09-20</td>\n",
              "      <td>3329.670715</td>\n",
              "      <td>3343.325417</td>\n",
              "      <td>2940.839160</td>\n",
              "      <td>2958.993505</td>\n",
              "      <td>2.737168e+10</td>\n",
              "      <td>0.888734</td>\n",
              "      <td>0</td>\n",
              "    </tr>\n",
              "  </tbody>\n",
              "</table>\n",
              "<p>2237 rows × 8 columns</p>\n",
              "</div>"
            ],
            "text/plain": [
              "             date         open         high  ...        volume     label  Y\n",
              "0     2015-08-07      2.831620     3.536610  ...  1.643290e+05             \n",
              "1     2015-08-08      2.793760     2.798810  ...  6.741880e+05   0.27175  0\n",
              "2     2015-08-09      0.706136     0.879810  ...  5.321700e+05  0.931732  0\n",
              "3     2015-08-10      0.713989     0.729854  ...  4.052830e+05   1.00933  1\n",
              "4     2015-08-11      0.708087     1.131410  ...  1.463100e+06   1.50732  1\n",
              "...           ...          ...          ...  ...           ...       ... ..\n",
              "2232  2021-09-16   3613.073624  3673.310899  ...  2.009390e+10  0.987833  0\n",
              "2233  2021-09-17   3569.568210  3589.305140  ...  1.772236e+10  0.951626  0\n",
              "2234  2021-09-18   3397.422739  3540.807599  ...  1.599522e+10   1.00985  1\n",
              "2235  2021-09-19   3433.287959  3448.322105  ...  1.425761e+10  0.970114  0\n",
              "2236  2021-09-20   3329.670715  3343.325417  ...  2.737168e+10  0.888734  0\n",
              "\n",
              "[2237 rows x 8 columns]"
            ]
          },
          "metadata": {},
          "execution_count": 119
        }
      ]
    },
    {
      "cell_type": "code",
      "metadata": {
        "id": "m1YGugH586R7"
      },
      "source": [
        "data.to_csv(\"label.csv\")"
      ],
      "execution_count": null,
      "outputs": []
    },
    {
      "cell_type": "markdown",
      "metadata": {
        "id": "j1ovI0T6EHoK"
      },
      "source": [
        "### **Input Indicator**"
      ]
    },
    {
      "cell_type": "markdown",
      "metadata": {
        "id": "vKzas7-vEOqw"
      },
      "source": [
        "# **WMA**"
      ]
    },
    {
      "cell_type": "code",
      "metadata": {
        "colab": {
          "base_uri": "https://localhost:8080/"
        },
        "id": "Un5Oy20SPDH3",
        "outputId": "784b7f2f-12ca-4300-e365-011153054e42"
      },
      "source": [
        "weights = np.arange(1,11)\n",
        "weights"
      ],
      "execution_count": 121,
      "outputs": [
        {
          "output_type": "execute_result",
          "data": {
            "text/plain": [
              "array([ 1,  2,  3,  4,  5,  6,  7,  8,  9, 10])"
            ]
          },
          "metadata": {},
          "execution_count": 121
        }
      ]
    },
    {
      "cell_type": "code",
      "metadata": {
        "colab": {
          "base_uri": "https://localhost:8080/"
        },
        "id": "hCKkVXf1PIcr",
        "outputId": "4d7501e7-b0c7-4140-8217-ac3de287b88f"
      },
      "source": [
        "wma10 = data['close'].rolling(10).apply(lambda close: np.dot(close, weights)/weights.sum(), raw=True)\n",
        "wma10"
      ],
      "execution_count": 126,
      "outputs": [
        {
          "output_type": "execute_result",
          "data": {
            "text/plain": [
              "0               NaN\n",
              "1               NaN\n",
              "2               NaN\n",
              "3               NaN\n",
              "4               NaN\n",
              "           ...     \n",
              "2232    3437.158164\n",
              "2233    3434.270176\n",
              "2234    3437.975826\n",
              "2235    3424.219539\n",
              "2236    3344.887769\n",
              "Name: close, Length: 2237, dtype: float64"
            ]
          },
          "metadata": {},
          "execution_count": 126
        }
      ]
    },
    {
      "cell_type": "markdown",
      "metadata": {
        "id": "cMgmlIzaTbiv"
      },
      "source": [
        "## **SMA**"
      ]
    },
    {
      "cell_type": "code",
      "metadata": {
        "colab": {
          "base_uri": "https://localhost:8080/"
        },
        "id": "7Z4F-P1xTlm_",
        "outputId": "74cb5baf-92ef-4f53-bc25-e148271e8176"
      },
      "source": [
        "sma10 = data['close'].rolling(10).mean()\n",
        "sma10"
      ],
      "execution_count": 124,
      "outputs": [
        {
          "output_type": "execute_result",
          "data": {
            "text/plain": [
              "0               NaN\n",
              "1               NaN\n",
              "2               NaN\n",
              "3               NaN\n",
              "4               NaN\n",
              "           ...     \n",
              "2232    3414.422714\n",
              "2233    3411.637160\n",
              "2234    3405.107471\n",
              "2235    3395.318242\n",
              "2236    3370.067008\n",
              "Name: close, Length: 2237, dtype: float64"
            ]
          },
          "metadata": {},
          "execution_count": 124
        }
      ]
    },
    {
      "cell_type": "markdown",
      "metadata": {
        "id": "BUuNzJInGT64"
      },
      "source": [
        "## **Stochastic (%K)**"
      ]
    },
    {
      "cell_type": "code",
      "metadata": {
        "colab": {
          "base_uri": "https://localhost:8080/",
          "height": 606
        },
        "id": "Pkvx8vsxVQVK",
        "outputId": "4172c060-0134-43fe-b390-e73c7c8c5f99"
      },
      "source": [
        "plt.figure(figsize = (20,10))\n",
        "plt.plot(data['close'], label=\"close\")\n",
        "plt.plot(wma10, label=\"10-Day WMA\" , color='lime')\n",
        "plt.plot(sma10, label=\"10-Day SMA\", color='red')\n",
        "plt.xlabel(\"Date\")\n",
        "plt.ylabel(\"Close\")\n",
        "plt.legend()\n",
        "plt.show()"
      ],
      "execution_count": 128,
      "outputs": [
        {
          "output_type": "display_data",
          "data": {
            "image/png": "[encoded data removed]",
            "text/plain": [
              "<Figure size 1440x720 with 1 Axes>"
            ]
          },
          "metadata": {
            "needs_background": "light"
          }
        }
      ]
    }
  ]
}