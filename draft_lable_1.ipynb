{
  "nbformat": 4,
  "nbformat_minor": 0,
  "metadata": {
    "colab": {
      "name": "draft lable 1.ipynb",
      "provenance": [],
      "authorship_tag": "ABX9TyOrR7hBtd4ABLD9ohJzuJ/E",
      "include_colab_link": true
    },
    "kernelspec": {
      "name": "python3",
      "display_name": "Python 3"
    },
    "language_info": {
      "name": "python"
    }
  },
  "cells": [
    {
      "cell_type": "markdown",
      "metadata": {
        "id": "view-in-github",
        "colab_type": "text"
      },
      "source": [
        "<a href=\"https://colab.research.google.com/github/Nongbon/208499/blob/main/draft_lable_1.ipynb\" target=\"_parent\"><img src=\"https://colab.research.google.com/assets/colab-badge.svg\" alt=\"Open In Colab\"/></a>"
      ]
    },
    {
      "cell_type": "code",
      "metadata": {
        "colab": {
          "base_uri": "https://localhost:8080/"
        },
        "id": "7iEnvU9Tr8vU",
        "outputId": "702142df-6f0b-45b9-b971-ce68c2124adf"
      },
      "source": [
        "!wget https://raw.githubusercontent.com/Nongbon/208499/main/ETH-USD.csv"
      ],
      "execution_count": 19,
      "outputs": [
        {
          "output_type": "stream",
          "name": "stdout",
          "text": [
            "--2021-09-13 11:28:37--  https://raw.githubusercontent.com/Nongbon/208499/main/ETH-USD.csv\n",
            "Resolving raw.githubusercontent.com (raw.githubusercontent.com)... 185.199.109.133, 185.199.108.133, 185.199.111.133, ...\n",
            "Connecting to raw.githubusercontent.com (raw.githubusercontent.com)|185.199.109.133|:443... connected.\n",
            "HTTP request sent, awaiting response... 200 OK\n",
            "Length: 166232 (162K) [text/plain]\n",
            "Saving to: ‘ETH-USD.csv.1’\n",
            "\n",
            "\rETH-USD.csv.1         0%[                    ]       0  --.-KB/s               \rETH-USD.csv.1       100%[===================>] 162.34K  --.-KB/s    in 0.02s   \n",
            "\n",
            "2021-09-13 11:28:37 (7.09 MB/s) - ‘ETH-USD.csv.1’ saved [166232/166232]\n",
            "\n"
          ]
        }
      ]
    },
    {
      "cell_type": "code",
      "metadata": {
        "id": "WAtzOPtgsWPs"
      },
      "source": [
        "import pandas as pd\n",
        "import numpy as np\n",
        "import matplotlib.pyplot as plt"
      ],
      "execution_count": 20,
      "outputs": []
    },
    {
      "cell_type": "code",
      "metadata": {
        "colab": {
          "base_uri": "https://localhost:8080/",
          "height": 418
        },
        "id": "BE3VWsX-sSAN",
        "outputId": "a19d7dab-e3d7-4699-e0f0-b5f957c966b6"
      },
      "source": [
        "data = pd.read_csv(\"ETH-USD.csv\")\n",
        "data"
      ],
      "execution_count": 21,
      "outputs": [
        {
          "output_type": "execute_result",
          "data": {
            "text/html": [
              "<div>\n",
              "<style scoped>\n",
              "    .dataframe tbody tr th:only-of-type {\n",
              "        vertical-align: middle;\n",
              "    }\n",
              "\n",
              "    .dataframe tbody tr th {\n",
              "        vertical-align: top;\n",
              "    }\n",
              "\n",
              "    .dataframe thead th {\n",
              "        text-align: right;\n",
              "    }\n",
              "</style>\n",
              "<table border=\"1\" class=\"dataframe\">\n",
              "  <thead>\n",
              "    <tr style=\"text-align: right;\">\n",
              "      <th></th>\n",
              "      <th>Date</th>\n",
              "      <th>Open</th>\n",
              "      <th>High</th>\n",
              "      <th>Low</th>\n",
              "      <th>Close</th>\n",
              "      <th>Adj Close</th>\n",
              "      <th>Volume</th>\n",
              "    </tr>\n",
              "  </thead>\n",
              "  <tbody>\n",
              "    <tr>\n",
              "      <th>0</th>\n",
              "      <td>2015-08-07</td>\n",
              "      <td>2.831620</td>\n",
              "      <td>3.536610</td>\n",
              "      <td>2.521120</td>\n",
              "      <td>2.772120</td>\n",
              "      <td>2.772120</td>\n",
              "      <td>1.643290e+05</td>\n",
              "    </tr>\n",
              "    <tr>\n",
              "      <th>1</th>\n",
              "      <td>2015-08-08</td>\n",
              "      <td>2.793760</td>\n",
              "      <td>2.798810</td>\n",
              "      <td>0.714725</td>\n",
              "      <td>0.753325</td>\n",
              "      <td>0.753325</td>\n",
              "      <td>6.741880e+05</td>\n",
              "    </tr>\n",
              "    <tr>\n",
              "      <th>2</th>\n",
              "      <td>2015-08-09</td>\n",
              "      <td>0.706136</td>\n",
              "      <td>0.879810</td>\n",
              "      <td>0.629191</td>\n",
              "      <td>0.701897</td>\n",
              "      <td>0.701897</td>\n",
              "      <td>5.321700e+05</td>\n",
              "    </tr>\n",
              "    <tr>\n",
              "      <th>3</th>\n",
              "      <td>2015-08-10</td>\n",
              "      <td>0.713989</td>\n",
              "      <td>0.729854</td>\n",
              "      <td>0.636546</td>\n",
              "      <td>0.708448</td>\n",
              "      <td>0.708448</td>\n",
              "      <td>4.052830e+05</td>\n",
              "    </tr>\n",
              "    <tr>\n",
              "      <th>4</th>\n",
              "      <td>2015-08-11</td>\n",
              "      <td>0.708087</td>\n",
              "      <td>1.131410</td>\n",
              "      <td>0.663235</td>\n",
              "      <td>1.067860</td>\n",
              "      <td>1.067860</td>\n",
              "      <td>1.463100e+06</td>\n",
              "    </tr>\n",
              "    <tr>\n",
              "      <th>...</th>\n",
              "      <td>...</td>\n",
              "      <td>...</td>\n",
              "      <td>...</td>\n",
              "      <td>...</td>\n",
              "      <td>...</td>\n",
              "      <td>...</td>\n",
              "      <td>...</td>\n",
              "    </tr>\n",
              "    <tr>\n",
              "      <th>2217</th>\n",
              "      <td>2021-09-01</td>\n",
              "      <td>3430.762451</td>\n",
              "      <td>3836.867432</td>\n",
              "      <td>3387.408447</td>\n",
              "      <td>3834.828125</td>\n",
              "      <td>3834.828125</td>\n",
              "      <td>3.007089e+10</td>\n",
              "    </tr>\n",
              "    <tr>\n",
              "      <th>2218</th>\n",
              "      <td>2021-09-02</td>\n",
              "      <td>3825.027832</td>\n",
              "      <td>3830.711426</td>\n",
              "      <td>3726.750488</td>\n",
              "      <td>3790.989990</td>\n",
              "      <td>3790.989990</td>\n",
              "      <td>2.438740e+10</td>\n",
              "    </tr>\n",
              "    <tr>\n",
              "      <th>2219</th>\n",
              "      <td>2021-09-03</td>\n",
              "      <td>3787.486572</td>\n",
              "      <td>4022.469238</td>\n",
              "      <td>3712.678223</td>\n",
              "      <td>3940.614746</td>\n",
              "      <td>3940.614746</td>\n",
              "      <td>2.620777e+10</td>\n",
              "    </tr>\n",
              "    <tr>\n",
              "      <th>2220</th>\n",
              "      <td>2021-09-04</td>\n",
              "      <td>3937.910156</td>\n",
              "      <td>3969.448730</td>\n",
              "      <td>3837.931152</td>\n",
              "      <td>3887.828369</td>\n",
              "      <td>3887.828369</td>\n",
              "      <td>2.080696e+10</td>\n",
              "    </tr>\n",
              "    <tr>\n",
              "      <th>2221</th>\n",
              "      <td>2021-09-05</td>\n",
              "      <td>3892.189697</td>\n",
              "      <td>3949.808594</td>\n",
              "      <td>3844.084229</td>\n",
              "      <td>3905.029053</td>\n",
              "      <td>3905.029053</td>\n",
              "      <td>1.851059e+10</td>\n",
              "    </tr>\n",
              "  </tbody>\n",
              "</table>\n",
              "<p>2222 rows × 7 columns</p>\n",
              "</div>"
            ],
            "text/plain": [
              "            Date         Open  ...    Adj Close        Volume\n",
              "0     2015-08-07     2.831620  ...     2.772120  1.643290e+05\n",
              "1     2015-08-08     2.793760  ...     0.753325  6.741880e+05\n",
              "2     2015-08-09     0.706136  ...     0.701897  5.321700e+05\n",
              "3     2015-08-10     0.713989  ...     0.708448  4.052830e+05\n",
              "4     2015-08-11     0.708087  ...     1.067860  1.463100e+06\n",
              "...          ...          ...  ...          ...           ...\n",
              "2217  2021-09-01  3430.762451  ...  3834.828125  3.007089e+10\n",
              "2218  2021-09-02  3825.027832  ...  3790.989990  2.438740e+10\n",
              "2219  2021-09-03  3787.486572  ...  3940.614746  2.620777e+10\n",
              "2220  2021-09-04  3937.910156  ...  3887.828369  2.080696e+10\n",
              "2221  2021-09-05  3892.189697  ...  3905.029053  1.851059e+10\n",
              "\n",
              "[2222 rows x 7 columns]"
            ]
          },
          "metadata": {},
          "execution_count": 21
        }
      ]
    },
    {
      "cell_type": "code",
      "metadata": {
        "colab": {
          "base_uri": "https://localhost:8080/"
        },
        "id": "F7FLUG4NRUVj",
        "outputId": "544935f1-dde0-4b5b-b51b-7231d70f7e7b"
      },
      "source": [
        "data.info()"
      ],
      "execution_count": 76,
      "outputs": [
        {
          "output_type": "stream",
          "name": "stdout",
          "text": [
            "<class 'pandas.core.frame.DataFrame'>\n",
            "RangeIndex: 2222 entries, 0 to 2221\n",
            "Data columns (total 9 columns):\n",
            " #   Column     Non-Null Count  Dtype  \n",
            "---  ------     --------------  -----  \n",
            " 0   Date       2222 non-null   object \n",
            " 1   Open       2218 non-null   float64\n",
            " 2   High       2218 non-null   float64\n",
            " 3   Low        2218 non-null   float64\n",
            " 4   Close      2218 non-null   float64\n",
            " 5   Adj Close  2218 non-null   float64\n",
            " 6   Volume     2218 non-null   float64\n",
            " 7   label      2215 non-null   float64\n",
            " 8   Y          2222 non-null   int64  \n",
            "dtypes: float64(7), int64(1), object(1)\n",
            "memory usage: 156.4+ KB\n"
          ]
        }
      ]
    },
    {
      "cell_type": "code",
      "metadata": {
        "colab": {
          "base_uri": "https://localhost:8080/",
          "height": 606
        },
        "id": "nv7i5o6lIYJo",
        "outputId": "57a82129-0def-4750-a80f-cef71f3d1e63"
      },
      "source": [
        "plt.figure(figsize=(20,10))\n",
        "plt.plot(data['Close'])\n",
        "plt.xlabel('Date')\n",
        "plt.ylabel('Close')\n",
        "plt.show()"
      ],
      "execution_count": 77,
      "outputs": [
        {
          "output_type": "display_data",
          "data": {
            "image/png": "[encoded data removed]",
            "text/plain": [
              "<Figure size 1440x720 with 1 Axes>"
            ]
          },
          "metadata": {
            "needs_background": "light"
          }
        }
      ]
    },
    {
      "cell_type": "code",
      "metadata": {
        "colab": {
          "base_uri": "https://localhost:8080/"
        },
        "id": "4-2gE8MiRm0_",
        "outputId": "34c2e966-f005-4e3b-b543-a22a6135eed2"
      },
      "source": [
        "data.corr()['Close']"
      ],
      "execution_count": 78,
      "outputs": [
        {
          "output_type": "execute_result",
          "data": {
            "text/plain": [
              "Open         0.997385\n",
              "High         0.998777\n",
              "Low          0.998746\n",
              "Close        1.000000\n",
              "Adj Close    1.000000\n",
              "Volume       0.740677\n",
              "label        0.021706\n",
              "Y            0.055217\n",
              "Name: Close, dtype: float64"
            ]
          },
          "metadata": {},
          "execution_count": 78
        }
      ]
    },
    {
      "cell_type": "code",
      "metadata": {
        "id": "3fdx3n4NBTDT"
      },
      "source": [
        "n = len(data)"
      ],
      "execution_count": 54,
      "outputs": []
    },
    {
      "cell_type": "code",
      "metadata": {
        "colab": {
          "base_uri": "https://localhost:8080/"
        },
        "id": "Ym9h8WYAs0Dm",
        "outputId": "4c49af41-7e9d-4a06-9b89-ee9058c0aaa0"
      },
      "source": [
        "for i in range(len(data)):\n",
        "  if i+1 < n :\n",
        "    data['label'][i+1] = data['Close'][i+1] / data['Close'][i]"
      ],
      "execution_count": 65,
      "outputs": [
        {
          "output_type": "stream",
          "name": "stderr",
          "text": [
            "/usr/local/lib/python3.7/dist-packages/ipykernel_launcher.py:3: SettingWithCopyWarning: \n",
            "A value is trying to be set on a copy of a slice from a DataFrame\n",
            "\n",
            "See the caveats in the documentation: https://pandas.pydata.org/pandas-docs/stable/user_guide/indexing.html#returning-a-view-versus-a-copy\n",
            "  This is separate from the ipykernel package so we can avoid doing imports until\n"
          ]
        }
      ]
    },
    {
      "cell_type": "code",
      "metadata": {
        "colab": {
          "base_uri": "https://localhost:8080/"
        },
        "id": "9kPlSuhS7th9",
        "outputId": "1bb2b1c1-1c54-47cc-954a-0081c611c292"
      },
      "source": [
        "for i in range(len(data)) :\n",
        "  if data['label'][i] > 1 :\n",
        "    data['Y'][i] = 1\n",
        "  else : \n",
        "    data['Y'][i] = 0"
      ],
      "execution_count": 67,
      "outputs": [
        {
          "output_type": "stream",
          "name": "stderr",
          "text": [
            "/usr/local/lib/python3.7/dist-packages/ipykernel_launcher.py:5: SettingWithCopyWarning: \n",
            "A value is trying to be set on a copy of a slice from a DataFrame\n",
            "\n",
            "See the caveats in the documentation: https://pandas.pydata.org/pandas-docs/stable/user_guide/indexing.html#returning-a-view-versus-a-copy\n",
            "  \"\"\"\n",
            "/usr/local/lib/python3.7/dist-packages/ipykernel_launcher.py:3: SettingWithCopyWarning: \n",
            "A value is trying to be set on a copy of a slice from a DataFrame\n",
            "\n",
            "See the caveats in the documentation: https://pandas.pydata.org/pandas-docs/stable/user_guide/indexing.html#returning-a-view-versus-a-copy\n",
            "  This is separate from the ipykernel package so we can avoid doing imports until\n"
          ]
        }
      ]
    },
    {
      "cell_type": "code",
      "metadata": {
        "colab": {
          "base_uri": "https://localhost:8080/",
          "height": 418
        },
        "id": "x4a0D9d658fQ",
        "outputId": "c5f7db21-02d3-4285-c425-0d734ff78b80"
      },
      "source": [
        "data"
      ],
      "execution_count": 68,
      "outputs": [
        {
          "output_type": "execute_result",
          "data": {
            "text/html": [
              "<div>\n",
              "<style scoped>\n",
              "    .dataframe tbody tr th:only-of-type {\n",
              "        vertical-align: middle;\n",
              "    }\n",
              "\n",
              "    .dataframe tbody tr th {\n",
              "        vertical-align: top;\n",
              "    }\n",
              "\n",
              "    .dataframe thead th {\n",
              "        text-align: right;\n",
              "    }\n",
              "</style>\n",
              "<table border=\"1\" class=\"dataframe\">\n",
              "  <thead>\n",
              "    <tr style=\"text-align: right;\">\n",
              "      <th></th>\n",
              "      <th>Date</th>\n",
              "      <th>Open</th>\n",
              "      <th>High</th>\n",
              "      <th>Low</th>\n",
              "      <th>Close</th>\n",
              "      <th>Adj Close</th>\n",
              "      <th>Volume</th>\n",
              "      <th>label</th>\n",
              "      <th>Y</th>\n",
              "    </tr>\n",
              "  </thead>\n",
              "  <tbody>\n",
              "    <tr>\n",
              "      <th>0</th>\n",
              "      <td>2015-08-07</td>\n",
              "      <td>2.831620</td>\n",
              "      <td>3.536610</td>\n",
              "      <td>2.521120</td>\n",
              "      <td>2.772120</td>\n",
              "      <td>2.772120</td>\n",
              "      <td>1.643290e+05</td>\n",
              "      <td>0.271751</td>\n",
              "      <td>0</td>\n",
              "    </tr>\n",
              "    <tr>\n",
              "      <th>1</th>\n",
              "      <td>2015-08-08</td>\n",
              "      <td>2.793760</td>\n",
              "      <td>2.798810</td>\n",
              "      <td>0.714725</td>\n",
              "      <td>0.753325</td>\n",
              "      <td>0.753325</td>\n",
              "      <td>6.741880e+05</td>\n",
              "      <td>0.271751</td>\n",
              "      <td>0</td>\n",
              "    </tr>\n",
              "    <tr>\n",
              "      <th>2</th>\n",
              "      <td>2015-08-09</td>\n",
              "      <td>0.706136</td>\n",
              "      <td>0.879810</td>\n",
              "      <td>0.629191</td>\n",
              "      <td>0.701897</td>\n",
              "      <td>0.701897</td>\n",
              "      <td>5.321700e+05</td>\n",
              "      <td>0.931732</td>\n",
              "      <td>0</td>\n",
              "    </tr>\n",
              "    <tr>\n",
              "      <th>3</th>\n",
              "      <td>2015-08-10</td>\n",
              "      <td>0.713989</td>\n",
              "      <td>0.729854</td>\n",
              "      <td>0.636546</td>\n",
              "      <td>0.708448</td>\n",
              "      <td>0.708448</td>\n",
              "      <td>4.052830e+05</td>\n",
              "      <td>1.009333</td>\n",
              "      <td>1</td>\n",
              "    </tr>\n",
              "    <tr>\n",
              "      <th>4</th>\n",
              "      <td>2015-08-11</td>\n",
              "      <td>0.708087</td>\n",
              "      <td>1.131410</td>\n",
              "      <td>0.663235</td>\n",
              "      <td>1.067860</td>\n",
              "      <td>1.067860</td>\n",
              "      <td>1.463100e+06</td>\n",
              "      <td>1.507323</td>\n",
              "      <td>1</td>\n",
              "    </tr>\n",
              "    <tr>\n",
              "      <th>...</th>\n",
              "      <td>...</td>\n",
              "      <td>...</td>\n",
              "      <td>...</td>\n",
              "      <td>...</td>\n",
              "      <td>...</td>\n",
              "      <td>...</td>\n",
              "      <td>...</td>\n",
              "      <td>...</td>\n",
              "      <td>...</td>\n",
              "    </tr>\n",
              "    <tr>\n",
              "      <th>2217</th>\n",
              "      <td>2021-09-01</td>\n",
              "      <td>3430.762451</td>\n",
              "      <td>3836.867432</td>\n",
              "      <td>3387.408447</td>\n",
              "      <td>3834.828125</td>\n",
              "      <td>3834.828125</td>\n",
              "      <td>3.007089e+10</td>\n",
              "      <td>1.116810</td>\n",
              "      <td>1</td>\n",
              "    </tr>\n",
              "    <tr>\n",
              "      <th>2218</th>\n",
              "      <td>2021-09-02</td>\n",
              "      <td>3825.027832</td>\n",
              "      <td>3830.711426</td>\n",
              "      <td>3726.750488</td>\n",
              "      <td>3790.989990</td>\n",
              "      <td>3790.989990</td>\n",
              "      <td>2.438740e+10</td>\n",
              "      <td>0.988568</td>\n",
              "      <td>0</td>\n",
              "    </tr>\n",
              "    <tr>\n",
              "      <th>2219</th>\n",
              "      <td>2021-09-03</td>\n",
              "      <td>3787.486572</td>\n",
              "      <td>4022.469238</td>\n",
              "      <td>3712.678223</td>\n",
              "      <td>3940.614746</td>\n",
              "      <td>3940.614746</td>\n",
              "      <td>2.620777e+10</td>\n",
              "      <td>1.039469</td>\n",
              "      <td>1</td>\n",
              "    </tr>\n",
              "    <tr>\n",
              "      <th>2220</th>\n",
              "      <td>2021-09-04</td>\n",
              "      <td>3937.910156</td>\n",
              "      <td>3969.448730</td>\n",
              "      <td>3837.931152</td>\n",
              "      <td>3887.828369</td>\n",
              "      <td>3887.828369</td>\n",
              "      <td>2.080696e+10</td>\n",
              "      <td>0.986605</td>\n",
              "      <td>0</td>\n",
              "    </tr>\n",
              "    <tr>\n",
              "      <th>2221</th>\n",
              "      <td>2021-09-05</td>\n",
              "      <td>3892.189697</td>\n",
              "      <td>3949.808594</td>\n",
              "      <td>3844.084229</td>\n",
              "      <td>3905.029053</td>\n",
              "      <td>3905.029053</td>\n",
              "      <td>1.851059e+10</td>\n",
              "      <td>1.004424</td>\n",
              "      <td>1</td>\n",
              "    </tr>\n",
              "  </tbody>\n",
              "</table>\n",
              "<p>2222 rows × 9 columns</p>\n",
              "</div>"
            ],
            "text/plain": [
              "            Date         Open         High  ...        Volume     label  Y\n",
              "0     2015-08-07     2.831620     3.536610  ...  1.643290e+05  0.271751  0\n",
              "1     2015-08-08     2.793760     2.798810  ...  6.741880e+05  0.271751  0\n",
              "2     2015-08-09     0.706136     0.879810  ...  5.321700e+05  0.931732  0\n",
              "3     2015-08-10     0.713989     0.729854  ...  4.052830e+05  1.009333  1\n",
              "4     2015-08-11     0.708087     1.131410  ...  1.463100e+06  1.507323  1\n",
              "...          ...          ...          ...  ...           ...       ... ..\n",
              "2217  2021-09-01  3430.762451  3836.867432  ...  3.007089e+10  1.116810  1\n",
              "2218  2021-09-02  3825.027832  3830.711426  ...  2.438740e+10  0.988568  0\n",
              "2219  2021-09-03  3787.486572  4022.469238  ...  2.620777e+10  1.039469  1\n",
              "2220  2021-09-04  3937.910156  3969.448730  ...  2.080696e+10  0.986605  0\n",
              "2221  2021-09-05  3892.189697  3949.808594  ...  1.851059e+10  1.004424  1\n",
              "\n",
              "[2222 rows x 9 columns]"
            ]
          },
          "metadata": {},
          "execution_count": 68
        }
      ]
    },
    {
      "cell_type": "code",
      "metadata": {
        "id": "m1YGugH586R7"
      },
      "source": [
        "data.to_csv(\"label.csv\")"
      ],
      "execution_count": 44,
      "outputs": []
    },
    {
      "cell_type": "markdown",
      "metadata": {
        "id": "j1ovI0T6EHoK"
      },
      "source": [
        "### **Input Indicator**"
      ]
    },
    {
      "cell_type": "markdown",
      "metadata": {
        "id": "vKzas7-vEOqw"
      },
      "source": [
        "# **WMA**"
      ]
    },
    {
      "cell_type": "code",
      "metadata": {
        "colab": {
          "base_uri": "https://localhost:8080/"
        },
        "id": "Un5Oy20SPDH3",
        "outputId": "14532f13-0878-4faf-ccd8-aa751b76237c"
      },
      "source": [
        "weights = np.arange(1,11)\n",
        "weights"
      ],
      "execution_count": 70,
      "outputs": [
        {
          "output_type": "execute_result",
          "data": {
            "text/plain": [
              "array([ 1,  2,  3,  4,  5,  6,  7,  8,  9, 10])"
            ]
          },
          "metadata": {},
          "execution_count": 70
        }
      ]
    },
    {
      "cell_type": "code",
      "metadata": {
        "colab": {
          "base_uri": "https://localhost:8080/"
        },
        "id": "hCKkVXf1PIcr",
        "outputId": "eb6b8e09-2332-4efd-c050-75ab548132e2"
      },
      "source": [
        "wma10 = data['Close'].rolling(10).apply(lambda Close: np.dot(Close, weights)/weights.sum(), raw=True)\n",
        "wma10.head(20)"
      ],
      "execution_count": 75,
      "outputs": [
        {
          "output_type": "execute_result",
          "data": {
            "text/plain": [
              "0          NaN\n",
              "1          NaN\n",
              "2          NaN\n",
              "3          NaN\n",
              "4          NaN\n",
              "5          NaN\n",
              "6          NaN\n",
              "7          NaN\n",
              "8          NaN\n",
              "9     1.457077\n",
              "10    1.418978\n",
              "11    1.388204\n",
              "12    1.382601\n",
              "13    1.404337\n",
              "14    1.399658\n",
              "15    1.386107\n",
              "16    1.364770\n",
              "17    1.330013\n",
              "18    1.289543\n",
              "19    1.262647\n",
              "Name: Close, dtype: float64"
            ]
          },
          "metadata": {},
          "execution_count": 75
        }
      ]
    },
    {
      "cell_type": "markdown",
      "metadata": {
        "id": "cMgmlIzaTbiv"
      },
      "source": [
        "## **SMA**"
      ]
    },
    {
      "cell_type": "code",
      "metadata": {
        "colab": {
          "base_uri": "https://localhost:8080/"
        },
        "id": "7Z4F-P1xTlm_",
        "outputId": "f822c999-9034-47b0-e0ee-e5c19b264332"
      },
      "source": [
        "sma10 = data['Close'].rolling(10).mean()\n",
        "sma10"
      ],
      "execution_count": 82,
      "outputs": [
        {
          "output_type": "execute_result",
          "data": {
            "text/plain": [
              "0               NaN\n",
              "1               NaN\n",
              "2               NaN\n",
              "3               NaN\n",
              "4               NaN\n",
              "           ...     \n",
              "2217    3305.189624\n",
              "2218    3352.362891\n",
              "2219    3429.178735\n",
              "2220    3495.470044\n",
              "2221    3575.940405\n",
              "Name: Close, Length: 2222, dtype: float64"
            ]
          },
          "metadata": {},
          "execution_count": 82
        }
      ]
    },
    {
      "cell_type": "code",
      "metadata": {
        "colab": {
          "base_uri": "https://localhost:8080/",
          "height": 606
        },
        "id": "Pkvx8vsxVQVK",
        "outputId": "a541e4e7-fc0d-49e6-e776-34f85a402bc9"
      },
      "source": [
        "plt.figure(figsize = (20,10))\n",
        "plt.plot(data['Close'], label=\"Close\")\n",
        "plt.plot(wma10, label=\"10-Day WMA\" , color='lime')\n",
        "plt.plot(sma10, label=\"10-Day SMA\", color='red')\n",
        "plt.xlabel(\"Date\")\n",
        "plt.ylabel(\"Close\")\n",
        "plt.legend()\n",
        "plt.show()"
      ],
      "execution_count": 86,
      "outputs": [
        {
          "output_type": "display_data",
          "data": {
            "image/png": "[encoded data removed]",
            "text/plain": [
              "<Figure size 1440x720 with 1 Axes>"
            ]
          },
          "metadata": {
            "needs_background": "light"
          }
        }
      ]
    }
  ]
}