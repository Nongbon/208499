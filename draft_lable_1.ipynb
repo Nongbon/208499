{
  "nbformat": 4,
  "nbformat_minor": 0,
  "metadata": {
    "colab": {
      "name": "draft lable 1.ipynb",
      "provenance": [],
      "include_colab_link": true
    },
    "kernelspec": {
      "name": "python3",
      "display_name": "Python 3"
    },
    "language_info": {
      "name": "python"
    }
  },
  "cells": [
    {
      "cell_type": "markdown",
      "metadata": {
        "id": "view-in-github",
        "colab_type": "text"
      },
      "source": [
        "<a href=\"https://colab.research.google.com/github/Nongbon/208499/blob/main/draft_lable_1.ipynb\" target=\"_parent\"><img src=\"https://colab.research.google.com/assets/colab-badge.svg\" alt=\"Open In Colab\"/></a>"
      ]
    },
    {
      "cell_type": "code",
      "metadata": {
        "colab": {
          "base_uri": "https://localhost:8080/"
        },
        "id": "7iEnvU9Tr8vU",
        "outputId": "6f359550-9e40-4e52-a9bc-e7d6f5a8e75d"
      },
      "source": [
        "!wget https://raw.githubusercontent.com/Nongbon/208499/main/ETH.csv"
      ],
      "execution_count": 1,
      "outputs": [
        {
          "output_type": "stream",
          "name": "stdout",
          "text": [
            "--2021-09-27 07:15:16--  https://raw.githubusercontent.com/Nongbon/208499/main/ETH.csv\n",
            "Resolving raw.githubusercontent.com (raw.githubusercontent.com)... 185.199.111.133, 185.199.109.133, 185.199.110.133, ...\n",
            "Connecting to raw.githubusercontent.com (raw.githubusercontent.com)|185.199.111.133|:443... connected.\n",
            "HTTP request sent, awaiting response... 200 OK\n",
            "Length: 504403 (493K) [text/plain]\n",
            "Saving to: ‘ETH.csv.1’\n",
            "\n",
            "\rETH.csv.1             0%[                    ]       0  --.-KB/s               \rETH.csv.1           100%[===================>] 492.58K  --.-KB/s    in 0.006s  \n",
            "\n",
            "2021-09-27 07:15:16 (85.3 MB/s) - ‘ETH.csv.1’ saved [504403/504403]\n",
            "\n"
          ]
        }
      ]
    },
    {
      "cell_type": "code",
      "metadata": {
        "colab": {
          "base_uri": "https://localhost:8080/"
        },
        "id": "vsSbg-dUBVCu",
        "outputId": "0b6d11c3-81d8-49b0-9841-87cf94f96c72"
      },
      "source": [
        "!pip install pandas_ta"
      ],
      "execution_count": 2,
      "outputs": [
        {
          "output_type": "stream",
          "name": "stdout",
          "text": [
            "Requirement already satisfied: pandas_ta in /usr/local/lib/python3.7/dist-packages (0.3.14b0)\n",
            "Requirement already satisfied: pandas in /usr/local/lib/python3.7/dist-packages (from pandas_ta) (1.1.5)\n",
            "Requirement already satisfied: python-dateutil>=2.7.3 in /usr/local/lib/python3.7/dist-packages (from pandas->pandas_ta) (2.8.2)\n",
            "Requirement already satisfied: numpy>=1.15.4 in /usr/local/lib/python3.7/dist-packages (from pandas->pandas_ta) (1.19.5)\n",
            "Requirement already satisfied: pytz>=2017.2 in /usr/local/lib/python3.7/dist-packages (from pandas->pandas_ta) (2018.9)\n",
            "Requirement already satisfied: six>=1.5 in /usr/local/lib/python3.7/dist-packages (from python-dateutil>=2.7.3->pandas->pandas_ta) (1.15.0)\n"
          ]
        }
      ]
    },
    {
      "cell_type": "code",
      "metadata": {
        "id": "WAtzOPtgsWPs"
      },
      "source": [
        "import pandas as pd\n",
        "import pandas_ta as ta\n",
        "import numpy as np\n",
        "import matplotlib.pyplot as plt\n",
        "from matplotlib import pyplot\n",
        "from matplotlib import dates as mpl_dates"
      ],
      "execution_count": 3,
      "outputs": []
    },
    {
      "cell_type": "code",
      "metadata": {
        "colab": {
          "base_uri": "https://localhost:8080/",
          "height": 423
        },
        "id": "BE3VWsX-sSAN",
        "outputId": "0fba7c96-504c-484a-bd6c-d4257807667d"
      },
      "source": [
        "data = pd.read_csv(\"ETH.csv\").drop([\"slug\",\"name\",\"symbol\",\"ref_cur\",\"time_open\",\"time_close\",\"time_high\",\"time_low\",\"id\",\"market_cap\"],axis=1)\n",
        "data = data.loc[:, ~data.columns.str.contains('^Unnamed')]\n",
        "data = data.rename({'timestamp':'date'},axis=1)\n",
        "data['date'] = data['date'].map(lambda x: x.rstrip('23:59:59'))\n",
        "data['date'] = pd.to_datetime(data['date'])\n",
        "data"
      ],
      "execution_count": 4,
      "outputs": [
        {
          "output_type": "execute_result",
          "data": {
            "text/html": [
              "<div>\n",
              "<style scoped>\n",
              "    .dataframe tbody tr th:only-of-type {\n",
              "        vertical-align: middle;\n",
              "    }\n",
              "\n",
              "    .dataframe tbody tr th {\n",
              "        vertical-align: top;\n",
              "    }\n",
              "\n",
              "    .dataframe thead th {\n",
              "        text-align: right;\n",
              "    }\n",
              "</style>\n",
              "<table border=\"1\" class=\"dataframe\">\n",
              "  <thead>\n",
              "    <tr style=\"text-align: right;\">\n",
              "      <th></th>\n",
              "      <th>date</th>\n",
              "      <th>open</th>\n",
              "      <th>high</th>\n",
              "      <th>low</th>\n",
              "      <th>close</th>\n",
              "      <th>volume</th>\n",
              "    </tr>\n",
              "  </thead>\n",
              "  <tbody>\n",
              "    <tr>\n",
              "      <th>0</th>\n",
              "      <td>2015-08-07</td>\n",
              "      <td>2.831620</td>\n",
              "      <td>3.536610</td>\n",
              "      <td>2.521120</td>\n",
              "      <td>2.772120</td>\n",
              "      <td>1.643290e+05</td>\n",
              "    </tr>\n",
              "    <tr>\n",
              "      <th>1</th>\n",
              "      <td>2015-08-08</td>\n",
              "      <td>2.793760</td>\n",
              "      <td>2.798810</td>\n",
              "      <td>0.714725</td>\n",
              "      <td>0.753325</td>\n",
              "      <td>6.741880e+05</td>\n",
              "    </tr>\n",
              "    <tr>\n",
              "      <th>2</th>\n",
              "      <td>2015-08-09</td>\n",
              "      <td>0.706136</td>\n",
              "      <td>0.879810</td>\n",
              "      <td>0.629191</td>\n",
              "      <td>0.701897</td>\n",
              "      <td>5.321700e+05</td>\n",
              "    </tr>\n",
              "    <tr>\n",
              "      <th>3</th>\n",
              "      <td>2015-08-10</td>\n",
              "      <td>0.713989</td>\n",
              "      <td>0.729854</td>\n",
              "      <td>0.636546</td>\n",
              "      <td>0.708448</td>\n",
              "      <td>4.052830e+05</td>\n",
              "    </tr>\n",
              "    <tr>\n",
              "      <th>4</th>\n",
              "      <td>2015-08-11</td>\n",
              "      <td>0.708087</td>\n",
              "      <td>1.131410</td>\n",
              "      <td>0.663235</td>\n",
              "      <td>1.067860</td>\n",
              "      <td>1.463100e+06</td>\n",
              "    </tr>\n",
              "    <tr>\n",
              "      <th>...</th>\n",
              "      <td>...</td>\n",
              "      <td>...</td>\n",
              "      <td>...</td>\n",
              "      <td>...</td>\n",
              "      <td>...</td>\n",
              "      <td>...</td>\n",
              "    </tr>\n",
              "    <tr>\n",
              "      <th>2232</th>\n",
              "      <td>2021-09-16</td>\n",
              "      <td>3613.073624</td>\n",
              "      <td>3673.310899</td>\n",
              "      <td>3489.805745</td>\n",
              "      <td>3571.294935</td>\n",
              "      <td>2.009390e+10</td>\n",
              "    </tr>\n",
              "    <tr>\n",
              "      <th>2233</th>\n",
              "      <td>2021-09-17</td>\n",
              "      <td>3569.568210</td>\n",
              "      <td>3589.305140</td>\n",
              "      <td>3356.449969</td>\n",
              "      <td>3398.538778</td>\n",
              "      <td>1.772236e+10</td>\n",
              "    </tr>\n",
              "    <tr>\n",
              "      <th>2234</th>\n",
              "      <td>2021-09-18</td>\n",
              "      <td>3397.422739</td>\n",
              "      <td>3540.807599</td>\n",
              "      <td>3371.892406</td>\n",
              "      <td>3432.018235</td>\n",
              "      <td>1.599522e+10</td>\n",
              "    </tr>\n",
              "    <tr>\n",
              "      <th>2235</th>\n",
              "      <td>2021-09-19</td>\n",
              "      <td>3433.287959</td>\n",
              "      <td>3448.322105</td>\n",
              "      <td>3286.172425</td>\n",
              "      <td>3329.447895</td>\n",
              "      <td>1.425761e+10</td>\n",
              "    </tr>\n",
              "    <tr>\n",
              "      <th>2236</th>\n",
              "      <td>2021-09-20</td>\n",
              "      <td>3329.670715</td>\n",
              "      <td>3343.325417</td>\n",
              "      <td>2940.839160</td>\n",
              "      <td>2958.993505</td>\n",
              "      <td>2.737168e+10</td>\n",
              "    </tr>\n",
              "  </tbody>\n",
              "</table>\n",
              "<p>2237 rows × 6 columns</p>\n",
              "</div>"
            ],
            "text/plain": [
              "           date         open  ...        close        volume\n",
              "0    2015-08-07     2.831620  ...     2.772120  1.643290e+05\n",
              "1    2015-08-08     2.793760  ...     0.753325  6.741880e+05\n",
              "2    2015-08-09     0.706136  ...     0.701897  5.321700e+05\n",
              "3    2015-08-10     0.713989  ...     0.708448  4.052830e+05\n",
              "4    2015-08-11     0.708087  ...     1.067860  1.463100e+06\n",
              "...         ...          ...  ...          ...           ...\n",
              "2232 2021-09-16  3613.073624  ...  3571.294935  2.009390e+10\n",
              "2233 2021-09-17  3569.568210  ...  3398.538778  1.772236e+10\n",
              "2234 2021-09-18  3397.422739  ...  3432.018235  1.599522e+10\n",
              "2235 2021-09-19  3433.287959  ...  3329.447895  1.425761e+10\n",
              "2236 2021-09-20  3329.670715  ...  2958.993505  2.737168e+10\n",
              "\n",
              "[2237 rows x 6 columns]"
            ]
          },
          "metadata": {},
          "execution_count": 4
        }
      ]
    },
    {
      "cell_type": "code",
      "metadata": {
        "colab": {
          "base_uri": "https://localhost:8080/"
        },
        "id": "F7FLUG4NRUVj",
        "outputId": "63f21230-7a56-43d2-f0cb-b10e5fa9e758"
      },
      "source": [
        "data.info()"
      ],
      "execution_count": 5,
      "outputs": [
        {
          "output_type": "stream",
          "name": "stdout",
          "text": [
            "<class 'pandas.core.frame.DataFrame'>\n",
            "RangeIndex: 2237 entries, 0 to 2236\n",
            "Data columns (total 6 columns):\n",
            " #   Column  Non-Null Count  Dtype         \n",
            "---  ------  --------------  -----         \n",
            " 0   date    2237 non-null   datetime64[ns]\n",
            " 1   open    2237 non-null   float64       \n",
            " 2   high    2237 non-null   float64       \n",
            " 3   low     2237 non-null   float64       \n",
            " 4   close   2237 non-null   float64       \n",
            " 5   volume  2237 non-null   float64       \n",
            "dtypes: datetime64[ns](1), float64(5)\n",
            "memory usage: 105.0 KB\n"
          ]
        }
      ]
    },
    {
      "cell_type": "code",
      "metadata": {
        "colab": {
          "base_uri": "https://localhost:8080/",
          "height": 606
        },
        "id": "nv7i5o6lIYJo",
        "outputId": "70d9169a-2728-44de-aaf0-aefe242ff2c7"
      },
      "source": [
        "plt.figure(figsize=(20,10))\n",
        "plt.plot_date(data['date'],data['close'])\n",
        "plt.xlabel('Date')\n",
        "plt.ylabel('Close price')\n",
        "plt.show()"
      ],
      "execution_count": 6,
      "outputs": [
        {
          "output_type": "display_data",
          "data": {
            "image/png": "[encoded data removed]",
            "text/plain": [
              "<Figure size 1440x720 with 1 Axes>"
            ]
          },
          "metadata": {
            "needs_background": "light"
          }
        }
      ]
    },
    {
      "cell_type": "code",
      "metadata": {
        "id": "3fdx3n4NBTDT",
        "colab": {
          "base_uri": "https://localhost:8080/"
        },
        "outputId": "b59d79cc-6a99-45ca-eb35-812b0100adc1"
      },
      "source": [
        "n = len(data)\n",
        "n"
      ],
      "execution_count": 7,
      "outputs": [
        {
          "output_type": "execute_result",
          "data": {
            "text/plain": [
              "2237"
            ]
          },
          "metadata": {},
          "execution_count": 7
        }
      ]
    },
    {
      "cell_type": "code",
      "metadata": {
        "id": "Ym9h8WYAs0Dm",
        "colab": {
          "base_uri": "https://localhost:8080/"
        },
        "outputId": "3619ebab-9f9a-4fa0-c26b-d1208b5373c4"
      },
      "source": [
        "data['label'] = ''\n",
        "for i in range(len(data)) :\n",
        "  if i+1 < n :\n",
        "    data['label'][i+1] = data['close'][i+1] / data['close'][i]"
      ],
      "execution_count": 8,
      "outputs": [
        {
          "output_type": "stream",
          "name": "stderr",
          "text": [
            "/usr/local/lib/python3.7/dist-packages/ipykernel_launcher.py:4: SettingWithCopyWarning: \n",
            "A value is trying to be set on a copy of a slice from a DataFrame\n",
            "\n",
            "See the caveats in the documentation: https://pandas.pydata.org/pandas-docs/stable/user_guide/indexing.html#returning-a-view-versus-a-copy\n",
            "  after removing the cwd from sys.path.\n"
          ]
        }
      ]
    },
    {
      "cell_type": "code",
      "metadata": {
        "id": "9kPlSuhS7th9",
        "colab": {
          "base_uri": "https://localhost:8080/"
        },
        "outputId": "8b38882e-128e-418e-fdc4-d06a8cd9f0d5"
      },
      "source": [
        "data['Y'] = ''\n",
        "for i in range(len(data)) :\n",
        "  if i+1 < n :\n",
        "    if data['label'][i+1] > 1 :\n",
        "      data['Y'][i+1] = 1\n",
        "    else : \n",
        "      data['Y'][i+1] = 0"
      ],
      "execution_count": 9,
      "outputs": [
        {
          "output_type": "stream",
          "name": "stderr",
          "text": [
            "/usr/local/lib/python3.7/dist-packages/ipykernel_launcher.py:7: SettingWithCopyWarning: \n",
            "A value is trying to be set on a copy of a slice from a DataFrame\n",
            "\n",
            "See the caveats in the documentation: https://pandas.pydata.org/pandas-docs/stable/user_guide/indexing.html#returning-a-view-versus-a-copy\n",
            "  import sys\n",
            "/usr/local/lib/python3.7/dist-packages/ipykernel_launcher.py:5: SettingWithCopyWarning: \n",
            "A value is trying to be set on a copy of a slice from a DataFrame\n",
            "\n",
            "See the caveats in the documentation: https://pandas.pydata.org/pandas-docs/stable/user_guide/indexing.html#returning-a-view-versus-a-copy\n",
            "  \"\"\"\n"
          ]
        }
      ]
    },
    {
      "cell_type": "markdown",
      "metadata": {
        "id": "j1ovI0T6EHoK"
      },
      "source": [
        "### **Input Indicator** "
      ]
    },
    {
      "cell_type": "code",
      "metadata": {
        "id": "XCxm34SI7RIU"
      },
      "source": [
        "t_period = 10"
      ],
      "execution_count": 10,
      "outputs": []
    },
    {
      "cell_type": "markdown",
      "metadata": {
        "id": "RwHWlmC2sb-J"
      },
      "source": [
        "WMA 10"
      ]
    },
    {
      "cell_type": "code",
      "metadata": {
        "colab": {
          "base_uri": "https://localhost:8080/"
        },
        "id": "RxA-AKlisd55",
        "outputId": "94125871-b4c0-4fcc-b91c-557739bf4204"
      },
      "source": [
        "weights = np.arange(1,11)\n",
        "weights"
      ],
      "execution_count": 11,
      "outputs": [
        {
          "output_type": "execute_result",
          "data": {
            "text/plain": [
              "array([ 1,  2,  3,  4,  5,  6,  7,  8,  9, 10])"
            ]
          },
          "metadata": {},
          "execution_count": 11
        }
      ]
    },
    {
      "cell_type": "code",
      "metadata": {
        "id": "k28-pHaMsg6i"
      },
      "source": [
        "data['wma10'] = ''\n",
        "data['wma10'] = data['close'].rolling(t_period).apply(lambda close: np.dot(close, weights)/weights.sum(), raw=True)"
      ],
      "execution_count": 12,
      "outputs": []
    },
    {
      "cell_type": "markdown",
      "metadata": {
        "id": "bzZSg-tJsl20"
      },
      "source": [
        "SMA 10"
      ]
    },
    {
      "cell_type": "code",
      "metadata": {
        "id": "QcZ8jWDEsnbL"
      },
      "source": [
        "data['sma10'] = ''\n",
        "data['sma10'] = data['close'].rolling(t_period).mean()"
      ],
      "execution_count": 13,
      "outputs": []
    },
    {
      "cell_type": "markdown",
      "metadata": {
        "id": "ncRvqeQ5srC3"
      },
      "source": [
        "MACD"
      ]
    },
    {
      "cell_type": "code",
      "metadata": {
        "id": "SUhZd0sMst8s"
      },
      "source": [
        "exp1 = data['close'].ewm(span = 12 , adjust = False , min_periods=12).mean()\n",
        "exp2 = data['close'].ewm(span = 26 , adjust = False , min_periods=26).mean()\n",
        "macd = exp1 - exp2\n",
        "data['MACD'] = macd"
      ],
      "execution_count": 14,
      "outputs": []
    },
    {
      "cell_type": "markdown",
      "metadata": {
        "id": "kdK8BjNwswfn"
      },
      "source": [
        "Stochastic (%K) 14"
      ]
    },
    {
      "cell_type": "code",
      "metadata": {
        "id": "UwPURB0lsz_O"
      },
      "source": [
        "k_period = 14\n",
        "# Adds a \"n_high\" column with max value of previous 14 periods\n",
        "n_high = data['high'].rolling(k_period).max()\n",
        "# Adds an \"n_low\" column with min value of previous 14 periods\n",
        "n_low = data['low'].rolling(k_period).min()\n",
        "# Uses the min/max values to calculate the %k (as a percentage)\n",
        "data['%K'] = (data['close'] - n_low)  / (n_high - n_low) * 100"
      ],
      "execution_count": 15,
      "outputs": []
    },
    {
      "cell_type": "markdown",
      "metadata": {
        "id": "IrvAjYpEs2fj"
      },
      "source": [
        "RSI The first RS value requires the price from all 14 of the first trading days"
      ]
    },
    {
      "cell_type": "code",
      "metadata": {
        "id": "-KO3qiFls3WS"
      },
      "source": [
        "def rsi(data, periods = 14, ema = True):\n",
        "    \"\"\"\n",
        "    Returns a pd.Series with the relative strength index.\n",
        "    \"\"\"\n",
        "    close_delta = data['close'].diff()\n",
        "\n",
        "    # Make two series: one for lower closes and one for higher closes\n",
        "    up = close_delta.clip(lower=0)\n",
        "    down = -1 * close_delta.clip(upper=0)\n",
        "    \n",
        "    if ema == True:\n",
        "\t    # Use exponential moving average\n",
        "        ma_up = up.ewm(com = periods - 1, adjust=True, min_periods = periods).mean()\n",
        "        ma_down = down.ewm(com = periods - 1, adjust=True, min_periods = periods).mean()\n",
        "    else:\n",
        "        # Use simple moving average\n",
        "        ma_up = up.rolling(window = periods, adjust=False).mean()\n",
        "        ma_down = down.rolling(window = periods, adjust=False).mean()\n",
        "        \n",
        "    rsi = ma_up / ma_down\n",
        "    rsi = 100 - (100/(1 + rsi))\n",
        "    return rsi"
      ],
      "execution_count": 16,
      "outputs": []
    },
    {
      "cell_type": "code",
      "metadata": {
        "id": "Wil1B-mrs6_E"
      },
      "source": [
        "data['RSI'] = rsi(data, periods = 14, ema = True)"
      ],
      "execution_count": 17,
      "outputs": []
    },
    {
      "cell_type": "markdown",
      "metadata": {
        "id": "qY-ULOKQtD5z"
      },
      "source": [
        "Williams (%R)"
      ]
    },
    {
      "cell_type": "code",
      "metadata": {
        "id": "tKh9IxtHtIpn"
      },
      "source": [
        "def get_wr(high, low, close, periods = 14):\n",
        "    highh = high.rolling(14).max() \n",
        "    lowl = low.rolling(14).min()\n",
        "    wr = -100 * ((highh - close) / (highh - lowl))\n",
        "    return wr\n",
        "\n",
        "data['%R'] = get_wr(data['high'], data['low'], data['close'], periods = 14)"
      ],
      "execution_count": 18,
      "outputs": []
    },
    {
      "cell_type": "markdown",
      "metadata": {
        "id": "hqcTIqpwtwK3"
      },
      "source": [
        "## **Graph Indicator**"
      ]
    },
    {
      "cell_type": "code",
      "metadata": {
        "colab": {
          "base_uri": "https://localhost:8080/",
          "height": 606
        },
        "id": "zpiSVR2Mt0lT",
        "outputId": "e13e0e62-d540-4908-fb8a-c85334c89a69"
      },
      "source": [
        "plt.figure(figsize = (20,10))\n",
        "plt.plot(data['close'], label=\"close\")\n",
        "plt.plot(data['wma10'], label=\"10-Day WMA\" , color='lime')\n",
        "plt.plot(data['sma10'], label=\"10-Day SMA\", color='red')\n",
        "plt.plot(data['%K'], label=\"Stochastic 14-Day\", color='yellow')\n",
        "plt.plot(data['RSI'], label=\"Relative Strength Index (RSI) 14-Day\", color='blue')\n",
        "plt.plot(data['%R'], label=\"Williams %R  14-Day\", color='Black')\n",
        "plt.plot(data['MACD'], label=\"MACD\", color='pink')\n",
        "plt.xlabel(\"Date\")\n",
        "plt.ylabel(\"Close\")\n",
        "plt.legend()\n",
        "plt.show()"
      ],
      "execution_count": null,
      "outputs": [
        {
          "output_type": "display_data",
          "data": {
            "image/png": "[encoded data removed]",
            "text/plain": [
              "<Figure size 1440x720 with 1 Axes>"
            ]
          },
          "metadata": {
            "needs_background": "light"
          }
        }
      ]
    },
    {
      "cell_type": "markdown",
      "metadata": {
        "id": "pallZ4dYt7Vo"
      },
      "source": [
        "## **Correlation Test**"
      ]
    },
    {
      "cell_type": "code",
      "metadata": {
        "id": "g5dJR-2St_rM"
      },
      "source": [
        "from scipy.stats import spearmanr\n",
        "cor,p = spearmanr(data['Y'][13:],data['%K'][13:])\n",
        "print(cor,p)"
      ],
      "execution_count": null,
      "outputs": []
    },
    {
      "cell_type": "code",
      "metadata": {
        "id": "CgMCPbo4uCHe"
      },
      "source": [
        "data.corr()['close']"
      ],
      "execution_count": null,
      "outputs": []
    },
    {
      "cell_type": "markdown",
      "metadata": {
        "id": "HD4j8HchvfPY"
      },
      "source": [
        "## **Feature Improtance**"
      ]
    },
    {
      "cell_type": "code",
      "metadata": {
        "id": "X5QUMTBRxdmt",
        "colab": {
          "base_uri": "https://localhost:8080/",
          "height": 423
        },
        "outputId": "48c2effb-b865-4ebc-f94a-bdf7854138f9"
      },
      "source": [
        "data = data.dropna()\n",
        "data"
      ],
      "execution_count": 19,
      "outputs": [
        {
          "output_type": "execute_result",
          "data": {
            "text/html": [
              "<div>\n",
              "<style scoped>\n",
              "    .dataframe tbody tr th:only-of-type {\n",
              "        vertical-align: middle;\n",
              "    }\n",
              "\n",
              "    .dataframe tbody tr th {\n",
              "        vertical-align: top;\n",
              "    }\n",
              "\n",
              "    .dataframe thead th {\n",
              "        text-align: right;\n",
              "    }\n",
              "</style>\n",
              "<table border=\"1\" class=\"dataframe\">\n",
              "  <thead>\n",
              "    <tr style=\"text-align: right;\">\n",
              "      <th></th>\n",
              "      <th>date</th>\n",
              "      <th>open</th>\n",
              "      <th>high</th>\n",
              "      <th>low</th>\n",
              "      <th>close</th>\n",
              "      <th>volume</th>\n",
              "      <th>label</th>\n",
              "      <th>Y</th>\n",
              "      <th>wma10</th>\n",
              "      <th>sma10</th>\n",
              "      <th>MACD</th>\n",
              "      <th>%K</th>\n",
              "      <th>RSI</th>\n",
              "      <th>%R</th>\n",
              "    </tr>\n",
              "  </thead>\n",
              "  <tbody>\n",
              "    <tr>\n",
              "      <th>25</th>\n",
              "      <td>2015-09-01</td>\n",
              "      <td>1.353480</td>\n",
              "      <td>1.392740</td>\n",
              "      <td>1.336630</td>\n",
              "      <td>1.351610</td>\n",
              "      <td>7.788620e+05</td>\n",
              "      <td>0.995119</td>\n",
              "      <td>0</td>\n",
              "      <td>1.260630</td>\n",
              "      <td>1.243478</td>\n",
              "      <td>-0.193357</td>\n",
              "      <td>58.589932</td>\n",
              "      <td>43.772935</td>\n",
              "      <td>-41.410068</td>\n",
              "    </tr>\n",
              "    <tr>\n",
              "      <th>26</th>\n",
              "      <td>2015-09-02</td>\n",
              "      <td>1.351570</td>\n",
              "      <td>1.354910</td>\n",
              "      <td>1.264620</td>\n",
              "      <td>1.294790</td>\n",
              "      <td>8.837690e+05</td>\n",
              "      <td>0.957961</td>\n",
              "      <td>0</td>\n",
              "      <td>1.269960</td>\n",
              "      <td>1.237698</td>\n",
              "      <td>-0.179722</td>\n",
              "      <td>47.101644</td>\n",
              "      <td>41.931344</td>\n",
              "      <td>-52.898356</td>\n",
              "    </tr>\n",
              "    <tr>\n",
              "      <th>27</th>\n",
              "      <td>2015-09-03</td>\n",
              "      <td>1.295190</td>\n",
              "      <td>1.309990</td>\n",
              "      <td>1.211030</td>\n",
              "      <td>1.264930</td>\n",
              "      <td>7.029910e+05</td>\n",
              "      <td>0.976938</td>\n",
              "      <td>0</td>\n",
              "      <td>1.274911</td>\n",
              "      <td>1.241064</td>\n",
              "      <td>-0.169373</td>\n",
              "      <td>41.064315</td>\n",
              "      <td>40.956172</td>\n",
              "      <td>-58.935685</td>\n",
              "    </tr>\n",
              "    <tr>\n",
              "      <th>28</th>\n",
              "      <td>2015-09-04</td>\n",
              "      <td>1.264930</td>\n",
              "      <td>1.302520</td>\n",
              "      <td>1.236810</td>\n",
              "      <td>1.274410</td>\n",
              "      <td>4.743910e+05</td>\n",
              "      <td>1.00749</td>\n",
              "      <td>1</td>\n",
              "      <td>1.280974</td>\n",
              "      <td>1.254486</td>\n",
              "      <td>-0.158579</td>\n",
              "      <td>51.275983</td>\n",
              "      <td>41.421951</td>\n",
              "      <td>-48.724017</td>\n",
              "    </tr>\n",
              "    <tr>\n",
              "      <th>29</th>\n",
              "      <td>2015-09-05</td>\n",
              "      <td>1.280560</td>\n",
              "      <td>1.342300</td>\n",
              "      <td>1.271190</td>\n",
              "      <td>1.338810</td>\n",
              "      <td>4.484530e+05</td>\n",
              "      <td>1.05053</td>\n",
              "      <td>1</td>\n",
              "      <td>1.296306</td>\n",
              "      <td>1.272369</td>\n",
              "      <td>-0.143177</td>\n",
              "      <td>79.621677</td>\n",
              "      <td>44.618160</td>\n",
              "      <td>-20.378323</td>\n",
              "    </tr>\n",
              "    <tr>\n",
              "      <th>...</th>\n",
              "      <td>...</td>\n",
              "      <td>...</td>\n",
              "      <td>...</td>\n",
              "      <td>...</td>\n",
              "      <td>...</td>\n",
              "      <td>...</td>\n",
              "      <td>...</td>\n",
              "      <td>...</td>\n",
              "      <td>...</td>\n",
              "      <td>...</td>\n",
              "      <td>...</td>\n",
              "      <td>...</td>\n",
              "      <td>...</td>\n",
              "      <td>...</td>\n",
              "    </tr>\n",
              "    <tr>\n",
              "      <th>2232</th>\n",
              "      <td>2021-09-16</td>\n",
              "      <td>3613.073624</td>\n",
              "      <td>3673.310899</td>\n",
              "      <td>3489.805745</td>\n",
              "      <td>3571.294935</td>\n",
              "      <td>2.009390e+10</td>\n",
              "      <td>0.987833</td>\n",
              "      <td>0</td>\n",
              "      <td>3437.158164</td>\n",
              "      <td>3414.422714</td>\n",
              "      <td>72.145158</td>\n",
              "      <td>53.014751</td>\n",
              "      <td>55.265103</td>\n",
              "      <td>-46.985249</td>\n",
              "    </tr>\n",
              "    <tr>\n",
              "      <th>2233</th>\n",
              "      <td>2021-09-17</td>\n",
              "      <td>3569.568210</td>\n",
              "      <td>3589.305140</td>\n",
              "      <td>3356.449969</td>\n",
              "      <td>3398.538778</td>\n",
              "      <td>1.772236e+10</td>\n",
              "      <td>0.951626</td>\n",
              "      <td>0</td>\n",
              "      <td>3434.270176</td>\n",
              "      <td>3411.637160</td>\n",
              "      <td>60.059565</td>\n",
              "      <td>36.677155</td>\n",
              "      <td>49.881616</td>\n",
              "      <td>-63.322845</td>\n",
              "    </tr>\n",
              "    <tr>\n",
              "      <th>2234</th>\n",
              "      <td>2021-09-18</td>\n",
              "      <td>3397.422739</td>\n",
              "      <td>3540.807599</td>\n",
              "      <td>3371.892406</td>\n",
              "      <td>3432.018235</td>\n",
              "      <td>1.599522e+10</td>\n",
              "      <td>1.00985</td>\n",
              "      <td>1</td>\n",
              "      <td>3437.975826</td>\n",
              "      <td>3405.107471</td>\n",
              "      <td>52.577081</td>\n",
              "      <td>40.328274</td>\n",
              "      <td>50.880232</td>\n",
              "      <td>-59.671726</td>\n",
              "    </tr>\n",
              "    <tr>\n",
              "      <th>2235</th>\n",
              "      <td>2021-09-19</td>\n",
              "      <td>3433.287959</td>\n",
              "      <td>3448.322105</td>\n",
              "      <td>3286.172425</td>\n",
              "      <td>3329.447895</td>\n",
              "      <td>1.425761e+10</td>\n",
              "      <td>0.970114</td>\n",
              "      <td>0</td>\n",
              "      <td>3424.219539</td>\n",
              "      <td>3395.318242</td>\n",
              "      <td>37.933318</td>\n",
              "      <td>29.488445</td>\n",
              "      <td>47.741694</td>\n",
              "      <td>-70.511555</td>\n",
              "    </tr>\n",
              "    <tr>\n",
              "      <th>2236</th>\n",
              "      <td>2021-09-20</td>\n",
              "      <td>3329.670715</td>\n",
              "      <td>3343.325417</td>\n",
              "      <td>2940.839160</td>\n",
              "      <td>2958.993505</td>\n",
              "      <td>2.737168e+10</td>\n",
              "      <td>0.888734</td>\n",
              "      <td>0</td>\n",
              "      <td>3344.887769</td>\n",
              "      <td>3370.067008</td>\n",
              "      <td>-3.523921</td>\n",
              "      <td>1.807347</td>\n",
              "      <td>38.503687</td>\n",
              "      <td>-98.192653</td>\n",
              "    </tr>\n",
              "  </tbody>\n",
              "</table>\n",
              "<p>2212 rows × 14 columns</p>\n",
              "</div>"
            ],
            "text/plain": [
              "           date         open         high  ...         %K        RSI         %R\n",
              "25   2015-09-01     1.353480     1.392740  ...  58.589932  43.772935 -41.410068\n",
              "26   2015-09-02     1.351570     1.354910  ...  47.101644  41.931344 -52.898356\n",
              "27   2015-09-03     1.295190     1.309990  ...  41.064315  40.956172 -58.935685\n",
              "28   2015-09-04     1.264930     1.302520  ...  51.275983  41.421951 -48.724017\n",
              "29   2015-09-05     1.280560     1.342300  ...  79.621677  44.618160 -20.378323\n",
              "...         ...          ...          ...  ...        ...        ...        ...\n",
              "2232 2021-09-16  3613.073624  3673.310899  ...  53.014751  55.265103 -46.985249\n",
              "2233 2021-09-17  3569.568210  3589.305140  ...  36.677155  49.881616 -63.322845\n",
              "2234 2021-09-18  3397.422739  3540.807599  ...  40.328274  50.880232 -59.671726\n",
              "2235 2021-09-19  3433.287959  3448.322105  ...  29.488445  47.741694 -70.511555\n",
              "2236 2021-09-20  3329.670715  3343.325417  ...   1.807347  38.503687 -98.192653\n",
              "\n",
              "[2212 rows x 14 columns]"
            ]
          },
          "metadata": {},
          "execution_count": 19
        }
      ]
    },
    {
      "cell_type": "code",
      "metadata": {
        "id": "5W6JmythvkZ3",
        "colab": {
          "base_uri": "https://localhost:8080/"
        },
        "outputId": "ceb98325-4dc7-4ce9-cbeb-a6f482272d9b"
      },
      "source": [
        "from xgboost import XGBClassifier\n",
        "model = XGBClassifier()\n",
        "features = data[['wma10','sma10','MACD','%K','RSI','%R']].to_numpy()\n",
        "print(features)         "
      ],
      "execution_count": 20,
      "outputs": [
        {
          "output_type": "stream",
          "name": "stdout",
          "text": [
            "[[ 1.26063035e+00  1.24347799e+00 -1.93357220e-01  5.85899322e+01\n",
            "   4.37729355e+01 -4.14100678e+01]\n",
            " [ 1.26995981e+00  1.23769799e+00 -1.79722228e-01  4.71016440e+01\n",
            "   4.19313436e+01 -5.28983560e+01]\n",
            " [ 1.27491109e+00  1.24106400e+00 -1.69373421e-01  4.10643153e+01\n",
            "   4.09561715e+01 -5.89356847e+01]\n",
            " ...\n",
            " [ 3.43797583e+03  3.40510747e+03  5.25770814e+01  4.03282742e+01\n",
            "   5.08802318e+01 -5.96717258e+01]\n",
            " [ 3.42421954e+03  3.39531824e+03  3.79333185e+01  2.94884447e+01\n",
            "   4.77416938e+01 -7.05115553e+01]\n",
            " [ 3.34488777e+03  3.37006701e+03 -3.52392083e+00  1.80734667e+00\n",
            "   3.85036872e+01 -9.81926533e+01]]\n"
          ]
        }
      ]
    },
    {
      "cell_type": "code",
      "metadata": {
        "id": "yc0uAycH2Qel",
        "colab": {
          "base_uri": "https://localhost:8080/"
        },
        "outputId": "2395fd0d-ec12-4112-c2c3-0cd071f94a49"
      },
      "source": [
        "y = data['Y'].to_numpy()\n",
        "print(y)"
      ],
      "execution_count": 21,
      "outputs": [
        {
          "output_type": "stream",
          "name": "stdout",
          "text": [
            "[0 0 0 ... 1 0 0]\n"
          ]
        }
      ]
    },
    {
      "cell_type": "code",
      "metadata": {
        "id": "-SHQfovXzoD3",
        "colab": {
          "base_uri": "https://localhost:8080/"
        },
        "outputId": "63eaae20-6a31-46e6-d7c7-5c721f933bdd"
      },
      "source": [
        "model.fit(features,y)"
      ],
      "execution_count": 22,
      "outputs": [
        {
          "output_type": "execute_result",
          "data": {
            "text/plain": [
              "XGBClassifier(base_score=0.5, booster='gbtree', colsample_bylevel=1,\n",
              "              colsample_bynode=1, colsample_bytree=1, gamma=0,\n",
              "              learning_rate=0.1, max_delta_step=0, max_depth=3,\n",
              "              min_child_weight=1, missing=None, n_estimators=100, n_jobs=1,\n",
              "              nthread=None, objective='binary:logistic', random_state=0,\n",
              "              reg_alpha=0, reg_lambda=1, scale_pos_weight=1, seed=None,\n",
              "              silent=None, subsample=1, verbosity=1)"
            ]
          },
          "metadata": {},
          "execution_count": 22
        }
      ]
    },
    {
      "cell_type": "code",
      "metadata": {
        "id": "f-45-6PP6zwa",
        "colab": {
          "base_uri": "https://localhost:8080/",
          "height": 295
        },
        "outputId": "59793e39-e9f4-42d8-de7b-dbf4bfc2d1fc"
      },
      "source": [
        "from xgboost import plot_importance\n",
        "plot_importance(model)\n",
        "pyplot.show()"
      ],
      "execution_count": 23,
      "outputs": [
        {
          "output_type": "display_data",
          "data": {
            "image/png": "[encoded data removed]",
            "text/plain": [
              "<Figure size 432x288 with 1 Axes>"
            ]
          },
          "metadata": {
            "needs_background": "light"
          }
        }
      ]
    },
    {
      "cell_type": "code",
      "metadata": {
        "colab": {
          "base_uri": "https://localhost:8080/"
        },
        "id": "GkYiEjyaHk2H",
        "outputId": "90838710-d86d-47a5-b6f2-a3f559eb6bf5"
      },
      "source": [
        "importance = model.feature_importances_\n",
        "for i,v in enumerate(importance):\n",
        "\tprint('Feature: %0d, Score: %.5f' % (i,v))"
      ],
      "execution_count": 36,
      "outputs": [
        {
          "output_type": "stream",
          "name": "stdout",
          "text": [
            "Feature: 0, Score: 0.09505\n",
            "Feature: 1, Score: 0.11213\n",
            "Feature: 2, Score: 0.12789\n",
            "Feature: 3, Score: 0.54228\n",
            "Feature: 4, Score: 0.12265\n",
            "Feature: 5, Score: 0.00000\n"
          ]
        }
      ]
    },
    {
      "cell_type": "code",
      "metadata": {
        "colab": {
          "base_uri": "https://localhost:8080/",
          "height": 369
        },
        "id": "yHp0HsNyJJo_",
        "outputId": "f5e59d8a-cf43-42fb-a906-56683a48d8c4"
      },
      "source": [
        "from sklearn.tree import DecisionTreeRegressor\n",
        "model2 = DecisionTreeRegressor()\n",
        "model2.fit(features,y)\n",
        "importance2 = model2.feature_importances_\n",
        "for i,v in enumerate(importance2):\n",
        "\tprint('Feature: %0d, Score: %.5f' % (i,v))\n",
        "# plot feature importance\n",
        "pyplot.bar([x for x in range(len(importance2))], importance2)\n",
        "pyplot.show()"
      ],
      "execution_count": 33,
      "outputs": [
        {
          "output_type": "stream",
          "name": "stdout",
          "text": [
            "Feature: 0, Score: 0.12756\n",
            "Feature: 1, Score: 0.11266\n",
            "Feature: 2, Score: 0.16233\n",
            "Feature: 3, Score: 0.11253\n",
            "Feature: 4, Score: 0.20075\n",
            "Feature: 5, Score: 0.28418\n"
          ]
        },
        {
          "output_type": "display_data",
          "data": {
            "image/png": "[encoded data removed]",
            "text/plain": [
              "<Figure size 432x288 with 1 Axes>"
            ]
          },
          "metadata": {
            "needs_background": "light"
          }
        }
      ]
    },
    {
      "cell_type": "markdown",
      "metadata": {
        "id": "iT9PuVsKKXcD"
      },
      "source": [
        "## **Model**"
      ]
    },
    {
      "cell_type": "code",
      "metadata": {
        "id": "X5zWOO5IKbvs"
      },
      "source": [
        ""
      ],
      "execution_count": null,
      "outputs": []
    }
  ]
}