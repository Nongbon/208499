{
  "nbformat": 4,
  "nbformat_minor": 0,
  "metadata": {
    "colab": {
      "name": "draft lable 1.ipynb",
      "provenance": [],
      "include_colab_link": true
    },
    "kernelspec": {
      "name": "python3",
      "display_name": "Python 3"
    },
    "language_info": {
      "name": "python"
    }
  },
  "cells": [
    {
      "cell_type": "markdown",
      "metadata": {
        "id": "view-in-github",
        "colab_type": "text"
      },
      "source": [
        "<a href=\"https://colab.research.google.com/github/Nongbon/208499/blob/main/draft_lable_1.ipynb\" target=\"_parent\"><img src=\"https://colab.research.google.com/assets/colab-badge.svg\" alt=\"Open In Colab\"/></a>"
      ]
    },
    {
      "cell_type": "code",
      "metadata": {
        "colab": {
          "base_uri": "https://localhost:8080/"
        },
        "id": "7iEnvU9Tr8vU",
        "outputId": "89d508d2-2d26-40ae-aa88-fa8c1006cda2"
      },
      "source": [
        "!wget https://raw.githubusercontent.com/Nongbon/208499/main/ETH.csv"
      ],
      "execution_count": 1,
      "outputs": [
        {
          "output_type": "stream",
          "name": "stdout",
          "text": [
            "--2021-09-26 09:50:59--  https://raw.githubusercontent.com/Nongbon/208499/main/ETH.csv\n",
            "Resolving raw.githubusercontent.com (raw.githubusercontent.com)... 185.199.109.133, 185.199.110.133, 185.199.111.133, ...\n",
            "Connecting to raw.githubusercontent.com (raw.githubusercontent.com)|185.199.109.133|:443... connected.\n",
            "HTTP request sent, awaiting response... 200 OK\n",
            "Length: 504403 (493K) [text/plain]\n",
            "Saving to: ‘ETH.csv.4’\n",
            "\n",
            "\rETH.csv.4             0%[                    ]       0  --.-KB/s               \rETH.csv.4           100%[===================>] 492.58K  --.-KB/s    in 0.04s   \n",
            "\n",
            "2021-09-26 09:50:59 (10.7 MB/s) - ‘ETH.csv.4’ saved [504403/504403]\n",
            "\n"
          ]
        }
      ]
    },
    {
      "cell_type": "code",
      "metadata": {
        "colab": {
          "base_uri": "https://localhost:8080/"
        },
        "id": "vsSbg-dUBVCu",
        "outputId": "c4ead894-cc54-4d72-9c0d-10915384a368"
      },
      "source": [
        "!pip install pandas_ta"
      ],
      "execution_count": 80,
      "outputs": [
        {
          "output_type": "stream",
          "name": "stdout",
          "text": [
            "Collecting pandas_ta\n",
            "  Downloading pandas_ta-0.3.14b.tar.gz (115 kB)\n",
            "\u001b[?25l\r\u001b[K     |██▉                             | 10 kB 14.5 MB/s eta 0:00:01\r\u001b[K     |█████▊                          | 20 kB 11.4 MB/s eta 0:00:01\r\u001b[K     |████████▌                       | 30 kB 7.4 MB/s eta 0:00:01\r\u001b[K     |███████████▍                    | 40 kB 7.9 MB/s eta 0:00:01\r\u001b[K     |██████████████▎                 | 51 kB 4.5 MB/s eta 0:00:01\r\u001b[K     |█████████████████               | 61 kB 4.7 MB/s eta 0:00:01\r\u001b[K     |████████████████████            | 71 kB 4.6 MB/s eta 0:00:01\r\u001b[K     |██████████████████████▊         | 81 kB 5.1 MB/s eta 0:00:01\r\u001b[K     |█████████████████████████▋      | 92 kB 5.2 MB/s eta 0:00:01\r\u001b[K     |████████████████████████████▌   | 102 kB 4.3 MB/s eta 0:00:01\r\u001b[K     |███████████████████████████████▎| 112 kB 4.3 MB/s eta 0:00:01\r\u001b[K     |████████████████████████████████| 115 kB 4.3 MB/s \n",
            "\u001b[?25hRequirement already satisfied: pandas in /usr/local/lib/python3.7/dist-packages (from pandas_ta) (1.1.5)\n",
            "Requirement already satisfied: pytz>=2017.2 in /usr/local/lib/python3.7/dist-packages (from pandas->pandas_ta) (2018.9)\n",
            "Requirement already satisfied: numpy>=1.15.4 in /usr/local/lib/python3.7/dist-packages (from pandas->pandas_ta) (1.19.5)\n",
            "Requirement already satisfied: python-dateutil>=2.7.3 in /usr/local/lib/python3.7/dist-packages (from pandas->pandas_ta) (2.8.2)\n",
            "Requirement already satisfied: six>=1.5 in /usr/local/lib/python3.7/dist-packages (from python-dateutil>=2.7.3->pandas->pandas_ta) (1.15.0)\n",
            "Building wheels for collected packages: pandas-ta\n",
            "  Building wheel for pandas-ta (setup.py) ... \u001b[?25l\u001b[?25hdone\n",
            "  Created wheel for pandas-ta: filename=pandas_ta-0.3.14b0-py3-none-any.whl size=218923 sha256=3db0c0a874debb8096bb36e7e1c21a3d8ca5c780bcec3c53a269296825868519\n",
            "  Stored in directory: /root/.cache/pip/wheels/0b/81/f0/cca85757840e4616a2c6b9fe12569d97d324c27cac60724c58\n",
            "Successfully built pandas-ta\n",
            "Installing collected packages: pandas-ta\n",
            "Successfully installed pandas-ta-0.3.14b0\n"
          ]
        }
      ]
    },
    {
      "cell_type": "code",
      "metadata": {
        "id": "WAtzOPtgsWPs"
      },
      "source": [
        "import pandas as pd\n",
        "import pandas_ta as ta\n",
        "import numpy as np\n",
        "import matplotlib.pyplot as plt\n",
        "from matplotlib import dates as mpl_dates"
      ],
      "execution_count": 2,
      "outputs": []
    },
    {
      "cell_type": "code",
      "metadata": {
        "colab": {
          "base_uri": "https://localhost:8080/",
          "height": 417
        },
        "id": "BE3VWsX-sSAN",
        "outputId": "6878c15d-de9a-48a2-fa44-d326b7d5e2f1"
      },
      "source": [
        "data = pd.read_csv(\"ETH.csv\").drop([\"slug\",\"name\",\"symbol\",\"ref_cur\",\"time_open\",\"time_close\",\"time_high\",\"time_low\",\"id\",\"market_cap\"],axis=1)\n",
        "data = data.loc[:, ~data.columns.str.contains('^Unnamed')]\n",
        "data = data.rename({'timestamp':'date'},axis=1)\n",
        "data['date'] = data['date'].map(lambda x: x.rstrip('23:59:59'))\n",
        "data['date'] = pd.to_datetime(data['date'])\n",
        "data"
      ],
      "execution_count": 3,
      "outputs": [
        {
          "output_type": "execute_result",
          "data": {
            "text/html": [
              "<div>\n",
              "<style scoped>\n",
              "    .dataframe tbody tr th:only-of-type {\n",
              "        vertical-align: middle;\n",
              "    }\n",
              "\n",
              "    .dataframe tbody tr th {\n",
              "        vertical-align: top;\n",
              "    }\n",
              "\n",
              "    .dataframe thead th {\n",
              "        text-align: right;\n",
              "    }\n",
              "</style>\n",
              "<table border=\"1\" class=\"dataframe\">\n",
              "  <thead>\n",
              "    <tr style=\"text-align: right;\">\n",
              "      <th></th>\n",
              "      <th>date</th>\n",
              "      <th>open</th>\n",
              "      <th>high</th>\n",
              "      <th>low</th>\n",
              "      <th>close</th>\n",
              "      <th>volume</th>\n",
              "    </tr>\n",
              "  </thead>\n",
              "  <tbody>\n",
              "    <tr>\n",
              "      <th>0</th>\n",
              "      <td>2015-08-07</td>\n",
              "      <td>2.831620</td>\n",
              "      <td>3.536610</td>\n",
              "      <td>2.521120</td>\n",
              "      <td>2.772120</td>\n",
              "      <td>1.643290e+05</td>\n",
              "    </tr>\n",
              "    <tr>\n",
              "      <th>1</th>\n",
              "      <td>2015-08-08</td>\n",
              "      <td>2.793760</td>\n",
              "      <td>2.798810</td>\n",
              "      <td>0.714725</td>\n",
              "      <td>0.753325</td>\n",
              "      <td>6.741880e+05</td>\n",
              "    </tr>\n",
              "    <tr>\n",
              "      <th>2</th>\n",
              "      <td>2015-08-09</td>\n",
              "      <td>0.706136</td>\n",
              "      <td>0.879810</td>\n",
              "      <td>0.629191</td>\n",
              "      <td>0.701897</td>\n",
              "      <td>5.321700e+05</td>\n",
              "    </tr>\n",
              "    <tr>\n",
              "      <th>3</th>\n",
              "      <td>2015-08-10</td>\n",
              "      <td>0.713989</td>\n",
              "      <td>0.729854</td>\n",
              "      <td>0.636546</td>\n",
              "      <td>0.708448</td>\n",
              "      <td>4.052830e+05</td>\n",
              "    </tr>\n",
              "    <tr>\n",
              "      <th>4</th>\n",
              "      <td>2015-08-11</td>\n",
              "      <td>0.708087</td>\n",
              "      <td>1.131410</td>\n",
              "      <td>0.663235</td>\n",
              "      <td>1.067860</td>\n",
              "      <td>1.463100e+06</td>\n",
              "    </tr>\n",
              "    <tr>\n",
              "      <th>...</th>\n",
              "      <td>...</td>\n",
              "      <td>...</td>\n",
              "      <td>...</td>\n",
              "      <td>...</td>\n",
              "      <td>...</td>\n",
              "      <td>...</td>\n",
              "    </tr>\n",
              "    <tr>\n",
              "      <th>2232</th>\n",
              "      <td>2021-09-16</td>\n",
              "      <td>3613.073624</td>\n",
              "      <td>3673.310899</td>\n",
              "      <td>3489.805745</td>\n",
              "      <td>3571.294935</td>\n",
              "      <td>2.009390e+10</td>\n",
              "    </tr>\n",
              "    <tr>\n",
              "      <th>2233</th>\n",
              "      <td>2021-09-17</td>\n",
              "      <td>3569.568210</td>\n",
              "      <td>3589.305140</td>\n",
              "      <td>3356.449969</td>\n",
              "      <td>3398.538778</td>\n",
              "      <td>1.772236e+10</td>\n",
              "    </tr>\n",
              "    <tr>\n",
              "      <th>2234</th>\n",
              "      <td>2021-09-18</td>\n",
              "      <td>3397.422739</td>\n",
              "      <td>3540.807599</td>\n",
              "      <td>3371.892406</td>\n",
              "      <td>3432.018235</td>\n",
              "      <td>1.599522e+10</td>\n",
              "    </tr>\n",
              "    <tr>\n",
              "      <th>2235</th>\n",
              "      <td>2021-09-19</td>\n",
              "      <td>3433.287959</td>\n",
              "      <td>3448.322105</td>\n",
              "      <td>3286.172425</td>\n",
              "      <td>3329.447895</td>\n",
              "      <td>1.425761e+10</td>\n",
              "    </tr>\n",
              "    <tr>\n",
              "      <th>2236</th>\n",
              "      <td>2021-09-20</td>\n",
              "      <td>3329.670715</td>\n",
              "      <td>3343.325417</td>\n",
              "      <td>2940.839160</td>\n",
              "      <td>2958.993505</td>\n",
              "      <td>2.737168e+10</td>\n",
              "    </tr>\n",
              "  </tbody>\n",
              "</table>\n",
              "<p>2237 rows × 6 columns</p>\n",
              "</div>"
            ],
            "text/plain": [
              "           date         open  ...        close        volume\n",
              "0    2015-08-07     2.831620  ...     2.772120  1.643290e+05\n",
              "1    2015-08-08     2.793760  ...     0.753325  6.741880e+05\n",
              "2    2015-08-09     0.706136  ...     0.701897  5.321700e+05\n",
              "3    2015-08-10     0.713989  ...     0.708448  4.052830e+05\n",
              "4    2015-08-11     0.708087  ...     1.067860  1.463100e+06\n",
              "...         ...          ...  ...          ...           ...\n",
              "2232 2021-09-16  3613.073624  ...  3571.294935  2.009390e+10\n",
              "2233 2021-09-17  3569.568210  ...  3398.538778  1.772236e+10\n",
              "2234 2021-09-18  3397.422739  ...  3432.018235  1.599522e+10\n",
              "2235 2021-09-19  3433.287959  ...  3329.447895  1.425761e+10\n",
              "2236 2021-09-20  3329.670715  ...  2958.993505  2.737168e+10\n",
              "\n",
              "[2237 rows x 6 columns]"
            ]
          },
          "metadata": {},
          "execution_count": 3
        }
      ]
    },
    {
      "cell_type": "code",
      "metadata": {
        "colab": {
          "base_uri": "https://localhost:8080/"
        },
        "id": "F7FLUG4NRUVj",
        "outputId": "dfc1bf0b-c70e-4671-ee36-111600bd7de1"
      },
      "source": [
        "data.info()"
      ],
      "execution_count": 4,
      "outputs": [
        {
          "output_type": "stream",
          "name": "stdout",
          "text": [
            "<class 'pandas.core.frame.DataFrame'>\n",
            "RangeIndex: 2237 entries, 0 to 2236\n",
            "Data columns (total 6 columns):\n",
            " #   Column  Non-Null Count  Dtype         \n",
            "---  ------  --------------  -----         \n",
            " 0   date    2237 non-null   datetime64[ns]\n",
            " 1   open    2237 non-null   float64       \n",
            " 2   high    2237 non-null   float64       \n",
            " 3   low     2237 non-null   float64       \n",
            " 4   close   2237 non-null   float64       \n",
            " 5   volume  2237 non-null   float64       \n",
            "dtypes: datetime64[ns](1), float64(5)\n",
            "memory usage: 105.0 KB\n"
          ]
        }
      ]
    },
    {
      "cell_type": "code",
      "metadata": {
        "colab": {
          "base_uri": "https://localhost:8080/",
          "height": 606
        },
        "id": "nv7i5o6lIYJo",
        "outputId": "ca6e1593-ba29-4d9f-dbec-192276f95fb4"
      },
      "source": [
        "plt.figure(figsize=(20,10))\n",
        "plt.plot_date(data['date'],data['close'])\n",
        "plt.xlabel('Date')\n",
        "plt.ylabel('Close price')\n",
        "plt.show()"
      ],
      "execution_count": 5,
      "outputs": [
        {
          "output_type": "display_data",
          "data": {
            "image/png": "[encoded data removed]",
            "text/plain": [
              "<Figure size 1440x720 with 1 Axes>"
            ]
          },
          "metadata": {
            "needs_background": "light"
          }
        }
      ]
    },
    {
      "cell_type": "code",
      "metadata": {
        "id": "3fdx3n4NBTDT",
        "colab": {
          "base_uri": "https://localhost:8080/"
        },
        "outputId": "5d2377b9-de7b-451c-995c-9e1e8204df54"
      },
      "source": [
        "n = len(data)\n",
        "n"
      ],
      "execution_count": 6,
      "outputs": [
        {
          "output_type": "execute_result",
          "data": {
            "text/plain": [
              "2237"
            ]
          },
          "metadata": {},
          "execution_count": 6
        }
      ]
    },
    {
      "cell_type": "code",
      "metadata": {
        "id": "Ym9h8WYAs0Dm",
        "colab": {
          "base_uri": "https://localhost:8080/"
        },
        "outputId": "f1bc699e-94d0-4ad0-af0a-f626f63bfbd4"
      },
      "source": [
        "data['label'] = ''\n",
        "for i in range(len(data)) :\n",
        "  if i+1 < n :\n",
        "    data['label'][i+1] = data['close'][i+1] / data['close'][i]"
      ],
      "execution_count": 8,
      "outputs": [
        {
          "output_type": "stream",
          "name": "stderr",
          "text": [
            "/usr/local/lib/python3.7/dist-packages/ipykernel_launcher.py:4: SettingWithCopyWarning: \n",
            "A value is trying to be set on a copy of a slice from a DataFrame\n",
            "\n",
            "See the caveats in the documentation: https://pandas.pydata.org/pandas-docs/stable/user_guide/indexing.html#returning-a-view-versus-a-copy\n",
            "  after removing the cwd from sys.path.\n"
          ]
        }
      ]
    },
    {
      "cell_type": "code",
      "metadata": {
        "id": "9kPlSuhS7th9",
        "colab": {
          "base_uri": "https://localhost:8080/"
        },
        "outputId": "da240790-852c-4ea4-83a6-71f8948aa636"
      },
      "source": [
        "data['Y'] = ''\n",
        "for i in range(len(data)) :\n",
        "  if i+1 < n :\n",
        "    if data['label'][i+1] > 1 :\n",
        "      data['Y'][i+1] = 1\n",
        "    else : \n",
        "      data['Y'][i+1] = 0"
      ],
      "execution_count": 9,
      "outputs": [
        {
          "output_type": "stream",
          "name": "stderr",
          "text": [
            "/usr/local/lib/python3.7/dist-packages/ipykernel_launcher.py:7: SettingWithCopyWarning: \n",
            "A value is trying to be set on a copy of a slice from a DataFrame\n",
            "\n",
            "See the caveats in the documentation: https://pandas.pydata.org/pandas-docs/stable/user_guide/indexing.html#returning-a-view-versus-a-copy\n",
            "  import sys\n",
            "/usr/local/lib/python3.7/dist-packages/ipykernel_launcher.py:5: SettingWithCopyWarning: \n",
            "A value is trying to be set on a copy of a slice from a DataFrame\n",
            "\n",
            "See the caveats in the documentation: https://pandas.pydata.org/pandas-docs/stable/user_guide/indexing.html#returning-a-view-versus-a-copy\n",
            "  \"\"\"\n"
          ]
        }
      ]
    },
    {
      "cell_type": "markdown",
      "metadata": {
        "id": "j1ovI0T6EHoK"
      },
      "source": [
        "### **Input Indicator** "
      ]
    },
    {
      "cell_type": "code",
      "metadata": {
        "id": "XCxm34SI7RIU"
      },
      "source": [
        "t_period = 10"
      ],
      "execution_count": 10,
      "outputs": []
    },
    {
      "cell_type": "markdown",
      "metadata": {
        "id": "RwHWlmC2sb-J"
      },
      "source": [
        "WMA 10"
      ]
    },
    {
      "cell_type": "code",
      "metadata": {
        "id": "RxA-AKlisd55"
      },
      "source": [
        "weights = np.arange(1,11)\n",
        "weights"
      ],
      "execution_count": null,
      "outputs": []
    },
    {
      "cell_type": "code",
      "metadata": {
        "id": "k28-pHaMsg6i"
      },
      "source": [
        "data['wma10'] = ''\n",
        "data['wma10'] = data['close'].rolling(t_period).apply(lambda close: np.dot(close, weights)/weights.sum(), raw=True)"
      ],
      "execution_count": null,
      "outputs": []
    },
    {
      "cell_type": "markdown",
      "metadata": {
        "id": "bzZSg-tJsl20"
      },
      "source": [
        "SMA 10"
      ]
    },
    {
      "cell_type": "code",
      "metadata": {
        "id": "QcZ8jWDEsnbL"
      },
      "source": [
        "data['sma10'] = ''\n",
        "data['sma10'] = data['close'].rolling(t_period).mean()"
      ],
      "execution_count": null,
      "outputs": []
    },
    {
      "cell_type": "markdown",
      "metadata": {
        "id": "ncRvqeQ5srC3"
      },
      "source": [
        "MACD"
      ]
    },
    {
      "cell_type": "code",
      "metadata": {
        "id": "SUhZd0sMst8s"
      },
      "source": [
        "exp1 = data['close'].ewm(span = 12 , adjust = False , min_periods=12).mean()\n",
        "exp2 = data['close'].ewm(span = 26 , adjust = False , min_periods=26).mean()\n",
        "macd = exp1 - exp2\n",
        "data['MACD'] = macd"
      ],
      "execution_count": null,
      "outputs": []
    },
    {
      "cell_type": "markdown",
      "metadata": {
        "id": "kdK8BjNwswfn"
      },
      "source": [
        "Stochastic (%K) 14"
      ]
    },
    {
      "cell_type": "code",
      "metadata": {
        "id": "UwPURB0lsz_O"
      },
      "source": [
        "k_period = 14\n",
        "# Adds a \"n_high\" column with max value of previous 14 periods\n",
        "n_high = data['high'].rolling(k_period).max()\n",
        "# Adds an \"n_low\" column with min value of previous 14 periods\n",
        "n_low = data['low'].rolling(k_period).min()\n",
        "# Uses the min/max values to calculate the %k (as a percentage)\n",
        "data['%K'] = (data['close'] - n_low)  / (n_high - n_low) * 100"
      ],
      "execution_count": null,
      "outputs": []
    },
    {
      "cell_type": "markdown",
      "metadata": {
        "id": "IrvAjYpEs2fj"
      },
      "source": [
        "RSI The first RS value requires the price from all 14 of the first trading days"
      ]
    },
    {
      "cell_type": "code",
      "metadata": {
        "id": "-KO3qiFls3WS"
      },
      "source": [
        "def rsi(data, periods = 14, ema = True):\n",
        "    \"\"\"\n",
        "    Returns a pd.Series with the relative strength index.\n",
        "    \"\"\"\n",
        "    close_delta = data['close'].diff()\n",
        "\n",
        "    # Make two series: one for lower closes and one for higher closes\n",
        "    up = close_delta.clip(lower=0)\n",
        "    down = -1 * close_delta.clip(upper=0)\n",
        "    \n",
        "    if ema == True:\n",
        "\t    # Use exponential moving average\n",
        "        ma_up = up.ewm(com = periods - 1, adjust=True, min_periods = periods).mean()\n",
        "        ma_down = down.ewm(com = periods - 1, adjust=True, min_periods = periods).mean()\n",
        "    else:\n",
        "        # Use simple moving average\n",
        "        ma_up = up.rolling(window = periods, adjust=False).mean()\n",
        "        ma_down = down.rolling(window = periods, adjust=False).mean()\n",
        "        \n",
        "    rsi = ma_up / ma_down\n",
        "    rsi = 100 - (100/(1 + rsi))\n",
        "    return rsi"
      ],
      "execution_count": null,
      "outputs": []
    },
    {
      "cell_type": "code",
      "metadata": {
        "id": "Wil1B-mrs6_E"
      },
      "source": [
        "data['RSI'] = rsi(data, periods = 14, ema = True)"
      ],
      "execution_count": null,
      "outputs": []
    },
    {
      "cell_type": "markdown",
      "metadata": {
        "id": "qY-ULOKQtD5z"
      },
      "source": [
        "Williams (%R)"
      ]
    },
    {
      "cell_type": "code",
      "metadata": {
        "id": "tKh9IxtHtIpn"
      },
      "source": [
        "def get_wr(high, low, close, periods = 14):\n",
        "    highh = high.rolling(14).max() \n",
        "    lowl = low.rolling(14).min()\n",
        "    wr = -100 * ((highh - close) / (highh - lowl))\n",
        "    return wr\n",
        "\n",
        "data['%R'] = get_wr(data['high'], data['low'], data['close'], periods = 14)"
      ],
      "execution_count": null,
      "outputs": []
    },
    {
      "cell_type": "markdown",
      "metadata": {
        "id": "hqcTIqpwtwK3"
      },
      "source": [
        "## **Graph Indicator**"
      ]
    },
    {
      "cell_type": "code",
      "metadata": {
        "id": "zpiSVR2Mt0lT"
      },
      "source": [
        "plt.figure(figsize = (20,10))\n",
        "plt.plot(data['close'], label=\"close\")\n",
        "plt.plot(data['wma10'], label=\"10-Day WMA\" , color='lime')\n",
        "plt.plot(data['sma10'], label=\"10-Day SMA\", color='red')\n",
        "plt.plot(data['%K'], label=\"Stochastic 14-Day\", color='yellow')\n",
        "plt.plot(data['RSI'], label=\"Relative Strength Index (RSI) 14-Day\", color='blue')\n",
        "plt.plot(data['%R'], label=\"Williams %R  14-Day\", color='Black')\n",
        "plt.plot(data['MACD'], label=\"MACD\", color='pink')\n",
        "plt.xlabel(\"Date\")\n",
        "plt.ylabel(\"Close\")\n",
        "plt.legend()\n",
        "plt.show()"
      ],
      "execution_count": null,
      "outputs": []
    },
    {
      "cell_type": "markdown",
      "metadata": {
        "id": "pallZ4dYt7Vo"
      },
      "source": [
        "## **Correlation Test**"
      ]
    },
    {
      "cell_type": "code",
      "metadata": {
        "id": "g5dJR-2St_rM"
      },
      "source": [
        "from scipy.stats import spearmanr\n",
        "cor,p = spearmanr(data['Y'][13:],data['%K'][13:])\n",
        "print(cor,p)"
      ],
      "execution_count": null,
      "outputs": []
    },
    {
      "cell_type": "code",
      "metadata": {
        "id": "CgMCPbo4uCHe"
      },
      "source": [
        "data.corr()['close']"
      ],
      "execution_count": null,
      "outputs": []
    },
    {
      "cell_type": "markdown",
      "metadata": {
        "id": "vKzas7-vEOqw"
      },
      "source": [
        "# **WMA 10**"
      ]
    },
    {
      "cell_type": "markdown",
      "metadata": {
        "id": "CHKlnJ_z6ADh"
      },
      "source": [
        "## **MACD**"
      ]
    },
    {
      "cell_type": "code",
      "metadata": {
        "id": "fzqOdrRLBz4f"
      },
      "source": [
        "#data.ta.macd(close='close', fast=12, slow=26, signal=9, append=True)"
      ],
      "execution_count": null,
      "outputs": []
    }
  ]
}